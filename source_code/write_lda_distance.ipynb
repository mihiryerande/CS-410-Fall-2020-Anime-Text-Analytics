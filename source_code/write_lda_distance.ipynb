{
 "cells": [
  {
   "cell_type": "markdown",
   "metadata": {},
   "source": [
    "# Anime Similarity\n",
    "\n",
    ">After training our LDA model, we obtained genre-breakdowns for each anime.\n",
    ">\n",
    ">Using these, we can further determine the similarity between anime shows.\n",
    ">\n",
    ">One way of accomplishing this is by using the [*Hellinger distance*](https://radimrehurek.com/gensim_3.8.3/auto_examples/tutorials/run_distance_metrics.html#hellinger).\n",
    ">\n",
    ">Two shows having a **shorter distance** can be regarded as **more similar**, and vice-versa.\n",
    ">\n",
    ">The following will compute the distance per pair of shows.\n",
    ">\n",
    ">For each show, the top 5 closest other shows will be written in one file in the JSON Lines format."
   ]
  },
  {
   "cell_type": "markdown",
   "metadata": {},
   "source": [
    "## Load LDA Model"
   ]
  },
  {
   "cell_type": "code",
   "execution_count": 1,
   "metadata": {},
   "outputs": [],
   "source": [
    "from gensim.models import LdaModel\n",
    "\n",
    "lda_model = LdaModel.load('lda_model/lda_model')"
   ]
  },
  {
   "cell_type": "markdown",
   "metadata": {},
   "source": [
    "## Read Text Input"
   ]
  },
  {
   "cell_type": "code",
   "execution_count": 2,
   "metadata": {},
   "outputs": [],
   "source": [
    "from gensim.corpora.dictionary import Dictionary\n",
    "from lda_helpers import read_lda_input  # Package with helpers\n",
    "\n",
    "# Read anime show text -with titles-, for later\n",
    "title_texts = read_lda_input('lda_input/lda_input.jl', title=True)\n",
    "title2probs = {title: lda_model[lda_model.id2word.doc2bow(text)] for title, text in title_texts}"
   ]
  },
  {
   "cell_type": "markdown",
   "metadata": {},
   "source": [
    "## Compute Hellinger Distances"
   ]
  },
  {
   "cell_type": "code",
   "execution_count": 3,
   "metadata": {},
   "outputs": [],
   "source": [
    "from os import mkdir\n",
    "\n",
    "# Directory to write output file\n",
    "mkdir('lda_distance')"
   ]
  },
  {
   "cell_type": "code",
   "execution_count": 4,
   "metadata": {},
   "outputs": [
    {
     "data": {
      "application/vnd.jupyter.widget-view+json": {
       "model_id": "bb565680546f44b48ec584b3b23b047f",
       "version_major": 2,
       "version_minor": 0
      },
      "text/plain": [
       "HBox(children=(HTML(value='Anime Shows'), FloatProgress(value=0.0, max=4757.0), HTML(value='')))"
      ]
     },
     "metadata": {},
     "output_type": "display_data"
    },
    {
     "data": {
      "application/vnd.jupyter.widget-view+json": {
       "model_id": "ce4cde85a3cb443da54015979dc373dc",
       "version_major": 2,
       "version_minor": 0
      },
      "text/plain": [
       "HBox(children=(HTML(value='Anime Pairs'), FloatProgress(value=0.0, max=11312146.0), HTML(value='')))"
      ]
     },
     "metadata": {},
     "output_type": "display_data"
    },
    {
     "data": {
      "application/vnd.jupyter.widget-view+json": {
       "model_id": "cc20f391690d46b58baf2e602826dc7b",
       "version_major": 2,
       "version_minor": 0
      },
      "text/plain": [
       "HBox(children=(HTML(value='Closest 5'), FloatProgress(value=0.0, max=23785.0), HTML(value='')))"
      ]
     },
     "metadata": {},
     "output_type": "display_data"
    },
    {
     "name": "stdout",
     "output_type": "stream",
     "text": [
      "\n",
      "\n",
      "\n"
     ]
    }
   ],
   "source": [
    "from collections import defaultdict\n",
    "from gensim.matutils import hellinger\n",
    "import json\n",
    "from math import comb\n",
    "from tqdm.notebook import tqdm\n",
    "\n",
    "# Progress bars\n",
    "N = len(title2probs)\n",
    "bar1 = tqdm(title2probs.items(), desc='Anime Shows', bar_format='{l_bar}{bar}{n_fmt}/{total_fmt}{postfix}')\n",
    "bar2 = tqdm(total=comb(N,2),     desc='Anime Pairs', bar_format='{l_bar}{bar}{n_fmt}/{total_fmt} [Elapsed: {elapsed}, Remaining: {remaining}]')\n",
    "bar3 = tqdm(total=N*5,           desc='Closest 5',   bar_format='{l_bar}{bar}{n_fmt}/{total_fmt}')\n",
    "\n",
    "# Keep track of pairs' distances\n",
    "computed = set()  # Already computed Titles\n",
    "full_dist_map = defaultdict(dict)\n",
    "closest_5 = dict()\n",
    "\n",
    "with open('lda_distance/lda_distance.jl', 'w') as f:\n",
    "    for title1, probs1 in bar1:\n",
    "        bar1.set_postfix_str(f'(Working on \"{title1}\")')\n",
    "        \n",
    "        # Compute distances between title1 and all others\n",
    "        for title2, probs2 in title2probs.items():\n",
    "            if title1 == title2 or title2 in computed:\n",
    "                continue  # No need to compute this\n",
    "            else:\n",
    "                dist = hellinger(probs1, probs2)\n",
    "                full_dist_map[title1][title2] = dist\n",
    "                full_dist_map[title2][title1] = dist\n",
    "                bar2.update()\n",
    "        \n",
    "        # Write closest 5 to file\n",
    "        closest_5 = sorted(full_dist_map[title1].items(), key=lambda x: x[1])[:5]\n",
    "        for i, (title2, dist) in enumerate(closest_5):\n",
    "            record = {\n",
    "                'Title 1': title1,\n",
    "                'Title 2': title2,\n",
    "                'Similarity Rank': i+1,\n",
    "                'Distance': dist\n",
    "            }\n",
    "            line = json.dumps(record)\n",
    "            f.write('{}\\n'.format(line))\n",
    "            bar3.update()\n",
    "        \n",
    "        computed.add(title1)\n",
    "        bar1.set_postfix_str('')\n",
    "    bar2.close()\n",
    "    bar3.close()"
   ]
  }
 ],
 "metadata": {
  "kernelspec": {
   "display_name": "Python 3",
   "language": "python",
   "name": "python3"
  },
  "language_info": {
   "codemirror_mode": {
    "name": "ipython",
    "version": 3
   },
   "file_extension": ".py",
   "mimetype": "text/x-python",
   "name": "python",
   "nbconvert_exporter": "python",
   "pygments_lexer": "ipython3",
   "version": "3.8.5"
  },
  "widgets": {
   "application/vnd.jupyter.widget-state+json": {
    "state": {
     "0040c83e1a77429aa39d43a472b9533f": {
      "model_module": "@jupyter-widgets/base",
      "model_module_version": "1.2.0",
      "model_name": "LayoutModel",
      "state": {}
     },
     "01275f4fe02a48618c8f83c605266208": {
      "model_module": "@jupyter-widgets/controls",
      "model_module_version": "1.5.0",
      "model_name": "HTMLModel",
      "state": {
       "layout": "IPY_MODEL_a4b300508f074534aa80e746aab5c64d",
       "style": "IPY_MODEL_9b6309a63fbd4a55bb08ad549cc7512d"
      }
     },
     "01c5392905904cfd88d2f130ae169d47": {
      "model_module": "@jupyter-widgets/controls",
      "model_module_version": "1.5.0",
      "model_name": "HTMLModel",
      "state": {
       "layout": "IPY_MODEL_ee87b3836a294612bd556b98a391e297",
       "style": "IPY_MODEL_eced7a8eaa5f468ebb2694f699cec145",
       "value": "12/4757, (Working on &quot;Hajime no Ippo: Rising&quot;)"
      }
     },
     "033ac236583947948920ace4d75bab02": {
      "model_module": "@jupyter-widgets/controls",
      "model_module_version": "1.5.0",
      "model_name": "HBoxModel",
      "state": {
       "children": [
        "IPY_MODEL_9686fd63affd436d95ae40c084f37560",
        "IPY_MODEL_a497f1495d4e4d45bff9f1b7e32bf246",
        "IPY_MODEL_833c32dbdcbd47ea966c705427d37963"
       ],
       "layout": "IPY_MODEL_e71972d029064d7093d567e7dba9daba"
      }
     },
     "0365248877d548789a1ade86c89dc663": {
      "model_module": "@jupyter-widgets/base",
      "model_module_version": "1.2.0",
      "model_name": "LayoutModel",
      "state": {}
     },
     "05305738d6314afda1a89065f9d79ae7": {
      "model_module": "@jupyter-widgets/base",
      "model_module_version": "1.2.0",
      "model_name": "LayoutModel",
      "state": {}
     },
     "0592a166f38040fb80f0759972523db9": {
      "model_module": "@jupyter-widgets/controls",
      "model_module_version": "1.5.0",
      "model_name": "HBoxModel",
      "state": {
       "children": [
        "IPY_MODEL_b353e3a91c0f4cb9a9442e86ef83357c",
        "IPY_MODEL_6348afde978643298d08975514de9022",
        "IPY_MODEL_67a856a3d73841b1be66e774f2f7267e"
       ],
       "layout": "IPY_MODEL_d6a96d27f6dc4c8288e4a31b18535c9b"
      }
     },
     "05c3939cc60e44899d21eff3938bc366": {
      "model_module": "@jupyter-widgets/base",
      "model_module_version": "1.2.0",
      "model_name": "LayoutModel",
      "state": {}
     },
     "07635c44bc144770884691f44c25b1a2": {
      "model_module": "@jupyter-widgets/base",
      "model_module_version": "1.2.0",
      "model_name": "LayoutModel",
      "state": {}
     },
     "083a7b48674548f7aebdbe6200ccdb30": {
      "model_module": "@jupyter-widgets/base",
      "model_module_version": "1.2.0",
      "model_name": "LayoutModel",
      "state": {}
     },
     "0993c7b94a0f452e9eab4436018f4705": {
      "model_module": "@jupyter-widgets/controls",
      "model_module_version": "1.5.0",
      "model_name": "HTMLModel",
      "state": {
       "layout": "IPY_MODEL_1fb478c9dd6041678325d04a475b6b51",
       "style": "IPY_MODEL_78f1da5515eb4b9dab0a8e15f744e5af",
       "value": "Closest 5:  10%"
      }
     },
     "09dbadb699924d8aaa0c501bb3649d46": {
      "model_module": "@jupyter-widgets/controls",
      "model_module_version": "1.5.0",
      "model_name": "ProgressStyleModel",
      "state": {
       "description_width": ""
      }
     },
     "0a8fb1a6e13b42f391599692fd2fb84d": {
      "model_module": "@jupyter-widgets/base",
      "model_module_version": "1.2.0",
      "model_name": "LayoutModel",
      "state": {}
     },
     "0b9ead02ccae4d879a4169ff6fbca12f": {
      "model_module": "@jupyter-widgets/controls",
      "model_module_version": "1.5.0",
      "model_name": "DescriptionStyleModel",
      "state": {
       "description_width": ""
      }
     },
     "0ba758e427fb4cd89e76267b0611a229": {
      "model_module": "@jupyter-widgets/controls",
      "model_module_version": "1.5.0",
      "model_name": "HTMLModel",
      "state": {
       "layout": "IPY_MODEL_4dc06ee229ef4c1fa989c33e3d34f1e0",
       "style": "IPY_MODEL_a7a4ff5d286d47f1af6f1b26832079d2",
       "value": "Anime Shows"
      }
     },
     "0d9c27b6874f4eb8b4327c88d3faf014": {
      "model_module": "@jupyter-widgets/controls",
      "model_module_version": "1.5.0",
      "model_name": "HTMLModel",
      "state": {
       "layout": "IPY_MODEL_be1e45490e1b4fe0a349ee89a0405902",
       "style": "IPY_MODEL_5d035e74de5b4a87978bad2419e0ef7d",
       "value": "337498/11312146 [Elapsed: 18:02, Remaining: 9:46:29]"
      }
     },
     "0f9ae97852d9483daf84073e6b120e66": {
      "model_module": "@jupyter-widgets/controls",
      "model_module_version": "1.5.0",
      "model_name": "DescriptionStyleModel",
      "state": {
       "description_width": ""
      }
     },
     "102750e4f61c4811a01d7a86fecdfd48": {
      "model_module": "@jupyter-widgets/controls",
      "model_module_version": "1.5.0",
      "model_name": "ProgressStyleModel",
      "state": {
       "description_width": ""
      }
     },
     "1079624860684f96ba63da760e4e95b1": {
      "model_module": "@jupyter-widgets/base",
      "model_module_version": "1.2.0",
      "model_name": "LayoutModel",
      "state": {}
     },
     "11f83e6beee548f69d032b953b577159": {
      "model_module": "@jupyter-widgets/controls",
      "model_module_version": "1.5.0",
      "model_name": "HTMLModel",
      "state": {
       "layout": "IPY_MODEL_2ee448aa7d4c4645a7fda65d25051990",
       "style": "IPY_MODEL_0f9ae97852d9483daf84073e6b120e66",
       "value": "0/11312146 [Elapsed: 08:06, Remaining: ?]"
      }
     },
     "1201607031594f65ac2dce011aa31402": {
      "model_module": "@jupyter-widgets/controls",
      "model_module_version": "1.5.0",
      "model_name": "DescriptionStyleModel",
      "state": {
       "description_width": ""
      }
     },
     "12b114ff23fc42cb9d1192fdb4a9c4df": {
      "model_module": "@jupyter-widgets/controls",
      "model_module_version": "1.5.0",
      "model_name": "HTMLModel",
      "state": {
       "layout": "IPY_MODEL_afdd1f4a5712443e8fab5b49037eddbd",
       "style": "IPY_MODEL_a10b212811804dc095034d10675c8e06",
       "value": "Anime Pairs:   0%"
      }
     },
     "146724e3b5cf489aadaf0a9c7d409f24": {
      "model_module": "@jupyter-widgets/base",
      "model_module_version": "1.2.0",
      "model_name": "LayoutModel",
      "state": {}
     },
     "1537b1cfc84647279b80c5d04317dc5e": {
      "model_module": "@jupyter-widgets/controls",
      "model_module_version": "1.5.0",
      "model_name": "HTMLModel",
      "state": {
       "layout": "IPY_MODEL_6372bf86c85248adac6eeb299007f175",
       "style": "IPY_MODEL_841bab356ef24388893891a35859377a",
       "value": "Anime Pairs:  19%"
      }
     },
     "16752a563478407586cb811479ab615c": {
      "model_module": "@jupyter-widgets/controls",
      "model_module_version": "1.5.0",
      "model_name": "FloatProgressModel",
      "state": {
       "bar_style": "danger",
       "layout": "IPY_MODEL_d978d55a7a14498cb0e17ae64c1b62d8",
       "max": 11312146,
       "style": "IPY_MODEL_afe07293be8d4741ae2a9588d6143f72"
      }
     },
     "17201a6b847746c89e5097decb852795": {
      "model_module": "@jupyter-widgets/controls",
      "model_module_version": "1.5.0",
      "model_name": "HBoxModel",
      "state": {
       "children": [
        "IPY_MODEL_a6e814b7ee6d456b966c49101ab51345",
        "IPY_MODEL_6b0cd78732f5493a8eb5a2638fbbeec0",
        "IPY_MODEL_60cf0522aba94ad6801eca18eb1f33c9"
       ],
       "layout": "IPY_MODEL_36f0e121ce9e443d9b323bbca467fa3a"
      }
     },
     "1752c8d2a0114b2a824bdb5c9539d167": {
      "model_module": "@jupyter-widgets/base",
      "model_module_version": "1.2.0",
      "model_name": "LayoutModel",
      "state": {}
     },
     "177b92999f624ae7a2e4b183d020bf0a": {
      "model_module": "@jupyter-widgets/controls",
      "model_module_version": "1.5.0",
      "model_name": "HBoxModel",
      "state": {
       "children": [
        "IPY_MODEL_cdc04117b5d544e9aee1aa549f9b523e",
        "IPY_MODEL_c21ac0390d264f5e87e6f57dfc830e72",
        "IPY_MODEL_74feab3645954027a6afcee619e919d1"
       ],
       "layout": "IPY_MODEL_a2058554d6f94bd0a9d48e9c4402d04a"
      }
     },
     "19557321b66a4f079171c8b7ec2a6e75": {
      "model_module": "@jupyter-widgets/controls",
      "model_module_version": "1.5.0",
      "model_name": "HTMLModel",
      "state": {
       "layout": "IPY_MODEL_8c4be24b0a41453cbd80301b9ec36305",
       "style": "IPY_MODEL_bcfdfee669d5443cbcb608a4171725c8",
       "value": "479/4757, (Working on &quot;Lapis Re:LiGHTs&quot;)"
      }
     },
     "1982ea4d64a94c06a3ce60daca1b0d4b": {
      "model_module": "@jupyter-widgets/base",
      "model_module_version": "1.2.0",
      "model_name": "LayoutModel",
      "state": {}
     },
     "1aae6028b81948a4b17a2d12f15a9f97": {
      "model_module": "@jupyter-widgets/base",
      "model_module_version": "1.2.0",
      "model_name": "LayoutModel",
      "state": {}
     },
     "1b44e2a24d4740f48bbc4fc72cd92ada": {
      "model_module": "@jupyter-widgets/base",
      "model_module_version": "1.2.0",
      "model_name": "LayoutModel",
      "state": {}
     },
     "1b6c43bf955c47f4b367cd165b90c888": {
      "model_module": "@jupyter-widgets/base",
      "model_module_version": "1.2.0",
      "model_name": "LayoutModel",
      "state": {}
     },
     "1b7fa60d4c264c158897ac4944fd87d0": {
      "model_module": "@jupyter-widgets/controls",
      "model_module_version": "1.5.0",
      "model_name": "FloatProgressModel",
      "state": {
       "bar_style": "danger",
       "layout": "IPY_MODEL_a6faa740e9ef41a0bdb52c3b8b46ab81",
       "max": 11312146,
       "style": "IPY_MODEL_09dbadb699924d8aaa0c501bb3649d46"
      }
     },
     "1b9a57f8689e4c6da945732dedd8c64d": {
      "model_module": "@jupyter-widgets/controls",
      "model_module_version": "1.5.0",
      "model_name": "DescriptionStyleModel",
      "state": {
       "description_width": ""
      }
     },
     "1bf665e474ff4c5481c49ce5c5b89172": {
      "model_module": "@jupyter-widgets/controls",
      "model_module_version": "1.5.0",
      "model_name": "ProgressStyleModel",
      "state": {
       "description_width": ""
      }
     },
     "1c69ec1b33034d76bb3ab9345320619d": {
      "model_module": "@jupyter-widgets/base",
      "model_module_version": "1.2.0",
      "model_name": "LayoutModel",
      "state": {}
     },
     "1c83b826baf140ebb179af63ebff54a3": {
      "model_module": "@jupyter-widgets/controls",
      "model_module_version": "1.5.0",
      "model_name": "FloatProgressModel",
      "state": {
       "bar_style": "danger",
       "layout": "IPY_MODEL_d91e96095eb44ba2b183e1a79a7c4aa7",
       "max": 4757,
       "style": "IPY_MODEL_1bf665e474ff4c5481c49ce5c5b89172",
       "value": 479
      }
     },
     "1e13475b04334ce8b84a2ba172d2fd04": {
      "model_module": "@jupyter-widgets/base",
      "model_module_version": "1.2.0",
      "model_name": "LayoutModel",
      "state": {}
     },
     "1e27898f8b7c4a78a0adfe1275b066fc": {
      "model_module": "@jupyter-widgets/base",
      "model_module_version": "1.2.0",
      "model_name": "LayoutModel",
      "state": {}
     },
     "1fb478c9dd6041678325d04a475b6b51": {
      "model_module": "@jupyter-widgets/base",
      "model_module_version": "1.2.0",
      "model_name": "LayoutModel",
      "state": {}
     },
     "202413a9ff0c4a80ac5494372c753225": {
      "model_module": "@jupyter-widgets/controls",
      "model_module_version": "1.5.0",
      "model_name": "DescriptionStyleModel",
      "state": {
       "description_width": ""
      }
     },
     "21b2eb9c038d43b0a9deb9a83b0589a7": {
      "model_module": "@jupyter-widgets/controls",
      "model_module_version": "1.5.0",
      "model_name": "DescriptionStyleModel",
      "state": {
       "description_width": ""
      }
     },
     "21bb4034fb954085ac0863b022dc80ad": {
      "model_module": "@jupyter-widgets/controls",
      "model_module_version": "1.5.0",
      "model_name": "FloatProgressModel",
      "state": {
       "bar_style": "danger",
       "layout": "IPY_MODEL_56aa7db30fe54f82962f6c3a1176f021",
       "max": 4757,
       "style": "IPY_MODEL_d4be017661fb4e32b93d45fe074339b5",
       "value": 12
      }
     },
     "21f9600bff354b5d98880b19ddf84be0": {
      "model_module": "@jupyter-widgets/controls",
      "model_module_version": "1.5.0",
      "model_name": "HBoxModel",
      "state": {
       "children": [
        "IPY_MODEL_d03b3e27d0584dec927661981e7c50fa",
        "IPY_MODEL_1b7fa60d4c264c158897ac4944fd87d0",
        "IPY_MODEL_a54cd8f037c046ba9e28800443b1f92b"
       ],
       "layout": "IPY_MODEL_b15e74c8b7a54105b72c2f8983985931"
      }
     },
     "224012d9d1154de79a8d8dfc9602774e": {
      "model_module": "@jupyter-widgets/base",
      "model_module_version": "1.2.0",
      "model_name": "LayoutModel",
      "state": {}
     },
     "22c797b7d31744f5ab65abc9a8cdb6db": {
      "model_module": "@jupyter-widgets/controls",
      "model_module_version": "1.5.0",
      "model_name": "FloatProgressModel",
      "state": {
       "bar_style": "success",
       "layout": "IPY_MODEL_1e27898f8b7c4a78a0adfe1275b066fc",
       "max": 4757,
       "style": "IPY_MODEL_38a5f6866dda4d0bbf1bac3aa9b511b9",
       "value": 4757
      }
     },
     "22fdc650ece64d4f9d0dae918aa2e906": {
      "model_module": "@jupyter-widgets/base",
      "model_module_version": "1.2.0",
      "model_name": "LayoutModel",
      "state": {}
     },
     "2416465f936249c3b3557619fa889a90": {
      "model_module": "@jupyter-widgets/controls",
      "model_module_version": "1.5.0",
      "model_name": "DescriptionStyleModel",
      "state": {
       "description_width": ""
      }
     },
     "243d17e4a7154e488ea23f31137d9de7": {
      "model_module": "@jupyter-widgets/controls",
      "model_module_version": "1.5.0",
      "model_name": "DescriptionStyleModel",
      "state": {
       "description_width": ""
      }
     },
     "26cde6529905495c8987e56a973e35d6": {
      "model_module": "@jupyter-widgets/base",
      "model_module_version": "1.2.0",
      "model_name": "LayoutModel",
      "state": {}
     },
     "2839193323b64565b269277a11ab4d17": {
      "model_module": "@jupyter-widgets/controls",
      "model_module_version": "1.5.0",
      "model_name": "DescriptionStyleModel",
      "state": {
       "description_width": ""
      }
     },
     "285305aa687c44e3bfb5965b6a83a52a": {
      "model_module": "@jupyter-widgets/controls",
      "model_module_version": "1.5.0",
      "model_name": "HTMLModel",
      "state": {
       "layout": "IPY_MODEL_cd9b552c4d074a8cbde09af546e36bd1",
       "style": "IPY_MODEL_6a96f2712b7043c3a0212a29e8a486d0",
       "value": "Distance Records: 100%"
      }
     },
     "28ec018eb59a4a1d8b8e64b938a65c83": {
      "model_module": "@jupyter-widgets/controls",
      "model_module_version": "1.5.0",
      "model_name": "DescriptionStyleModel",
      "state": {
       "description_width": ""
      }
     },
     "29695e9a9f1c40e2bccb7273f363ca38": {
      "model_module": "@jupyter-widgets/controls",
      "model_module_version": "1.5.0",
      "model_name": "HTMLModel",
      "state": {
       "layout": "IPY_MODEL_07635c44bc144770884691f44c25b1a2",
       "style": "IPY_MODEL_202413a9ff0c4a80ac5494372c753225",
       "value": "61613/11312146 [Elapsed: 06:25, Remaining: 19:34:19]"
      }
     },
     "29c58f134eb444b1bd86efd1ad82e89a": {
      "model_module": "@jupyter-widgets/base",
      "model_module_version": "1.2.0",
      "model_name": "LayoutModel",
      "state": {}
     },
     "2e4c82b31fc14484a014bfe54378b3d7": {
      "model_module": "@jupyter-widgets/controls",
      "model_module_version": "1.5.0",
      "model_name": "DescriptionStyleModel",
      "state": {
       "description_width": ""
      }
     },
     "2ee448aa7d4c4645a7fda65d25051990": {
      "model_module": "@jupyter-widgets/base",
      "model_module_version": "1.2.0",
      "model_name": "LayoutModel",
      "state": {}
     },
     "2f51423d03a84568b658a88ff5245925": {
      "model_module": "@jupyter-widgets/base",
      "model_module_version": "1.2.0",
      "model_name": "LayoutModel",
      "state": {}
     },
     "305486e4f8724d17b5784440d289c542": {
      "model_module": "@jupyter-widgets/base",
      "model_module_version": "1.2.0",
      "model_name": "LayoutModel",
      "state": {}
     },
     "320793c1cbca4c9bb3d74b421c6a1e29": {
      "model_module": "@jupyter-widgets/controls",
      "model_module_version": "1.5.0",
      "model_name": "HTMLModel",
      "state": {
       "layout": "IPY_MODEL_b042cb0e0ef74cd7bda0656d5dd521ae",
       "style": "IPY_MODEL_af09a8d7f99843c8a16831f81350ce76",
       "value": "Anime Pairs:  33%"
      }
     },
     "3210805e6b0f40ce9cb46db07dc54f2b": {
      "model_module": "@jupyter-widgets/controls",
      "model_module_version": "1.5.0",
      "model_name": "DescriptionStyleModel",
      "state": {
       "description_width": ""
      }
     },
     "32a55c766fac45568e2e454a6bb5ce30": {
      "model_module": "@jupyter-widgets/controls",
      "model_module_version": "1.5.0",
      "model_name": "DescriptionStyleModel",
      "state": {
       "description_width": ""
      }
     },
     "32c44a348c674196b92f68e054a1c166": {
      "model_module": "@jupyter-widgets/controls",
      "model_module_version": "1.5.0",
      "model_name": "ProgressStyleModel",
      "state": {
       "description_width": ""
      }
     },
     "33024451ffbe4e6ead96fea078e915bc": {
      "model_module": "@jupyter-widgets/base",
      "model_module_version": "1.2.0",
      "model_name": "LayoutModel",
      "state": {}
     },
     "33086cc879cb4e139e703905da4bcadf": {
      "model_module": "@jupyter-widgets/base",
      "model_module_version": "1.2.0",
      "model_name": "LayoutModel",
      "state": {}
     },
     "330feaf1555444908d86c0495fe2be28": {
      "model_module": "@jupyter-widgets/controls",
      "model_module_version": "1.5.0",
      "model_name": "ProgressStyleModel",
      "state": {
       "description_width": ""
      }
     },
     "3421de271f6d41539c820134dc45516d": {
      "model_module": "@jupyter-widgets/controls",
      "model_module_version": "1.5.0",
      "model_name": "HTMLModel",
      "state": {
       "layout": "IPY_MODEL_9632c0669fbd440ca09e595bef55075b",
       "style": "IPY_MODEL_606829d39e704e52950b1023a99f6fe3",
       "value": "2164427/11312146 [Elapsed: 03:01, Remaining: 12:47]"
      }
     },
     "347c062b49d7460ab4fc6e3f3ad1d21d": {
      "model_module": "@jupyter-widgets/controls",
      "model_module_version": "1.5.0",
      "model_name": "DescriptionStyleModel",
      "state": {
       "description_width": ""
      }
     },
     "36112c4a5a1a43e1bae01f2fc81b7925": {
      "model_module": "@jupyter-widgets/base",
      "model_module_version": "1.2.0",
      "model_name": "LayoutModel",
      "state": {}
     },
     "36f0e121ce9e443d9b323bbca467fa3a": {
      "model_module": "@jupyter-widgets/base",
      "model_module_version": "1.2.0",
      "model_name": "LayoutModel",
      "state": {}
     },
     "3841895a255344798ddb0a99090a8de9": {
      "model_module": "@jupyter-widgets/controls",
      "model_module_version": "1.5.0",
      "model_name": "HBoxModel",
      "state": {
       "children": [
        "IPY_MODEL_0ba758e427fb4cd89e76267b0611a229",
        "IPY_MODEL_3aa71fd7828749369ada660d48bf6215",
        "IPY_MODEL_01275f4fe02a48618c8f83c605266208"
       ],
       "layout": "IPY_MODEL_85cb274ff3ef435298cb783c2f29f4ab"
      }
     },
     "38a5f6866dda4d0bbf1bac3aa9b511b9": {
      "model_module": "@jupyter-widgets/controls",
      "model_module_version": "1.5.0",
      "model_name": "ProgressStyleModel",
      "state": {
       "description_width": ""
      }
     },
     "38b4f2e4d0df40e297d06f351dd137b0": {
      "model_module": "@jupyter-widgets/base",
      "model_module_version": "1.2.0",
      "model_name": "LayoutModel",
      "state": {}
     },
     "39d35589b5524b89998ba6069e89407b": {
      "model_module": "@jupyter-widgets/controls",
      "model_module_version": "1.5.0",
      "model_name": "ProgressStyleModel",
      "state": {
       "description_width": ""
      }
     },
     "3aa71fd7828749369ada660d48bf6215": {
      "model_module": "@jupyter-widgets/controls",
      "model_module_version": "1.5.0",
      "model_name": "FloatProgressModel",
      "state": {
       "layout": "IPY_MODEL_9744a9e1ca9b4081a8e903897b2257b1",
       "max": 4757,
       "style": "IPY_MODEL_cb2b65b533834a8aba55ccccfa579086"
      }
     },
     "3af22c72a35b4f64bb70e29b9e89b3d1": {
      "model_module": "@jupyter-widgets/controls",
      "model_module_version": "1.5.0",
      "model_name": "HTMLModel",
      "state": {
       "layout": "IPY_MODEL_50b78ec433c340ecb542eca632551f1c",
       "style": "IPY_MODEL_1b9a57f8689e4c6da945732dedd8c64d",
       "value": "Anime Shows:   0%"
      }
     },
     "3d64abfb36ca45419da3d5913801d894": {
      "model_module": "@jupyter-widgets/controls",
      "model_module_version": "1.5.0",
      "model_name": "HTMLModel",
      "state": {
       "layout": "IPY_MODEL_26cde6529905495c8987e56a973e35d6",
       "style": "IPY_MODEL_9e3e9c3c6b5a497a890e7f5775f2bf73",
       "value": "23785/23785"
      }
     },
     "3d81177410d449d8841aa5254c63aa7b": {
      "model_module": "@jupyter-widgets/controls",
      "model_module_version": "1.5.0",
      "model_name": "DescriptionStyleModel",
      "state": {
       "description_width": ""
      }
     },
     "3e880321c3b44d7e8db8d5e3ebd19a14": {
      "model_module": "@jupyter-widgets/base",
      "model_module_version": "1.2.0",
      "model_name": "LayoutModel",
      "state": {}
     },
     "40a7b296748a40f0a6473f93e322db81": {
      "model_module": "@jupyter-widgets/controls",
      "model_module_version": "1.5.0",
      "model_name": "HTMLModel",
      "state": {
       "layout": "IPY_MODEL_a0330d1a28af4fe2b71560c3cf964888",
       "style": "IPY_MODEL_c5c6fb10088a4fad9e4a229fc0eb21e7",
       "value": "Anime Pairs:  12%"
      }
     },
     "40cf84d5139d4db1a6137e13c2c23915": {
      "model_module": "@jupyter-widgets/controls",
      "model_module_version": "1.5.0",
      "model_name": "HBoxModel",
      "state": {
       "children": [
        "IPY_MODEL_79571f56494c47ec94253d0dab5a67bd",
        "IPY_MODEL_8078624f4a304eadb14cd7e8ac32788b",
        "IPY_MODEL_3421de271f6d41539c820134dc45516d"
       ],
       "layout": "IPY_MODEL_a580fab8dcc34027b31893bb802d45a7"
      }
     },
     "40ecc7cf6c6147ef9b0c39508f89c85e": {
      "model_module": "@jupyter-widgets/controls",
      "model_module_version": "1.5.0",
      "model_name": "ProgressStyleModel",
      "state": {
       "description_width": ""
      }
     },
     "41740cbbbde9451d93b43f191e3d07c9": {
      "model_module": "@jupyter-widgets/base",
      "model_module_version": "1.2.0",
      "model_name": "LayoutModel",
      "state": {}
     },
     "41f50833e45544a2a51eb3cce9627e85": {
      "model_module": "@jupyter-widgets/base",
      "model_module_version": "1.2.0",
      "model_name": "LayoutModel",
      "state": {}
     },
     "43b86cd3647b47d194bff39f87a069fb": {
      "model_module": "@jupyter-widgets/controls",
      "model_module_version": "1.5.0",
      "model_name": "HBoxModel",
      "state": {
       "children": [
        "IPY_MODEL_ce9359dda41543ac92dcba86a04534f3",
        "IPY_MODEL_6d619650283e4b63a15747f1f4612450",
        "IPY_MODEL_9f24e3a2802e414883c67f9d4d35d975"
       ],
       "layout": "IPY_MODEL_1982ea4d64a94c06a3ce60daca1b0d4b"
      }
     },
     "45509b7fe581496fa96e8368d8eb2ae4": {
      "model_module": "@jupyter-widgets/base",
      "model_module_version": "1.2.0",
      "model_name": "LayoutModel",
      "state": {}
     },
     "4643b3af177e4c4eb8f6306502dc9c9f": {
      "model_module": "@jupyter-widgets/controls",
      "model_module_version": "1.5.0",
      "model_name": "HTMLModel",
      "state": {
       "layout": "IPY_MODEL_6e6edb4ba59a45a1925732368fdc6d9d",
       "style": "IPY_MODEL_e97fe29ac1ea4c8096e116bc27c3db8e",
       "value": "Anime Pairs:   3%"
      }
     },
     "464ba49f696542d1921b7f16c80ce380": {
      "model_module": "@jupyter-widgets/controls",
      "model_module_version": "1.5.0",
      "model_name": "HBoxModel",
      "state": {
       "children": [
        "IPY_MODEL_c334b34bd29145e9828f9e5853d4a215",
        "IPY_MODEL_f77541afc79346c7a9df782deebcb4cf",
        "IPY_MODEL_89ab5247afad4b5390981a17c2accae7"
       ],
       "layout": "IPY_MODEL_c9bdef4ea20340a2ac1dbeb608a9b96a"
      }
     },
     "46a70ec3ad754bff9dd99ed770eb2b26": {
      "model_module": "@jupyter-widgets/controls",
      "model_module_version": "1.5.0",
      "model_name": "HBoxModel",
      "state": {
       "children": [
        "IPY_MODEL_7b20c25eedda438eaea6e621e6524d02",
        "IPY_MODEL_bec52d3635d840bda3294f9605876a6b",
        "IPY_MODEL_518eb779f7b746e783b94a772339acb4"
       ],
       "layout": "IPY_MODEL_4a072de9befa415a827b0cf162a47b55"
      }
     },
     "473ceb37aeb7426dadae737157302041": {
      "model_module": "@jupyter-widgets/base",
      "model_module_version": "1.2.0",
      "model_name": "LayoutModel",
      "state": {}
     },
     "485a4b9f7b5c4510ac2114935f3bcf99": {
      "model_module": "@jupyter-widgets/controls",
      "model_module_version": "1.5.0",
      "model_name": "HBoxModel",
      "state": {
       "children": [
        "IPY_MODEL_285305aa687c44e3bfb5965b6a83a52a",
        "IPY_MODEL_5a62b545d20a47fe904c0b344927dde9",
        "IPY_MODEL_bf39d63449af4f089a9b3a4597951fb8"
       ],
       "layout": "IPY_MODEL_eef0fbe7e02f4f97be2f16e90047e24a"
      }
     },
     "492e5dc278af45e3a566645c46b06c53": {
      "model_module": "@jupyter-widgets/base",
      "model_module_version": "1.2.0",
      "model_name": "LayoutModel",
      "state": {}
     },
     "49a40f96f48f40cfa4c1a7cbdbb8d6b1": {
      "model_module": "@jupyter-widgets/controls",
      "model_module_version": "1.5.0",
      "model_name": "HTMLModel",
      "state": {
       "layout": "IPY_MODEL_4e2a3f55142d4cb98b8c8e8ceb6e7940",
       "style": "IPY_MODEL_81d738943dc9413982e6e2841c2b2eff",
       "value": "Anime Shows"
      }
     },
     "4a072de9befa415a827b0cf162a47b55": {
      "model_module": "@jupyter-widgets/base",
      "model_module_version": "1.2.0",
      "model_name": "LayoutModel",
      "state": {}
     },
     "4a176996347c49f7a975ddb69ece12e8": {
      "model_module": "@jupyter-widgets/controls",
      "model_module_version": "1.5.0",
      "model_name": "DescriptionStyleModel",
      "state": {
       "description_width": ""
      }
     },
     "4d88344990874a2baf21cf5de7536a00": {
      "model_module": "@jupyter-widgets/controls",
      "model_module_version": "1.5.0",
      "model_name": "HTMLModel",
      "state": {
       "layout": "IPY_MODEL_38b4f2e4d0df40e297d06f351dd137b0",
       "style": "IPY_MODEL_3210805e6b0f40ce9cb46db07dc54f2b",
       "value": "71/4757, (Working on &quot;Jormungand: Perfect Order&quot;)"
      }
     },
     "4dc06ee229ef4c1fa989c33e3d34f1e0": {
      "model_module": "@jupyter-widgets/base",
      "model_module_version": "1.2.0",
      "model_name": "LayoutModel",
      "state": {}
     },
     "4e2a3f55142d4cb98b8c8e8ceb6e7940": {
      "model_module": "@jupyter-widgets/base",
      "model_module_version": "1.2.0",
      "model_name": "LayoutModel",
      "state": {}
     },
     "4ed937e19bb545f7b3bf2d836d500cd2": {
      "model_module": "@jupyter-widgets/controls",
      "model_module_version": "1.5.0",
      "model_name": "FloatProgressModel",
      "state": {
       "bar_style": "danger",
       "layout": "IPY_MODEL_1e13475b04334ce8b84a2ba172d2fd04",
       "max": 11312146,
       "style": "IPY_MODEL_5c7cd1e9c2664b22b3c6e8ffcc84b605",
       "value": 337498
      }
     },
     "50b78ec433c340ecb542eca632551f1c": {
      "model_module": "@jupyter-widgets/base",
      "model_module_version": "1.2.0",
      "model_name": "LayoutModel",
      "state": {}
     },
     "512e1d8e93ee4b0c8c3f731cdb17227a": {
      "model_module": "@jupyter-widgets/controls",
      "model_module_version": "1.5.0",
      "model_name": "HTMLModel",
      "state": {
       "layout": "IPY_MODEL_22fdc650ece64d4f9d0dae918aa2e906",
       "style": "IPY_MODEL_c8d67dc0c28647cb95f833b958c8b25f",
       "value": "0/11312146 [Elapsed: 05:01, Remaining: ?]"
      }
     },
     "518eb779f7b746e783b94a772339acb4": {
      "model_module": "@jupyter-widgets/controls",
      "model_module_version": "1.5.0",
      "model_name": "HTMLModel",
      "state": {
       "layout": "IPY_MODEL_0a8fb1a6e13b42f391599692fd2fb84d",
       "style": "IPY_MODEL_dee663ab78ef455bae188e21864e0643",
       "value": "290/4757, (Working on &quot;Kyougoku Natsuhiko: Kousetsu Hyaku Monogatari&quot;)"
      }
     },
     "5252428f010e4788a5fffbb6ff131818": {
      "model_module": "@jupyter-widgets/base",
      "model_module_version": "1.2.0",
      "model_name": "LayoutModel",
      "state": {}
     },
     "53000220d3ec40a2895e9e44167ab13c": {
      "model_module": "@jupyter-widgets/controls",
      "model_module_version": "1.5.0",
      "model_name": "ProgressStyleModel",
      "state": {
       "description_width": ""
      }
     },
     "5354fea67151425ca17591b7817e25ed": {
      "model_module": "@jupyter-widgets/controls",
      "model_module_version": "1.5.0",
      "model_name": "ProgressStyleModel",
      "state": {
       "description_width": ""
      }
     },
     "544ba04ba2194e4c8d876c41382b2a38": {
      "model_module": "@jupyter-widgets/base",
      "model_module_version": "1.2.0",
      "model_name": "LayoutModel",
      "state": {}
     },
     "562222d9f84644f3840162892e25a749": {
      "model_module": "@jupyter-widgets/controls",
      "model_module_version": "1.5.0",
      "model_name": "HBoxModel",
      "state": {
       "children": [
        "IPY_MODEL_a9e6f723abd94b03ac6aa293bb83401b",
        "IPY_MODEL_84c62dff48f84d7aaa11e921d6e2ec2c",
        "IPY_MODEL_760c35b6993b4293a52698e365df2350"
       ],
       "layout": "IPY_MODEL_45509b7fe581496fa96e8368d8eb2ae4"
      }
     },
     "5634b0a339b44a449ca626785ca58f15": {
      "model_module": "@jupyter-widgets/base",
      "model_module_version": "1.2.0",
      "model_name": "LayoutModel",
      "state": {}
     },
     "56aa7db30fe54f82962f6c3a1176f021": {
      "model_module": "@jupyter-widgets/base",
      "model_module_version": "1.2.0",
      "model_name": "LayoutModel",
      "state": {}
     },
     "56da6f2e135547528e21bfbb29bbe9ff": {
      "model_module": "@jupyter-widgets/controls",
      "model_module_version": "1.5.0",
      "model_name": "HBoxModel",
      "state": {
       "children": [
        "IPY_MODEL_dfc89f5993b548688be493634d1a986f",
        "IPY_MODEL_82bc50ed5fff4608a97aeb29e1975061",
        "IPY_MODEL_11f83e6beee548f69d032b953b577159"
       ],
       "layout": "IPY_MODEL_b0ec95e47d0840b18f81ddadae44794e"
      }
     },
     "5770f6aeea974473a12c0f87c0595c22": {
      "model_module": "@jupyter-widgets/base",
      "model_module_version": "1.2.0",
      "model_name": "LayoutModel",
      "state": {}
     },
     "5901bb76a2754b2aaac796b7a5e98836": {
      "model_module": "@jupyter-widgets/controls",
      "model_module_version": "1.5.0",
      "model_name": "FloatProgressModel",
      "state": {
       "layout": "IPY_MODEL_a6ecbaf661fb485eac4f85e6915aa0cd",
       "max": 11312146,
       "style": "IPY_MODEL_5354fea67151425ca17591b7817e25ed",
       "value": 3772363
      }
     },
     "59fb521ce9ca40f8a273ab3315a69fa2": {
      "model_module": "@jupyter-widgets/base",
      "model_module_version": "1.2.0",
      "model_name": "LayoutModel",
      "state": {}
     },
     "5a62b545d20a47fe904c0b344927dde9": {
      "model_module": "@jupyter-widgets/controls",
      "model_module_version": "1.5.0",
      "model_name": "FloatProgressModel",
      "state": {
       "bar_style": "success",
       "layout": "IPY_MODEL_c8e8713bc97b49fba88892e3e7013cb9",
       "max": 22624292,
       "style": "IPY_MODEL_6734322a0ca64768ac1e5248d4ea484e",
       "value": 22624292
      }
     },
     "5c4b990d63d9477aa2a306575e7e3ce5": {
      "model_module": "@jupyter-widgets/controls",
      "model_module_version": "1.5.0",
      "model_name": "DescriptionStyleModel",
      "state": {
       "description_width": ""
      }
     },
     "5c7cd1e9c2664b22b3c6e8ffcc84b605": {
      "model_module": "@jupyter-widgets/controls",
      "model_module_version": "1.5.0",
      "model_name": "ProgressStyleModel",
      "state": {
       "description_width": ""
      }
     },
     "5ceb7b6ea692480da9da8ce5e050b7af": {
      "model_module": "@jupyter-widgets/base",
      "model_module_version": "1.2.0",
      "model_name": "LayoutModel",
      "state": {}
     },
     "5d035e74de5b4a87978bad2419e0ef7d": {
      "model_module": "@jupyter-widgets/controls",
      "model_module_version": "1.5.0",
      "model_name": "DescriptionStyleModel",
      "state": {
       "description_width": ""
      }
     },
     "6008f34e7b7a465a8c130fad44fd87bc": {
      "model_module": "@jupyter-widgets/controls",
      "model_module_version": "1.5.0",
      "model_name": "DescriptionStyleModel",
      "state": {
       "description_width": ""
      }
     },
     "606829d39e704e52950b1023a99f6fe3": {
      "model_module": "@jupyter-widgets/controls",
      "model_module_version": "1.5.0",
      "model_name": "DescriptionStyleModel",
      "state": {
       "description_width": ""
      }
     },
     "60bebc3604f641cfbce23751cc5cf969": {
      "model_module": "@jupyter-widgets/base",
      "model_module_version": "1.2.0",
      "model_name": "LayoutModel",
      "state": {}
     },
     "60cf0522aba94ad6801eca18eb1f33c9": {
      "model_module": "@jupyter-widgets/controls",
      "model_module_version": "1.5.0",
      "model_name": "HTMLModel",
      "state": {
       "layout": "IPY_MODEL_5770f6aeea974473a12c0f87c0595c22",
       "style": "IPY_MODEL_e8b73ee5a34f4422865fcadc391a68be",
       "value": "74/4757, (Working on &quot;Drifters&quot;)"
      }
     },
     "61c36cacba6d463d87d181b37f6c2f87": {
      "model_module": "@jupyter-widgets/controls",
      "model_module_version": "1.5.0",
      "model_name": "HBoxModel",
      "state": {
       "children": [
        "IPY_MODEL_8411517490be41409432d70143a180bf",
        "IPY_MODEL_e0f88dd87f9a454a82c058f727354a1c",
        "IPY_MODEL_6b079981a54243e995e5350dcca40b3c"
       ],
       "layout": "IPY_MODEL_eb9f0259ba414d39ace0d1af50596948"
      }
     },
     "62ac84b1a19d425ebfcbc1a83e4b1134": {
      "model_module": "@jupyter-widgets/base",
      "model_module_version": "1.2.0",
      "model_name": "LayoutModel",
      "state": {}
     },
     "6348afde978643298d08975514de9022": {
      "model_module": "@jupyter-widgets/controls",
      "model_module_version": "1.5.0",
      "model_name": "FloatProgressModel",
      "state": {
       "bar_style": "danger",
       "layout": "IPY_MODEL_41f50833e45544a2a51eb3cce9627e85",
       "max": 23785,
       "style": "IPY_MODEL_d33749fc036b49b6afbc936af0189ae6",
       "value": 60
      }
     },
     "6372bf86c85248adac6eeb299007f175": {
      "model_module": "@jupyter-widgets/base",
      "model_module_version": "1.2.0",
      "model_name": "LayoutModel",
      "state": {}
     },
     "63ef1d0c849944e38153aac9d0273ccf": {
      "model_module": "@jupyter-widgets/controls",
      "model_module_version": "1.5.0",
      "model_name": "FloatProgressModel",
      "state": {
       "bar_style": "success",
       "layout": "IPY_MODEL_abc9a645368f4f558c3d1952e6c49060",
       "max": 23785,
       "style": "IPY_MODEL_e941cd45bdca4fe0a58c13704945a798",
       "value": 23785
      }
     },
     "64f81968125440c5882d8511327dfc3a": {
      "model_module": "@jupyter-widgets/controls",
      "model_module_version": "1.5.0",
      "model_name": "DescriptionStyleModel",
      "state": {
       "description_width": ""
      }
     },
     "6734322a0ca64768ac1e5248d4ea484e": {
      "model_module": "@jupyter-widgets/controls",
      "model_module_version": "1.5.0",
      "model_name": "ProgressStyleModel",
      "state": {
       "description_width": ""
      }
     },
     "67a856a3d73841b1be66e774f2f7267e": {
      "model_module": "@jupyter-widgets/controls",
      "model_module_version": "1.5.0",
      "model_name": "HTMLModel",
      "state": {
       "layout": "IPY_MODEL_33024451ffbe4e6ead96fea078e915bc",
       "style": "IPY_MODEL_2416465f936249c3b3557619fa889a90",
       "value": "60/23785"
      }
     },
     "6a202a6b8de54ebeb74e5d691bb8a3db": {
      "model_module": "@jupyter-widgets/controls",
      "model_module_version": "1.5.0",
      "model_name": "DescriptionStyleModel",
      "state": {
       "description_width": ""
      }
     },
     "6a27287704824de1bba39ec707e10853": {
      "model_module": "@jupyter-widgets/controls",
      "model_module_version": "1.5.0",
      "model_name": "HTMLModel",
      "state": {
       "layout": "IPY_MODEL_bbdea7e33a5646129b54bd9b2108d6f1",
       "style": "IPY_MODEL_a597552650124e1a98d2dfbc272e93bf",
       "value": "0/4757, (Working on &quot;Fullmetal Alchemist: Brotherhood&quot;)"
      }
     },
     "6a96f2712b7043c3a0212a29e8a486d0": {
      "model_module": "@jupyter-widgets/controls",
      "model_module_version": "1.5.0",
      "model_name": "DescriptionStyleModel",
      "state": {
       "description_width": ""
      }
     },
     "6b079981a54243e995e5350dcca40b3c": {
      "model_module": "@jupyter-widgets/controls",
      "model_module_version": "1.5.0",
      "model_name": "HTMLModel",
      "state": {
       "layout": "IPY_MODEL_bf46b5b5259d4095a9ad13eb6c93987f",
       "style": "IPY_MODEL_21b2eb9c038d43b0a9deb9a83b0589a7",
       "value": "466/4757, (Working on &quot;Juubee-chan: Lovely Gantai no Himitsu&quot;)"
      }
     },
     "6b0cd78732f5493a8eb5a2638fbbeec0": {
      "model_module": "@jupyter-widgets/controls",
      "model_module_version": "1.5.0",
      "model_name": "FloatProgressModel",
      "state": {
       "bar_style": "danger",
       "layout": "IPY_MODEL_05305738d6314afda1a89065f9d79ae7",
       "max": 4757,
       "style": "IPY_MODEL_32c44a348c674196b92f68e054a1c166",
       "value": 74
      }
     },
     "6b155bc1fc584668ac820be2bd9f27de": {
      "model_module": "@jupyter-widgets/base",
      "model_module_version": "1.2.0",
      "model_name": "LayoutModel",
      "state": {}
     },
     "6c50aca4cd00412aa9ef1ac4bf6959a5": {
      "model_module": "@jupyter-widgets/controls",
      "model_module_version": "1.5.0",
      "model_name": "HTMLModel",
      "state": {
       "layout": "IPY_MODEL_9b6e4a62408e41138f87010b25f32966",
       "style": "IPY_MODEL_2839193323b64565b269277a11ab4d17",
       "value": "Anime Pairs: 100%"
      }
     },
     "6d619650283e4b63a15747f1f4612450": {
      "model_module": "@jupyter-widgets/controls",
      "model_module_version": "1.5.0",
      "model_name": "FloatProgressModel",
      "state": {
       "bar_style": "danger",
       "layout": "IPY_MODEL_b0a4fa81a09345a88f9a78e234352630",
       "max": 4757,
       "style": "IPY_MODEL_330feaf1555444908d86c0495fe2be28"
      }
     },
     "6e6edb4ba59a45a1925732368fdc6d9d": {
      "model_module": "@jupyter-widgets/base",
      "model_module_version": "1.2.0",
      "model_name": "LayoutModel",
      "state": {}
     },
     "6f397f2ea42342ee99656bdaac389e5d": {
      "model_module": "@jupyter-widgets/base",
      "model_module_version": "1.2.0",
      "model_name": "LayoutModel",
      "state": {}
     },
     "6f861f2b045c40069f71915975e4e451": {
      "model_module": "@jupyter-widgets/controls",
      "model_module_version": "1.5.0",
      "model_name": "DescriptionStyleModel",
      "state": {
       "description_width": ""
      }
     },
     "6fb62d573b0f46ef851b597c20c385bf": {
      "model_module": "@jupyter-widgets/controls",
      "model_module_version": "1.5.0",
      "model_name": "HBoxModel",
      "state": {
       "children": [
        "IPY_MODEL_ed9073df4fbd4cb287b1189105e5724c",
        "IPY_MODEL_bc1bceb717094746aacc69e9795828ab",
        "IPY_MODEL_6a27287704824de1bba39ec707e10853"
       ],
       "layout": "IPY_MODEL_84f2973d27d140d78eb010984fca79c3"
      }
     },
     "70f03c1af28248019453941e9977c7e7": {
      "model_module": "@jupyter-widgets/base",
      "model_module_version": "1.2.0",
      "model_name": "LayoutModel",
      "state": {}
     },
     "72aae449d85849a7bf14f490b5734614": {
      "model_module": "@jupyter-widgets/base",
      "model_module_version": "1.2.0",
      "model_name": "LayoutModel",
      "state": {}
     },
     "73e8547402b94b628cf2c76ac9b03d8c": {
      "model_module": "@jupyter-widgets/controls",
      "model_module_version": "1.5.0",
      "model_name": "DescriptionStyleModel",
      "state": {
       "description_width": ""
      }
     },
     "74feab3645954027a6afcee619e919d1": {
      "model_module": "@jupyter-widgets/controls",
      "model_module_version": "1.5.0",
      "model_name": "HTMLModel",
      "state": {
       "layout": "IPY_MODEL_33086cc879cb4e139e703905da4bcadf",
       "style": "IPY_MODEL_243d17e4a7154e488ea23f31137d9de7",
       "value": "0/4757, (Working on &quot;Fullmetal Alchemist: Brotherhood&quot;)"
      }
     },
     "7545f0f305364a2e9a87e54108ed20e3": {
      "model_module": "@jupyter-widgets/controls",
      "model_module_version": "1.5.0",
      "model_name": "ProgressStyleModel",
      "state": {
       "description_width": ""
      }
     },
     "757b4729518e482a890f8965a8791086": {
      "model_module": "@jupyter-widgets/controls",
      "model_module_version": "1.5.0",
      "model_name": "FloatProgressModel",
      "state": {
       "bar_style": "danger",
       "layout": "IPY_MODEL_59fb521ce9ca40f8a273ab3315a69fa2",
       "max": 11312146,
       "style": "IPY_MODEL_afe5ba9df61b45b1ad5439b4fa74467d",
       "value": 61613
      }
     },
     "75cb32c4364a41c29319e2be8e335698": {
      "model_module": "@jupyter-widgets/base",
      "model_module_version": "1.2.0",
      "model_name": "LayoutModel",
      "state": {}
     },
     "760c35b6993b4293a52698e365df2350": {
      "model_module": "@jupyter-widgets/controls",
      "model_module_version": "1.5.0",
      "model_name": "HTMLModel",
      "state": {
       "layout": "IPY_MODEL_bada93b9f7174caaac12c0c19bf2b1cc",
       "style": "IPY_MODEL_32a55c766fac45568e2e454a6bb5ce30",
       "value": "4757/4757"
      }
     },
     "76aae4f7bf8b4a70aedabd4f950cbe58": {
      "model_module": "@jupyter-widgets/controls",
      "model_module_version": "1.5.0",
      "model_name": "DescriptionStyleModel",
      "state": {
       "description_width": ""
      }
     },
     "76fcdf4daf7b490eaed4c1e509e42483": {
      "model_module": "@jupyter-widgets/controls",
      "model_module_version": "1.5.0",
      "model_name": "DescriptionStyleModel",
      "state": {
       "description_width": ""
      }
     },
     "78f1da5515eb4b9dab0a8e15f744e5af": {
      "model_module": "@jupyter-widgets/controls",
      "model_module_version": "1.5.0",
      "model_name": "DescriptionStyleModel",
      "state": {
       "description_width": ""
      }
     },
     "7922c0c399584c6f91d8a29cbdd5c529": {
      "model_module": "@jupyter-widgets/controls",
      "model_module_version": "1.5.0",
      "model_name": "FloatProgressModel",
      "state": {
       "layout": "IPY_MODEL_6b155bc1fc584668ac820be2bd9f27de",
       "max": 4757,
       "style": "IPY_MODEL_102750e4f61c4811a01d7a86fecdfd48"
      }
     },
     "79571f56494c47ec94253d0dab5a67bd": {
      "model_module": "@jupyter-widgets/controls",
      "model_module_version": "1.5.0",
      "model_name": "HTMLModel",
      "state": {
       "layout": "IPY_MODEL_6f397f2ea42342ee99656bdaac389e5d",
       "style": "IPY_MODEL_6a202a6b8de54ebeb74e5d691bb8a3db",
       "value": "Anime Pairs:  19%"
      }
     },
     "7a20d041d769404cb31c8951e49c2778": {
      "model_module": "@jupyter-widgets/controls",
      "model_module_version": "1.5.0",
      "model_name": "DescriptionStyleModel",
      "state": {
       "description_width": ""
      }
     },
     "7ac8ccc3c7414ac7abc83be4108c0fe5": {
      "model_module": "@jupyter-widgets/controls",
      "model_module_version": "1.5.0",
      "model_name": "ProgressStyleModel",
      "state": {
       "description_width": ""
      }
     },
     "7b20c25eedda438eaea6e621e6524d02": {
      "model_module": "@jupyter-widgets/controls",
      "model_module_version": "1.5.0",
      "model_name": "HTMLModel",
      "state": {
       "layout": "IPY_MODEL_81a5ce75601d4de894a92ae501c8bcd1",
       "style": "IPY_MODEL_ea7b16bc45c244798909c35ede684143",
       "value": "Anime Shows:   6%"
      }
     },
     "7c40da26b89a4a9b8c40b6cef9c610d2": {
      "model_module": "@jupyter-widgets/controls",
      "model_module_version": "1.5.0",
      "model_name": "HTMLModel",
      "state": {
       "layout": "IPY_MODEL_05c3939cc60e44899d21eff3938bc366",
       "style": "IPY_MODEL_76fcdf4daf7b490eaed4c1e509e42483",
       "value": "Anime Shows: 100%"
      }
     },
     "7d38f6f352c746baa7890af2fb0271d7": {
      "model_module": "@jupyter-widgets/base",
      "model_module_version": "1.2.0",
      "model_name": "LayoutModel",
      "state": {}
     },
     "7d86adb4294c485a9484338fe3470904": {
      "model_module": "@jupyter-widgets/controls",
      "model_module_version": "1.5.0",
      "model_name": "ProgressStyleModel",
      "state": {
       "description_width": ""
      }
     },
     "7e5ab4d44acd4789ad5fbd34fdccb03e": {
      "model_module": "@jupyter-widgets/controls",
      "model_module_version": "1.5.0",
      "model_name": "HBoxModel",
      "state": {
       "children": [
        "IPY_MODEL_1537b1cfc84647279b80c5d04317dc5e",
        "IPY_MODEL_aa7604fda5fd4ce7a9f39c3c3266c81e",
        "IPY_MODEL_e4ed8d9404fc439dbda9afca233073e2"
       ],
       "layout": "IPY_MODEL_b4da282745f7493a9ab9d862a29e5ab5"
      }
     },
     "8078624f4a304eadb14cd7e8ac32788b": {
      "model_module": "@jupyter-widgets/controls",
      "model_module_version": "1.5.0",
      "model_name": "FloatProgressModel",
      "state": {
       "layout": "IPY_MODEL_d2f791c4e5e44b85b9edf2598071d9be",
       "max": 11312146,
       "style": "IPY_MODEL_b546653d268941a09e8a3b8feb75949c",
       "value": 2164427
      }
     },
     "80b2aad23333415d9047fcbc1e482269": {
      "model_module": "@jupyter-widgets/controls",
      "model_module_version": "1.5.0",
      "model_name": "DescriptionStyleModel",
      "state": {
       "description_width": ""
      }
     },
     "80d3d4b7f172481e86e6beaa55fd272b": {
      "model_module": "@jupyter-widgets/base",
      "model_module_version": "1.2.0",
      "model_name": "LayoutModel",
      "state": {}
     },
     "81a5ce75601d4de894a92ae501c8bcd1": {
      "model_module": "@jupyter-widgets/base",
      "model_module_version": "1.2.0",
      "model_name": "LayoutModel",
      "state": {}
     },
     "81d738943dc9413982e6e2841c2b2eff": {
      "model_module": "@jupyter-widgets/controls",
      "model_module_version": "1.5.0",
      "model_name": "DescriptionStyleModel",
      "state": {
       "description_width": ""
      }
     },
     "82bc50ed5fff4608a97aeb29e1975061": {
      "model_module": "@jupyter-widgets/controls",
      "model_module_version": "1.5.0",
      "model_name": "FloatProgressModel",
      "state": {
       "bar_style": "danger",
       "layout": "IPY_MODEL_87075b3a576343c593714fa5c1dd6f51",
       "max": 11312146,
       "style": "IPY_MODEL_53000220d3ec40a2895e9e44167ab13c"
      }
     },
     "833c32dbdcbd47ea966c705427d37963": {
      "model_module": "@jupyter-widgets/controls",
      "model_module_version": "1.5.0",
      "model_name": "HTMLModel",
      "state": {
       "layout": "IPY_MODEL_b100abf84e1c4e02a461355284e53468",
       "style": "IPY_MODEL_6f861f2b045c40069f71915975e4e451",
       "value": "352207/11312146 [Elapsed: 00:39, Remaining: 12:54]"
      }
     },
     "8411517490be41409432d70143a180bf": {
      "model_module": "@jupyter-widgets/controls",
      "model_module_version": "1.5.0",
      "model_name": "HTMLModel",
      "state": {
       "layout": "IPY_MODEL_9c02ec45287c4213a490c7ca1b811ac7",
       "style": "IPY_MODEL_5c4b990d63d9477aa2a306575e7e3ce5",
       "value": "Anime Shows:  10%"
      }
     },
     "841bab356ef24388893891a35859377a": {
      "model_module": "@jupyter-widgets/controls",
      "model_module_version": "1.5.0",
      "model_name": "DescriptionStyleModel",
      "state": {
       "description_width": ""
      }
     },
     "8456a314c581487ab043d82f6ee439a9": {
      "model_module": "@jupyter-widgets/controls",
      "model_module_version": "1.5.0",
      "model_name": "FloatProgressModel",
      "state": {
       "bar_style": "success",
       "layout": "IPY_MODEL_72aae449d85849a7bf14f490b5734614",
       "max": 11312146,
       "style": "IPY_MODEL_40ecc7cf6c6147ef9b0c39508f89c85e",
       "value": 11312146
      }
     },
     "84c62dff48f84d7aaa11e921d6e2ec2c": {
      "model_module": "@jupyter-widgets/controls",
      "model_module_version": "1.5.0",
      "model_name": "FloatProgressModel",
      "state": {
       "bar_style": "success",
       "layout": "IPY_MODEL_aa914f196f9f48cc8eb965416bdc9940",
       "max": 4757,
       "style": "IPY_MODEL_39d35589b5524b89998ba6069e89407b",
       "value": 4757
      }
     },
     "84f2973d27d140d78eb010984fca79c3": {
      "model_module": "@jupyter-widgets/base",
      "model_module_version": "1.2.0",
      "model_name": "LayoutModel",
      "state": {}
     },
     "85cb274ff3ef435298cb783c2f29f4ab": {
      "model_module": "@jupyter-widgets/base",
      "model_module_version": "1.2.0",
      "model_name": "LayoutModel",
      "state": {}
     },
     "85e1149216d9417f83d33b152dc3bd0b": {
      "model_module": "@jupyter-widgets/controls",
      "model_module_version": "1.5.0",
      "model_name": "DescriptionStyleModel",
      "state": {
       "description_width": ""
      }
     },
     "87075b3a576343c593714fa5c1dd6f51": {
      "model_module": "@jupyter-widgets/base",
      "model_module_version": "1.2.0",
      "model_name": "LayoutModel",
      "state": {}
     },
     "89ab5247afad4b5390981a17c2accae7": {
      "model_module": "@jupyter-widgets/controls",
      "model_module_version": "1.5.0",
      "model_name": "HTMLModel",
      "state": {
       "layout": "IPY_MODEL_1b44e2a24d4740f48bbc4fc72cd92ada",
       "style": "IPY_MODEL_73e8547402b94b628cf2c76ac9b03d8c",
       "value": "873/4757, (Working on &quot;Fuwa Aoyun Manyouji&quot;)"
      }
     },
     "8a9e94bcc6b24017aa533b33a0fffb9f": {
      "model_module": "@jupyter-widgets/base",
      "model_module_version": "1.2.0",
      "model_name": "LayoutModel",
      "state": {}
     },
     "8b449262f3ba47c08731d346e71c39e5": {
      "model_module": "@jupyter-widgets/controls",
      "model_module_version": "1.5.0",
      "model_name": "ProgressStyleModel",
      "state": {
       "description_width": ""
      }
     },
     "8c4be24b0a41453cbd80301b9ec36305": {
      "model_module": "@jupyter-widgets/base",
      "model_module_version": "1.2.0",
      "model_name": "LayoutModel",
      "state": {}
     },
     "8fc198c26e9042d3b7c49f5ecc8b1ead": {
      "model_module": "@jupyter-widgets/controls",
      "model_module_version": "1.5.0",
      "model_name": "ProgressStyleModel",
      "state": {
       "description_width": ""
      }
     },
     "9098d354e81547e996b7d3a4f74dfed6": {
      "model_module": "@jupyter-widgets/controls",
      "model_module_version": "1.5.0",
      "model_name": "FloatProgressModel",
      "state": {
       "layout": "IPY_MODEL_70f03c1af28248019453941e9977c7e7",
       "max": 23785,
       "style": "IPY_MODEL_7d86adb4294c485a9484338fe3470904",
       "value": 2395
      }
     },
     "9140854a6567462cb421077943a6620c": {
      "model_module": "@jupyter-widgets/controls",
      "model_module_version": "1.5.0",
      "model_name": "DescriptionStyleModel",
      "state": {
       "description_width": ""
      }
     },
     "9227e2f990fa4187ab8cca21cb22cbed": {
      "model_module": "@jupyter-widgets/controls",
      "model_module_version": "1.5.0",
      "model_name": "HBoxModel",
      "state": {
       "children": [
        "IPY_MODEL_0993c7b94a0f452e9eab4436018f4705",
        "IPY_MODEL_9098d354e81547e996b7d3a4f74dfed6",
        "IPY_MODEL_e86a581061a24e3c8c64032e64108c4b"
       ],
       "layout": "IPY_MODEL_e20859724b6f4b2a9930db7022ef181d"
      }
     },
     "940a8227a5c046a891c268deb96543ac": {
      "model_module": "@jupyter-widgets/controls",
      "model_module_version": "1.5.0",
      "model_name": "DescriptionStyleModel",
      "state": {
       "description_width": ""
      }
     },
     "9565aff10cdf4f669d183c6932d9b066": {
      "model_module": "@jupyter-widgets/base",
      "model_module_version": "1.2.0",
      "model_name": "LayoutModel",
      "state": {}
     },
     "9632c0669fbd440ca09e595bef55075b": {
      "model_module": "@jupyter-widgets/base",
      "model_module_version": "1.2.0",
      "model_name": "LayoutModel",
      "state": {}
     },
     "9686fd63affd436d95ae40c084f37560": {
      "model_module": "@jupyter-widgets/controls",
      "model_module_version": "1.5.0",
      "model_name": "HTMLModel",
      "state": {
       "layout": "IPY_MODEL_41740cbbbde9451d93b43f191e3d07c9",
       "style": "IPY_MODEL_eb9a23640f5b43068f21e573518c4e58",
       "value": "Anime Pairs:   3%"
      }
     },
     "9744a9e1ca9b4081a8e903897b2257b1": {
      "model_module": "@jupyter-widgets/base",
      "model_module_version": "1.2.0",
      "model_name": "LayoutModel",
      "state": {}
     },
     "98f836ea56d64e5a88e8227151a44385": {
      "model_module": "@jupyter-widgets/controls",
      "model_module_version": "1.5.0",
      "model_name": "DescriptionStyleModel",
      "state": {
       "description_width": ""
      }
     },
     "9b6309a63fbd4a55bb08ad549cc7512d": {
      "model_module": "@jupyter-widgets/controls",
      "model_module_version": "1.5.0",
      "model_name": "DescriptionStyleModel",
      "state": {
       "description_width": ""
      }
     },
     "9b6e4a62408e41138f87010b25f32966": {
      "model_module": "@jupyter-widgets/base",
      "model_module_version": "1.2.0",
      "model_name": "LayoutModel",
      "state": {}
     },
     "9bbeca1fd24441a3812797cab1ab7849": {
      "model_module": "@jupyter-widgets/controls",
      "model_module_version": "1.5.0",
      "model_name": "HBoxModel",
      "state": {
       "children": [
        "IPY_MODEL_40a7b296748a40f0a6473f93e322db81",
        "IPY_MODEL_fec30e3d25364679978329838503a724",
        "IPY_MODEL_d0260e3fbf7c410d8d59107c7ca86cbf"
       ],
       "layout": "IPY_MODEL_1aae6028b81948a4b17a2d12f15a9f97"
      }
     },
     "9c02ec45287c4213a490c7ca1b811ac7": {
      "model_module": "@jupyter-widgets/base",
      "model_module_version": "1.2.0",
      "model_name": "LayoutModel",
      "state": {}
     },
     "9dd144ecdf4d43cea25db41c9ed88b22": {
      "model_module": "@jupyter-widgets/base",
      "model_module_version": "1.2.0",
      "model_name": "LayoutModel",
      "state": {}
     },
     "9e06fda021af4843820da53a548cf049": {
      "model_module": "@jupyter-widgets/controls",
      "model_module_version": "1.5.0",
      "model_name": "HTMLModel",
      "state": {
       "layout": "IPY_MODEL_0040c83e1a77429aa39d43a472b9533f",
       "style": "IPY_MODEL_f234e54fd18149ddb60d8770d3fb7e4d",
       "value": "Anime Shows:   1%"
      }
     },
     "9e3e9c3c6b5a497a890e7f5775f2bf73": {
      "model_module": "@jupyter-widgets/controls",
      "model_module_version": "1.5.0",
      "model_name": "DescriptionStyleModel",
      "state": {
       "description_width": ""
      }
     },
     "9f24e3a2802e414883c67f9d4d35d975": {
      "model_module": "@jupyter-widgets/controls",
      "model_module_version": "1.5.0",
      "model_name": "HTMLModel",
      "state": {
       "layout": "IPY_MODEL_c243d1b2601c440eb5111231a3092eea",
       "style": "IPY_MODEL_28ec018eb59a4a1d8b8e64b938a65c83",
       "value": "0/4757"
      }
     },
     "a0330d1a28af4fe2b71560c3cf964888": {
      "model_module": "@jupyter-widgets/base",
      "model_module_version": "1.2.0",
      "model_name": "LayoutModel",
      "state": {}
     },
     "a10b212811804dc095034d10675c8e06": {
      "model_module": "@jupyter-widgets/controls",
      "model_module_version": "1.5.0",
      "model_name": "DescriptionStyleModel",
      "state": {
       "description_width": ""
      }
     },
     "a2058554d6f94bd0a9d48e9c4402d04a": {
      "model_module": "@jupyter-widgets/base",
      "model_module_version": "1.2.0",
      "model_name": "LayoutModel",
      "state": {}
     },
     "a251edc0a91b4797bb20c121d455fc16": {
      "model_module": "@jupyter-widgets/controls",
      "model_module_version": "1.5.0",
      "model_name": "HTMLModel",
      "state": {
       "layout": "IPY_MODEL_146724e3b5cf489aadaf0a9c7d409f24",
       "style": "IPY_MODEL_1201607031594f65ac2dce011aa31402",
       "value": "Anime Shows:  10%"
      }
     },
     "a404d36294534a258aa61ce82aa4b3a3": {
      "model_module": "@jupyter-widgets/controls",
      "model_module_version": "1.5.0",
      "model_name": "HBoxModel",
      "state": {
       "children": [
        "IPY_MODEL_12b114ff23fc42cb9d1192fdb4a9c4df",
        "IPY_MODEL_16752a563478407586cb811479ab615c",
        "IPY_MODEL_512e1d8e93ee4b0c8c3f731cdb17227a"
       ],
       "layout": "IPY_MODEL_1752c8d2a0114b2a824bdb5c9539d167"
      }
     },
     "a40aac30d7d44db5ad617b8c3c85a4d7": {
      "model_module": "@jupyter-widgets/controls",
      "model_module_version": "1.5.0",
      "model_name": "DescriptionStyleModel",
      "state": {
       "description_width": ""
      }
     },
     "a429dd25b9f1492d957d54e13c1c3a3b": {
      "model_module": "@jupyter-widgets/controls",
      "model_module_version": "1.5.0",
      "model_name": "HBoxModel",
      "state": {
       "children": [
        "IPY_MODEL_4643b3af177e4c4eb8f6306502dc9c9f",
        "IPY_MODEL_4ed937e19bb545f7b3bf2d836d500cd2",
        "IPY_MODEL_0d9c27b6874f4eb8b4327c88d3faf014"
       ],
       "layout": "IPY_MODEL_5ceb7b6ea692480da9da8ce5e050b7af"
      }
     },
     "a43458736e7742d182b89c74a3e18133": {
      "model_module": "@jupyter-widgets/base",
      "model_module_version": "1.2.0",
      "model_name": "LayoutModel",
      "state": {}
     },
     "a497f1495d4e4d45bff9f1b7e32bf246": {
      "model_module": "@jupyter-widgets/controls",
      "model_module_version": "1.5.0",
      "model_name": "FloatProgressModel",
      "state": {
       "bar_style": "danger",
       "layout": "IPY_MODEL_2f51423d03a84568b658a88ff5245925",
       "max": 11312146,
       "style": "IPY_MODEL_8b449262f3ba47c08731d346e71c39e5",
       "value": 352207
      }
     },
     "a4b300508f074534aa80e746aab5c64d": {
      "model_module": "@jupyter-widgets/base",
      "model_module_version": "1.2.0",
      "model_name": "LayoutModel",
      "state": {}
     },
     "a54cd8f037c046ba9e28800443b1f92b": {
      "model_module": "@jupyter-widgets/controls",
      "model_module_version": "1.5.0",
      "model_name": "HTMLModel",
      "state": {
       "layout": "IPY_MODEL_80d3d4b7f172481e86e6beaa55fd272b",
       "style": "IPY_MODEL_85e1149216d9417f83d33b152dc3bd0b",
       "value": "0/11312146 [Elapsed: 07:22, Remaining: ?]"
      }
     },
     "a580fab8dcc34027b31893bb802d45a7": {
      "model_module": "@jupyter-widgets/base",
      "model_module_version": "1.2.0",
      "model_name": "LayoutModel",
      "state": {}
     },
     "a597552650124e1a98d2dfbc272e93bf": {
      "model_module": "@jupyter-widgets/controls",
      "model_module_version": "1.5.0",
      "model_name": "DescriptionStyleModel",
      "state": {
       "description_width": ""
      }
     },
     "a6e814b7ee6d456b966c49101ab51345": {
      "model_module": "@jupyter-widgets/controls",
      "model_module_version": "1.5.0",
      "model_name": "HTMLModel",
      "state": {
       "layout": "IPY_MODEL_a86c02ffbd664433b8580950bd52d0f7",
       "style": "IPY_MODEL_fd8e72e92dd741098e2bcb56a825e35f",
       "value": "Anime Shows:   2%"
      }
     },
     "a6ecbaf661fb485eac4f85e6915aa0cd": {
      "model_module": "@jupyter-widgets/base",
      "model_module_version": "1.2.0",
      "model_name": "LayoutModel",
      "state": {}
     },
     "a6faa740e9ef41a0bdb52c3b8b46ab81": {
      "model_module": "@jupyter-widgets/base",
      "model_module_version": "1.2.0",
      "model_name": "LayoutModel",
      "state": {}
     },
     "a72f2e807d754a43a94d8401cb3daf13": {
      "model_module": "@jupyter-widgets/controls",
      "model_module_version": "1.5.0",
      "model_name": "ProgressStyleModel",
      "state": {
       "description_width": ""
      }
     },
     "a7a4ff5d286d47f1af6f1b26832079d2": {
      "model_module": "@jupyter-widgets/controls",
      "model_module_version": "1.5.0",
      "model_name": "DescriptionStyleModel",
      "state": {
       "description_width": ""
      }
     },
     "a86c02ffbd664433b8580950bd52d0f7": {
      "model_module": "@jupyter-widgets/base",
      "model_module_version": "1.2.0",
      "model_name": "LayoutModel",
      "state": {}
     },
     "a9e6f723abd94b03ac6aa293bb83401b": {
      "model_module": "@jupyter-widgets/controls",
      "model_module_version": "1.5.0",
      "model_name": "HTMLModel",
      "state": {
       "layout": "IPY_MODEL_473ceb37aeb7426dadae737157302041",
       "style": "IPY_MODEL_3d81177410d449d8841aa5254c63aa7b",
       "value": "Anime Shows: 100%"
      }
     },
     "aa1586b14de74f1086375a6ce04d2fd0": {
      "model_module": "@jupyter-widgets/controls",
      "model_module_version": "1.5.0",
      "model_name": "HTMLModel",
      "state": {
       "layout": "IPY_MODEL_1c69ec1b33034d76bb3ab9345320619d",
       "style": "IPY_MODEL_b87a604ec8894a5299283119ceadff31",
       "value": "Closest 5: 100%"
      }
     },
     "aa46766be5dc441d941c7012adebf737": {
      "model_module": "@jupyter-widgets/controls",
      "model_module_version": "1.5.0",
      "model_name": "HTMLModel",
      "state": {
       "layout": "IPY_MODEL_c77fbe78ac834c619a5826444c3a19bd",
       "style": "IPY_MODEL_0b9ead02ccae4d879a4169ff6fbca12f",
       "value": "Anime Pairs:   1%"
      }
     },
     "aa7604fda5fd4ce7a9f39c3c3266c81e": {
      "model_module": "@jupyter-widgets/controls",
      "model_module_version": "1.5.0",
      "model_name": "FloatProgressModel",
      "state": {
       "bar_style": "danger",
       "layout": "IPY_MODEL_62ac84b1a19d425ebfcbc1a83e4b1134",
       "max": 11312146,
       "style": "IPY_MODEL_fee6b4ec92f1459c97816b80803088a4",
       "value": 2110045
      }
     },
     "aa914f196f9f48cc8eb965416bdc9940": {
      "model_module": "@jupyter-widgets/base",
      "model_module_version": "1.2.0",
      "model_name": "LayoutModel",
      "state": {}
     },
     "ab726805c7814185b278e413b042b96e": {
      "model_module": "@jupyter-widgets/base",
      "model_module_version": "1.2.0",
      "model_name": "LayoutModel",
      "state": {}
     },
     "abbf21dddd854a37ac70524605b83145": {
      "model_module": "@jupyter-widgets/base",
      "model_module_version": "1.2.0",
      "model_name": "LayoutModel",
      "state": {}
     },
     "abc9a645368f4f558c3d1952e6c49060": {
      "model_module": "@jupyter-widgets/base",
      "model_module_version": "1.2.0",
      "model_name": "LayoutModel",
      "state": {}
     },
     "ae90246fb3bc4b079ea45b24a3156ecc": {
      "model_module": "@jupyter-widgets/base",
      "model_module_version": "1.2.0",
      "model_name": "LayoutModel",
      "state": {}
     },
     "af09a8d7f99843c8a16831f81350ce76": {
      "model_module": "@jupyter-widgets/controls",
      "model_module_version": "1.5.0",
      "model_name": "DescriptionStyleModel",
      "state": {
       "description_width": ""
      }
     },
     "afdd1f4a5712443e8fab5b49037eddbd": {
      "model_module": "@jupyter-widgets/base",
      "model_module_version": "1.2.0",
      "model_name": "LayoutModel",
      "state": {}
     },
     "afe07293be8d4741ae2a9588d6143f72": {
      "model_module": "@jupyter-widgets/controls",
      "model_module_version": "1.5.0",
      "model_name": "ProgressStyleModel",
      "state": {
       "description_width": ""
      }
     },
     "afe5ba9df61b45b1ad5439b4fa74467d": {
      "model_module": "@jupyter-widgets/controls",
      "model_module_version": "1.5.0",
      "model_name": "ProgressStyleModel",
      "state": {
       "description_width": ""
      }
     },
     "b042cb0e0ef74cd7bda0656d5dd521ae": {
      "model_module": "@jupyter-widgets/base",
      "model_module_version": "1.2.0",
      "model_name": "LayoutModel",
      "state": {}
     },
     "b0a4fa81a09345a88f9a78e234352630": {
      "model_module": "@jupyter-widgets/base",
      "model_module_version": "1.2.0",
      "model_name": "LayoutModel",
      "state": {}
     },
     "b0ec95e47d0840b18f81ddadae44794e": {
      "model_module": "@jupyter-widgets/base",
      "model_module_version": "1.2.0",
      "model_name": "LayoutModel",
      "state": {}
     },
     "b100abf84e1c4e02a461355284e53468": {
      "model_module": "@jupyter-widgets/base",
      "model_module_version": "1.2.0",
      "model_name": "LayoutModel",
      "state": {}
     },
     "b15e74c8b7a54105b72c2f8983985931": {
      "model_module": "@jupyter-widgets/base",
      "model_module_version": "1.2.0",
      "model_name": "LayoutModel",
      "state": {}
     },
     "b353e3a91c0f4cb9a9442e86ef83357c": {
      "model_module": "@jupyter-widgets/controls",
      "model_module_version": "1.5.0",
      "model_name": "HTMLModel",
      "state": {
       "layout": "IPY_MODEL_3e880321c3b44d7e8db8d5e3ebd19a14",
       "style": "IPY_MODEL_7a20d041d769404cb31c8951e49c2778",
       "value": "Closest 5s:   0%"
      }
     },
     "b4da282745f7493a9ab9d862a29e5ab5": {
      "model_module": "@jupyter-widgets/base",
      "model_module_version": "1.2.0",
      "model_name": "LayoutModel",
      "state": {}
     },
     "b546653d268941a09e8a3b8feb75949c": {
      "model_module": "@jupyter-widgets/controls",
      "model_module_version": "1.5.0",
      "model_name": "ProgressStyleModel",
      "state": {
       "description_width": ""
      }
     },
     "b584603fe12e4f2a980052889bf4d9e9": {
      "model_module": "@jupyter-widgets/controls",
      "model_module_version": "1.5.0",
      "model_name": "ProgressStyleModel",
      "state": {
       "description_width": ""
      }
     },
     "b643d691f038425a9bbe98cdab2d7e91": {
      "model_module": "@jupyter-widgets/controls",
      "model_module_version": "1.5.0",
      "model_name": "HBoxModel",
      "state": {
       "children": [
        "IPY_MODEL_9e06fda021af4843820da53a548cf049",
        "IPY_MODEL_dd48c00d72f043bbbfd1de4bbbe8f44c",
        "IPY_MODEL_4d88344990874a2baf21cf5de7536a00"
       ],
       "layout": "IPY_MODEL_36112c4a5a1a43e1bae01f2fc81b7925"
      }
     },
     "b87a604ec8894a5299283119ceadff31": {
      "model_module": "@jupyter-widgets/controls",
      "model_module_version": "1.5.0",
      "model_name": "DescriptionStyleModel",
      "state": {
       "description_width": ""
      }
     },
     "ba1287d14d41466390b9de93dde2a787": {
      "model_module": "@jupyter-widgets/base",
      "model_module_version": "1.2.0",
      "model_name": "LayoutModel",
      "state": {}
     },
     "ba1f2e281e6a4665a58757cbdb64532a": {
      "model_module": "@jupyter-widgets/controls",
      "model_module_version": "1.5.0",
      "model_name": "ProgressStyleModel",
      "state": {
       "description_width": ""
      }
     },
     "ba33ccb3dee24b11af2ca360e478709b": {
      "model_module": "@jupyter-widgets/controls",
      "model_module_version": "1.5.0",
      "model_name": "HTMLModel",
      "state": {
       "layout": "IPY_MODEL_7d38f6f352c746baa7890af2fb0271d7",
       "style": "IPY_MODEL_98f836ea56d64e5a88e8227151a44385",
       "value": "11312146/11312146 [Elapsed: 15:33, Remaining: 00:00]"
      }
     },
     "bada93b9f7174caaac12c0c19bf2b1cc": {
      "model_module": "@jupyter-widgets/base",
      "model_module_version": "1.2.0",
      "model_name": "LayoutModel",
      "state": {}
     },
     "bb565680546f44b48ec584b3b23b047f": {
      "model_module": "@jupyter-widgets/controls",
      "model_module_version": "1.5.0",
      "model_name": "HBoxModel",
      "state": {
       "children": [
        "IPY_MODEL_7c40da26b89a4a9b8c40b6cef9c610d2",
        "IPY_MODEL_22c797b7d31744f5ab65abc9a8cdb6db",
        "IPY_MODEL_c154828ee01142819212cd14435252e0"
       ],
       "layout": "IPY_MODEL_544ba04ba2194e4c8d876c41382b2a38"
      }
     },
     "bbdea7e33a5646129b54bd9b2108d6f1": {
      "model_module": "@jupyter-widgets/base",
      "model_module_version": "1.2.0",
      "model_name": "LayoutModel",
      "state": {}
     },
     "bc1bceb717094746aacc69e9795828ab": {
      "model_module": "@jupyter-widgets/controls",
      "model_module_version": "1.5.0",
      "model_name": "FloatProgressModel",
      "state": {
       "bar_style": "danger",
       "layout": "IPY_MODEL_75cb32c4364a41c29319e2be8e335698",
       "max": 4757,
       "style": "IPY_MODEL_b584603fe12e4f2a980052889bf4d9e9"
      }
     },
     "bcfcac9ed63e43b7a3e8e7344f67ed5b": {
      "model_module": "@jupyter-widgets/controls",
      "model_module_version": "1.5.0",
      "model_name": "DescriptionStyleModel",
      "state": {
       "description_width": ""
      }
     },
     "bcfdfee669d5443cbcb608a4171725c8": {
      "model_module": "@jupyter-widgets/controls",
      "model_module_version": "1.5.0",
      "model_name": "DescriptionStyleModel",
      "state": {
       "description_width": ""
      }
     },
     "be1e45490e1b4fe0a349ee89a0405902": {
      "model_module": "@jupyter-widgets/base",
      "model_module_version": "1.2.0",
      "model_name": "LayoutModel",
      "state": {}
     },
     "bec52d3635d840bda3294f9605876a6b": {
      "model_module": "@jupyter-widgets/controls",
      "model_module_version": "1.5.0",
      "model_name": "FloatProgressModel",
      "state": {
       "bar_style": "danger",
       "layout": "IPY_MODEL_fa96bbe7b505420f906bef9e0843af82",
       "max": 4757,
       "style": "IPY_MODEL_c73f6190fbf44a07a96db1eb9f07c5f0",
       "value": 290
      }
     },
     "bf39d63449af4f089a9b3a4597951fb8": {
      "model_module": "@jupyter-widgets/controls",
      "model_module_version": "1.5.0",
      "model_name": "HTMLModel",
      "state": {
       "layout": "IPY_MODEL_8a9e94bcc6b24017aa533b33a0fffb9f",
       "style": "IPY_MODEL_80b2aad23333415d9047fcbc1e482269",
       "value": "22624292/22624292 [Elapsed: 20:46, Remaining: 00:00]"
      }
     },
     "bf46b5b5259d4095a9ad13eb6c93987f": {
      "model_module": "@jupyter-widgets/base",
      "model_module_version": "1.2.0",
      "model_name": "LayoutModel",
      "state": {}
     },
     "c154828ee01142819212cd14435252e0": {
      "model_module": "@jupyter-widgets/controls",
      "model_module_version": "1.5.0",
      "model_name": "HTMLModel",
      "state": {
       "layout": "IPY_MODEL_c4b423f236d24e2f94ad06fe901f2854",
       "style": "IPY_MODEL_a40aac30d7d44db5ad617b8c3c85a4d7",
       "value": "4757/4757"
      }
     },
     "c1d4549612cb4132b36dcfbbb24c9d69": {
      "model_module": "@jupyter-widgets/base",
      "model_module_version": "1.2.0",
      "model_name": "LayoutModel",
      "state": {}
     },
     "c21ac0390d264f5e87e6f57dfc830e72": {
      "model_module": "@jupyter-widgets/controls",
      "model_module_version": "1.5.0",
      "model_name": "FloatProgressModel",
      "state": {
       "bar_style": "danger",
       "layout": "IPY_MODEL_1b6c43bf955c47f4b367cd165b90c888",
       "max": 4757,
       "style": "IPY_MODEL_a72f2e807d754a43a94d8401cb3daf13"
      }
     },
     "c243d1b2601c440eb5111231a3092eea": {
      "model_module": "@jupyter-widgets/base",
      "model_module_version": "1.2.0",
      "model_name": "LayoutModel",
      "state": {}
     },
     "c334b34bd29145e9828f9e5853d4a215": {
      "model_module": "@jupyter-widgets/controls",
      "model_module_version": "1.5.0",
      "model_name": "HTMLModel",
      "state": {
       "layout": "IPY_MODEL_60bebc3604f641cfbce23751cc5cf969",
       "style": "IPY_MODEL_2e4c82b31fc14484a014bfe54378b3d7",
       "value": "Anime Shows:  18%"
      }
     },
     "c4b423f236d24e2f94ad06fe901f2854": {
      "model_module": "@jupyter-widgets/base",
      "model_module_version": "1.2.0",
      "model_name": "LayoutModel",
      "state": {}
     },
     "c5c6fb10088a4fad9e4a229fc0eb21e7": {
      "model_module": "@jupyter-widgets/controls",
      "model_module_version": "1.5.0",
      "model_name": "DescriptionStyleModel",
      "state": {
       "description_width": ""
      }
     },
     "c73f6190fbf44a07a96db1eb9f07c5f0": {
      "model_module": "@jupyter-widgets/controls",
      "model_module_version": "1.5.0",
      "model_name": "ProgressStyleModel",
      "state": {
       "description_width": ""
      }
     },
     "c77fbe78ac834c619a5826444c3a19bd": {
      "model_module": "@jupyter-widgets/base",
      "model_module_version": "1.2.0",
      "model_name": "LayoutModel",
      "state": {}
     },
     "c8d67dc0c28647cb95f833b958c8b25f": {
      "model_module": "@jupyter-widgets/controls",
      "model_module_version": "1.5.0",
      "model_name": "DescriptionStyleModel",
      "state": {
       "description_width": ""
      }
     },
     "c8e8713bc97b49fba88892e3e7013cb9": {
      "model_module": "@jupyter-widgets/base",
      "model_module_version": "1.2.0",
      "model_name": "LayoutModel",
      "state": {}
     },
     "c9bdef4ea20340a2ac1dbeb608a9b96a": {
      "model_module": "@jupyter-widgets/base",
      "model_module_version": "1.2.0",
      "model_name": "LayoutModel",
      "state": {}
     },
     "cb2b65b533834a8aba55ccccfa579086": {
      "model_module": "@jupyter-widgets/controls",
      "model_module_version": "1.5.0",
      "model_name": "ProgressStyleModel",
      "state": {
       "description_width": ""
      }
     },
     "cc20f391690d46b58baf2e602826dc7b": {
      "model_module": "@jupyter-widgets/controls",
      "model_module_version": "1.5.0",
      "model_name": "HBoxModel",
      "state": {
       "children": [
        "IPY_MODEL_aa1586b14de74f1086375a6ce04d2fd0",
        "IPY_MODEL_63ef1d0c849944e38153aac9d0273ccf",
        "IPY_MODEL_3d64abfb36ca45419da3d5913801d894"
       ],
       "layout": "IPY_MODEL_a43458736e7742d182b89c74a3e18133"
      }
     },
     "cce26e58cd3d454ca52c83add1068a38": {
      "model_module": "@jupyter-widgets/controls",
      "model_module_version": "1.5.0",
      "model_name": "HBoxModel",
      "state": {
       "children": [
        "IPY_MODEL_a251edc0a91b4797bb20c121d455fc16",
        "IPY_MODEL_1c83b826baf140ebb179af63ebff54a3",
        "IPY_MODEL_19557321b66a4f079171c8b7ec2a6e75"
       ],
       "layout": "IPY_MODEL_1079624860684f96ba63da760e4e95b1"
      }
     },
     "cd9b552c4d074a8cbde09af546e36bd1": {
      "model_module": "@jupyter-widgets/base",
      "model_module_version": "1.2.0",
      "model_name": "LayoutModel",
      "state": {}
     },
     "cdc04117b5d544e9aee1aa549f9b523e": {
      "model_module": "@jupyter-widgets/controls",
      "model_module_version": "1.5.0",
      "model_name": "HTMLModel",
      "state": {
       "layout": "IPY_MODEL_0365248877d548789a1ade86c89dc663",
       "style": "IPY_MODEL_d6e04adfc38340eda6a8700b2f259cec",
       "value": "Anime Shows:   0%"
      }
     },
     "ce4cde85a3cb443da54015979dc373dc": {
      "model_module": "@jupyter-widgets/controls",
      "model_module_version": "1.5.0",
      "model_name": "HBoxModel",
      "state": {
       "children": [
        "IPY_MODEL_6c50aca4cd00412aa9ef1ac4bf6959a5",
        "IPY_MODEL_8456a314c581487ab043d82f6ee439a9",
        "IPY_MODEL_ba33ccb3dee24b11af2ca360e478709b"
       ],
       "layout": "IPY_MODEL_e782b56d2f264c0b9776b18c8f8bf5a1"
      }
     },
     "ce9359dda41543ac92dcba86a04534f3": {
      "model_module": "@jupyter-widgets/controls",
      "model_module_version": "1.5.0",
      "model_name": "HTMLModel",
      "state": {
       "layout": "IPY_MODEL_083a7b48674548f7aebdbe6200ccdb30",
       "style": "IPY_MODEL_9140854a6567462cb421077943a6620c",
       "value": "Anime Shows:   0%"
      }
     },
     "cebc3962cab34a79bf5c11d675c00dd6": {
      "model_module": "@jupyter-widgets/controls",
      "model_module_version": "1.5.0",
      "model_name": "DescriptionStyleModel",
      "state": {
       "description_width": ""
      }
     },
     "d0260e3fbf7c410d8d59107c7ca86cbf": {
      "model_module": "@jupyter-widgets/controls",
      "model_module_version": "1.5.0",
      "model_name": "HTMLModel",
      "state": {
       "layout": "IPY_MODEL_d4b4304198044a47b5dad7ae1b0ef1a8",
       "style": "IPY_MODEL_64f81968125440c5882d8511327dfc3a",
       "value": "1340628/11312146 [Elapsed: 02:41, Remaining: 17:06]"
      }
     },
     "d03b3e27d0584dec927661981e7c50fa": {
      "model_module": "@jupyter-widgets/controls",
      "model_module_version": "1.5.0",
      "model_name": "HTMLModel",
      "state": {
       "layout": "IPY_MODEL_5252428f010e4788a5fffbb6ff131818",
       "style": "IPY_MODEL_4a176996347c49f7a975ddb69ece12e8",
       "value": "Anime Pairs:   0%"
      }
     },
     "d2f791c4e5e44b85b9edf2598071d9be": {
      "model_module": "@jupyter-widgets/base",
      "model_module_version": "1.2.0",
      "model_name": "LayoutModel",
      "state": {}
     },
     "d33749fc036b49b6afbc936af0189ae6": {
      "model_module": "@jupyter-widgets/controls",
      "model_module_version": "1.5.0",
      "model_name": "ProgressStyleModel",
      "state": {
       "description_width": ""
      }
     },
     "d4b4304198044a47b5dad7ae1b0ef1a8": {
      "model_module": "@jupyter-widgets/base",
      "model_module_version": "1.2.0",
      "model_name": "LayoutModel",
      "state": {}
     },
     "d4be017661fb4e32b93d45fe074339b5": {
      "model_module": "@jupyter-widgets/controls",
      "model_module_version": "1.5.0",
      "model_name": "ProgressStyleModel",
      "state": {
       "description_width": ""
      }
     },
     "d6a96d27f6dc4c8288e4a31b18535c9b": {
      "model_module": "@jupyter-widgets/base",
      "model_module_version": "1.2.0",
      "model_name": "LayoutModel",
      "state": {}
     },
     "d6e04adfc38340eda6a8700b2f259cec": {
      "model_module": "@jupyter-widgets/controls",
      "model_module_version": "1.5.0",
      "model_name": "DescriptionStyleModel",
      "state": {
       "description_width": ""
      }
     },
     "d82a788462b0454cab53aa308cec28f8": {
      "model_module": "@jupyter-widgets/controls",
      "model_module_version": "1.5.0",
      "model_name": "HTMLModel",
      "state": {
       "layout": "IPY_MODEL_ab726805c7814185b278e413b042b96e",
       "style": "IPY_MODEL_bcfcac9ed63e43b7a3e8e7344f67ed5b",
       "value": "3772363/11312146 [Elapsed: 07:00, Remaining: 12:42]"
      }
     },
     "d91e96095eb44ba2b183e1a79a7c4aa7": {
      "model_module": "@jupyter-widgets/base",
      "model_module_version": "1.2.0",
      "model_name": "LayoutModel",
      "state": {}
     },
     "d978d55a7a14498cb0e17ae64c1b62d8": {
      "model_module": "@jupyter-widgets/base",
      "model_module_version": "1.2.0",
      "model_name": "LayoutModel",
      "state": {}
     },
     "dd48c00d72f043bbbfd1de4bbbe8f44c": {
      "model_module": "@jupyter-widgets/controls",
      "model_module_version": "1.5.0",
      "model_name": "FloatProgressModel",
      "state": {
       "bar_style": "danger",
       "layout": "IPY_MODEL_9565aff10cdf4f669d183c6932d9b066",
       "max": 4757,
       "style": "IPY_MODEL_8fc198c26e9042d3b7c49f5ecc8b1ead",
       "value": 71
      }
     },
     "dee663ab78ef455bae188e21864e0643": {
      "model_module": "@jupyter-widgets/controls",
      "model_module_version": "1.5.0",
      "model_name": "DescriptionStyleModel",
      "state": {
       "description_width": ""
      }
     },
     "dfc89f5993b548688be493634d1a986f": {
      "model_module": "@jupyter-widgets/controls",
      "model_module_version": "1.5.0",
      "model_name": "HTMLModel",
      "state": {
       "layout": "IPY_MODEL_e25fe11f74c04462b1da7bdd48b284a9",
       "style": "IPY_MODEL_76aae4f7bf8b4a70aedabd4f950cbe58",
       "value": "Anime Pairs:   0%"
      }
     },
     "e0f88dd87f9a454a82c058f727354a1c": {
      "model_module": "@jupyter-widgets/controls",
      "model_module_version": "1.5.0",
      "model_name": "FloatProgressModel",
      "state": {
       "bar_style": "danger",
       "layout": "IPY_MODEL_492e5dc278af45e3a566645c46b06c53",
       "max": 4757,
       "style": "IPY_MODEL_7545f0f305364a2e9a87e54108ed20e3",
       "value": 466
      }
     },
     "e20859724b6f4b2a9930db7022ef181d": {
      "model_module": "@jupyter-widgets/base",
      "model_module_version": "1.2.0",
      "model_name": "LayoutModel",
      "state": {}
     },
     "e25fe11f74c04462b1da7bdd48b284a9": {
      "model_module": "@jupyter-widgets/base",
      "model_module_version": "1.2.0",
      "model_name": "LayoutModel",
      "state": {}
     },
     "e4ed8d9404fc439dbda9afca233073e2": {
      "model_module": "@jupyter-widgets/controls",
      "model_module_version": "1.5.0",
      "model_name": "HTMLModel",
      "state": {
       "layout": "IPY_MODEL_224012d9d1154de79a8d8dfc9602774e",
       "style": "IPY_MODEL_347c062b49d7460ab4fc6e3f3ad1d21d",
       "value": "2110045/11312146 [Elapsed: 12:32, Remaining: 54:43]"
      }
     },
     "e5a823182302449cb66793e4dfcf7bf0": {
      "model_module": "@jupyter-widgets/controls",
      "model_module_version": "1.5.0",
      "model_name": "HBoxModel",
      "state": {
       "children": [
        "IPY_MODEL_aa46766be5dc441d941c7012adebf737",
        "IPY_MODEL_757b4729518e482a890f8965a8791086",
        "IPY_MODEL_29695e9a9f1c40e2bccb7273f363ca38"
       ],
       "layout": "IPY_MODEL_ba1287d14d41466390b9de93dde2a787"
      }
     },
     "e71972d029064d7093d567e7dba9daba": {
      "model_module": "@jupyter-widgets/base",
      "model_module_version": "1.2.0",
      "model_name": "LayoutModel",
      "state": {}
     },
     "e782b56d2f264c0b9776b18c8f8bf5a1": {
      "model_module": "@jupyter-widgets/base",
      "model_module_version": "1.2.0",
      "model_name": "LayoutModel",
      "state": {}
     },
     "e86a581061a24e3c8c64032e64108c4b": {
      "model_module": "@jupyter-widgets/controls",
      "model_module_version": "1.5.0",
      "model_name": "HTMLModel",
      "state": {
       "layout": "IPY_MODEL_c1d4549612cb4132b36dcfbbb24c9d69",
       "style": "IPY_MODEL_940a8227a5c046a891c268deb96543ac",
       "value": "2395/23785"
      }
     },
     "e8b73ee5a34f4422865fcadc391a68be": {
      "model_module": "@jupyter-widgets/controls",
      "model_module_version": "1.5.0",
      "model_name": "DescriptionStyleModel",
      "state": {
       "description_width": ""
      }
     },
     "e941cd45bdca4fe0a58c13704945a798": {
      "model_module": "@jupyter-widgets/controls",
      "model_module_version": "1.5.0",
      "model_name": "ProgressStyleModel",
      "state": {
       "description_width": ""
      }
     },
     "e97fe29ac1ea4c8096e116bc27c3db8e": {
      "model_module": "@jupyter-widgets/controls",
      "model_module_version": "1.5.0",
      "model_name": "DescriptionStyleModel",
      "state": {
       "description_width": ""
      }
     },
     "ea7b16bc45c244798909c35ede684143": {
      "model_module": "@jupyter-widgets/controls",
      "model_module_version": "1.5.0",
      "model_name": "DescriptionStyleModel",
      "state": {
       "description_width": ""
      }
     },
     "eb880817a6e14e9db1af18ee52ae6a61": {
      "model_module": "@jupyter-widgets/base",
      "model_module_version": "1.2.0",
      "model_name": "LayoutModel",
      "state": {}
     },
     "eb9a23640f5b43068f21e573518c4e58": {
      "model_module": "@jupyter-widgets/controls",
      "model_module_version": "1.5.0",
      "model_name": "DescriptionStyleModel",
      "state": {
       "description_width": ""
      }
     },
     "eb9f0259ba414d39ace0d1af50596948": {
      "model_module": "@jupyter-widgets/base",
      "model_module_version": "1.2.0",
      "model_name": "LayoutModel",
      "state": {}
     },
     "eced7a8eaa5f468ebb2694f699cec145": {
      "model_module": "@jupyter-widgets/controls",
      "model_module_version": "1.5.0",
      "model_name": "DescriptionStyleModel",
      "state": {
       "description_width": ""
      }
     },
     "ed9073df4fbd4cb287b1189105e5724c": {
      "model_module": "@jupyter-widgets/controls",
      "model_module_version": "1.5.0",
      "model_name": "HTMLModel",
      "state": {
       "layout": "IPY_MODEL_305486e4f8724d17b5784440d289c542",
       "style": "IPY_MODEL_6008f34e7b7a465a8c130fad44fd87bc",
       "value": "Anime Shows:   0%"
      }
     },
     "edbb7b9186024728afb61c5025078d55": {
      "model_module": "@jupyter-widgets/controls",
      "model_module_version": "1.5.0",
      "model_name": "HBoxModel",
      "state": {
       "children": [
        "IPY_MODEL_3af22c72a35b4f64bb70e29b9e89b3d1",
        "IPY_MODEL_21bb4034fb954085ac0863b022dc80ad",
        "IPY_MODEL_01c5392905904cfd88d2f130ae169d47"
       ],
       "layout": "IPY_MODEL_ae90246fb3bc4b079ea45b24a3156ecc"
      }
     },
     "ee65a859123946c0bf02990d65cef3bc": {
      "model_module": "@jupyter-widgets/controls",
      "model_module_version": "1.5.0",
      "model_name": "HTMLModel",
      "state": {
       "layout": "IPY_MODEL_9dd144ecdf4d43cea25db41c9ed88b22",
       "style": "IPY_MODEL_cebc3962cab34a79bf5c11d675c00dd6"
      }
     },
     "ee87b3836a294612bd556b98a391e297": {
      "model_module": "@jupyter-widgets/base",
      "model_module_version": "1.2.0",
      "model_name": "LayoutModel",
      "state": {}
     },
     "eef0fbe7e02f4f97be2f16e90047e24a": {
      "model_module": "@jupyter-widgets/base",
      "model_module_version": "1.2.0",
      "model_name": "LayoutModel",
      "state": {}
     },
     "f234e54fd18149ddb60d8770d3fb7e4d": {
      "model_module": "@jupyter-widgets/controls",
      "model_module_version": "1.5.0",
      "model_name": "DescriptionStyleModel",
      "state": {
       "description_width": ""
      }
     },
     "f5a9b83378144a17af4a7185cbc3b4cb": {
      "model_module": "@jupyter-widgets/controls",
      "model_module_version": "1.5.0",
      "model_name": "HBoxModel",
      "state": {
       "children": [
        "IPY_MODEL_49a40f96f48f40cfa4c1a7cbdbb8d6b1",
        "IPY_MODEL_7922c0c399584c6f91d8a29cbdd5c529",
        "IPY_MODEL_ee65a859123946c0bf02990d65cef3bc"
       ],
       "layout": "IPY_MODEL_29c58f134eb444b1bd86efd1ad82e89a"
      }
     },
     "f77541afc79346c7a9df782deebcb4cf": {
      "model_module": "@jupyter-widgets/controls",
      "model_module_version": "1.5.0",
      "model_name": "FloatProgressModel",
      "state": {
       "bar_style": "danger",
       "layout": "IPY_MODEL_5634b0a339b44a449ca626785ca58f15",
       "max": 4757,
       "style": "IPY_MODEL_7ac8ccc3c7414ac7abc83be4108c0fe5",
       "value": 873
      }
     },
     "fa96bbe7b505420f906bef9e0843af82": {
      "model_module": "@jupyter-widgets/base",
      "model_module_version": "1.2.0",
      "model_name": "LayoutModel",
      "state": {}
     },
     "fc380e519eeb4ac9b5cc56886cb1a2ba": {
      "model_module": "@jupyter-widgets/controls",
      "model_module_version": "1.5.0",
      "model_name": "HBoxModel",
      "state": {
       "children": [
        "IPY_MODEL_320793c1cbca4c9bb3d74b421c6a1e29",
        "IPY_MODEL_5901bb76a2754b2aaac796b7a5e98836",
        "IPY_MODEL_d82a788462b0454cab53aa308cec28f8"
       ],
       "layout": "IPY_MODEL_eb880817a6e14e9db1af18ee52ae6a61"
      }
     },
     "fd8e72e92dd741098e2bcb56a825e35f": {
      "model_module": "@jupyter-widgets/controls",
      "model_module_version": "1.5.0",
      "model_name": "DescriptionStyleModel",
      "state": {
       "description_width": ""
      }
     },
     "fec30e3d25364679978329838503a724": {
      "model_module": "@jupyter-widgets/controls",
      "model_module_version": "1.5.0",
      "model_name": "FloatProgressModel",
      "state": {
       "layout": "IPY_MODEL_abbf21dddd854a37ac70524605b83145",
       "max": 11312146,
       "style": "IPY_MODEL_ba1f2e281e6a4665a58757cbdb64532a",
       "value": 1340628
      }
     },
     "fee6b4ec92f1459c97816b80803088a4": {
      "model_module": "@jupyter-widgets/controls",
      "model_module_version": "1.5.0",
      "model_name": "ProgressStyleModel",
      "state": {
       "description_width": ""
      }
     }
    },
    "version_major": 2,
    "version_minor": 0
   }
  }
 },
 "nbformat": 4,
 "nbformat_minor": 4
}
