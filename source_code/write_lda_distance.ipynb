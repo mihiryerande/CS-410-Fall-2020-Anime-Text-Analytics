{
 "cells": [
  {
   "cell_type": "markdown",
   "metadata": {},
   "source": [
    "# Anime Similarity\n",
    "\n",
    ">After training our LDA model, we obtained genre-breakdowns for each anime.\n",
    ">\n",
    ">Using this output, we can determine the similarity between anime shows based on their genre breakdowns.\n",
    ">\n",
    ">One way of accomplishing this is by using the *Hellinger* distance, which is also provided in *gensim*.\n",
    ">\n",
    ">Two shows having a **shorter distance** can be regarded as **more similar**, and vice-versa.\n",
    ">\n",
    ">The following will compute the distance for each pair of shows\n",
    ">\n",
    ">This will be written in one file in the JSON Lines format."
   ]
  },
  {
   "cell_type": "code",
   "execution_count": 1,
   "metadata": {},
   "outputs": [],
   "source": [
    "import json\n",
    "from os import mkdir\n",
    "\n",
    "mkdir('lda_distance')"
   ]
  },
  {
   "cell_type": "markdown",
   "metadata": {},
   "source": [
    "## Load LDA Model"
   ]
  },
  {
   "cell_type": "code",
   "execution_count": 2,
   "metadata": {},
   "outputs": [],
   "source": [
    "from gensim.models import LdaModel\n",
    "\n",
    "lda_model = LdaModel.load('lda_model/lda_model')"
   ]
  },
  {
   "cell_type": "markdown",
   "metadata": {},
   "source": [
    "## Read Text Input"
   ]
  },
  {
   "cell_type": "code",
   "execution_count": 3,
   "metadata": {},
   "outputs": [],
   "source": [
    "from gensim.corpora.dictionary import Dictionary\n",
    "from lda_helpers import read_lda_input  # Package with helpers\n",
    "\n",
    "# Read anime show titles -with text-, for later\n",
    "title_texts = read_lda_input('lda_input/lda_input.jl', title=True)\n",
    "title2probs = {title: lda_model[lda_model.id2word.doc2bow(text)] for title, text in title_texts}"
   ]
  },
  {
   "cell_type": "markdown",
   "metadata": {},
   "source": [
    "## Compute Hellinger Distances"
   ]
  },
  {
   "cell_type": "code",
   "execution_count": 4,
   "metadata": {},
   "outputs": [
    {
     "data": {
      "application/vnd.jupyter.widget-view+json": {
       "model_id": "1ed4ff3bd39142579795c2359f6ece14",
       "version_major": 2,
       "version_minor": 0
      },
      "text/plain": [
       "HBox(children=(HTML(value='Anime Shows'), FloatProgress(value=0.0, max=4757.0), HTML(value='')))"
      ]
     },
     "metadata": {},
     "output_type": "display_data"
    },
    {
     "data": {
      "application/vnd.jupyter.widget-view+json": {
       "model_id": "d77ad2d48ed64c79af2a974181e368fd",
       "version_major": 2,
       "version_minor": 0
      },
      "text/plain": [
       "HBox(children=(HTML(value='Anime Pairs'), FloatProgress(value=0.0, max=11312146.0), HTML(value='')))"
      ]
     },
     "metadata": {},
     "output_type": "display_data"
    },
    {
     "name": "stdout",
     "output_type": "stream",
     "text": [
      "\n",
      "\n"
     ]
    }
   ],
   "source": [
    "from gensim.matutils import hellinger\n",
    "from math import comb\n",
    "from tqdm.notebook import tqdm\n",
    "\n",
    "bar1 = tqdm(title2probs.items(), desc='Anime Shows', bar_format='{l_bar}{bar}{n_fmt}/{total_fmt}{postfix}')\n",
    "computed = set()  # Set of already computed Titles\n",
    "N = len(title2probs)\n",
    "bar2 = tqdm(total=comb(N,2), desc='Anime Pairs', bar_format='{l_bar}{bar}{n_fmt}/{total_fmt} [Elapsed: {elapsed}, Remaining: {remaining}]')\n",
    "\n",
    "with open('lda_distance/lda_distance.jl', 'w') as f:\n",
    "    for title1, probs1 in bar1:\n",
    "        bar1.set_postfix_str(f'(Working on \"{title1}\")')\n",
    "        for title2, probs2 in title2probs.items():\n",
    "            if title1 == title2 or title2 in computed:\n",
    "                continue  # No need to compute this\n",
    "            else:\n",
    "                dist = hellinger(probs1, probs2)\n",
    "                # Write first output JSON as newline\n",
    "                record = {\n",
    "                    'Title 1': title1,\n",
    "                    'Title 2': title2,\n",
    "                    'Distance': dist\n",
    "                }\n",
    "                line = json.dumps(record)\n",
    "                f.write('{}\\n'.format(line))\n",
    "                # Write second output JSON as newline\n",
    "                record = {\n",
    "                    'Title 1': title2,\n",
    "                    'Title 2': title1,\n",
    "                    'Distance': dist\n",
    "                }\n",
    "                bar2.update()\n",
    "        computed.add(title1)\n",
    "    bar2.close()"
   ]
  }
 ],
 "metadata": {
  "kernelspec": {
   "display_name": "Python 3",
   "language": "python",
   "name": "python3"
  },
  "language_info": {
   "codemirror_mode": {
    "name": "ipython",
    "version": 3
   },
   "file_extension": ".py",
   "mimetype": "text/x-python",
   "name": "python",
   "nbconvert_exporter": "python",
   "pygments_lexer": "ipython3",
   "version": "3.8.5"
  }
 },
 "nbformat": 4,
 "nbformat_minor": 4
}
