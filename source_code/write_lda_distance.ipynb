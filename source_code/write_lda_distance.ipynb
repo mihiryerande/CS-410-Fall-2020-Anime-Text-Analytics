{
 "cells": [
  {
   "cell_type": "markdown",
   "metadata": {},
   "source": [
    "# Anime Similarity\n",
    "\n",
    ">After training our LDA model, we obtained genre-breakdowns for each anime.\n",
    ">\n",
    ">Using this output, we can determine the similarity between anime shows based on their genre breakdowns.\n",
    ">\n",
    ">One way of accomplishing this is by using the *Hellinger* distance, which is also provided in *gensim*.\n",
    ">\n",
    ">Two shows having a **shorter distance** can be regarded as **more similar**, and vice-versa.\n",
    ">\n",
    ">The following will compute the distance for each pair of shows\n",
    ">\n",
    ">This will be written in one file in the JSON Lines format."
   ]
  },
  {
   "cell_type": "code",
   "execution_count": 1,
   "metadata": {},
   "outputs": [],
   "source": [
    "import json\n",
    "from os import mkdir\n",
    "\n",
    "mkdir('lda_distance')"
   ]
  },
  {
   "cell_type": "markdown",
   "metadata": {},
   "source": [
    "## Load LDA Model"
   ]
  },
  {
   "cell_type": "code",
   "execution_count": 2,
   "metadata": {},
   "outputs": [],
   "source": [
    "from gensim.models import LdaModel\n",
    "\n",
    "lda_model = LdaModel.load('lda_model/lda_model')"
   ]
  },
  {
   "cell_type": "markdown",
   "metadata": {},
   "source": [
    "## Read Text Input"
   ]
  },
  {
   "cell_type": "code",
   "execution_count": 3,
   "metadata": {},
   "outputs": [],
   "source": [
    "from gensim.corpora.dictionary import Dictionary\n",
    "from lda_helpers import read_lda_input  # Package with helpers\n",
    "\n",
    "# Read anime show titles -with text-, for later\n",
    "title_texts = read_lda_input('lda_input/lda_input.jl', title=True)\n",
    "title2probs = {title: lda_model[lda_model.id2word.doc2bow(text)] for title, text in title_texts}"
   ]
  },
  {
   "cell_type": "markdown",
   "metadata": {},
   "source": [
    "## Compute Hellinger Distances"
   ]
  },
  {
   "cell_type": "markdown",
   "metadata": {},
   "source": [
    "### File Helpers\n",
    "\n",
    ">A single output file would be too large.\n",
    ">\n",
    ">Limit the number of records written to a single file."
   ]
  },
  {
   "cell_type": "code",
   "execution_count": 4,
   "metadata": {},
   "outputs": [],
   "source": [
    "record_count = 0\n",
    "record_limit = 5e5  # Limit on number of records in a given .jl file\n",
    "filename_index = 0\n",
    "filename_template = 'lda_distance/lda_distance_{:03d}.jl'\n",
    "\n",
    "def new_file():\n",
    "    global filename_template\n",
    "    global filename_index\n",
    "    new_f = open(filename_template.format(filename_index), 'w')\n",
    "    return new_f\n",
    "\n",
    "def update_file(this_f, rec):\n",
    "    global record_count\n",
    "    global record_limit\n",
    "    global filename_index\n",
    "    f.write('{}\\n'.format(json.dumps(rec)))\n",
    "    record_count += 1\n",
    "    if record_count < record_limit:\n",
    "        return this_f\n",
    "    else:\n",
    "        this_f.close()\n",
    "        next_f = new_file()\n",
    "        record_count = 0\n",
    "        filename_index += 1\n",
    "        return next_f\n"
   ]
  },
  {
   "cell_type": "markdown",
   "metadata": {},
   "source": [
    "### Compute Distances"
   ]
  },
  {
   "cell_type": "code",
   "execution_count": 5,
   "metadata": {},
   "outputs": [
    {
     "data": {
      "application/vnd.jupyter.widget-view+json": {
       "model_id": "562222d9f84644f3840162892e25a749",
       "version_major": 2,
       "version_minor": 0
      },
      "text/plain": [
       "HBox(children=(HTML(value='Anime Shows'), FloatProgress(value=0.0, max=4757.0), HTML(value='')))"
      ]
     },
     "metadata": {},
     "output_type": "display_data"
    },
    {
     "data": {
      "application/vnd.jupyter.widget-view+json": {
       "model_id": "485a4b9f7b5c4510ac2114935f3bcf99",
       "version_major": 2,
       "version_minor": 0
      },
      "text/plain": [
       "HBox(children=(HTML(value='Distance Records'), FloatProgress(value=0.0, max=22624292.0), HTML(value='')))"
      ]
     },
     "metadata": {},
     "output_type": "display_data"
    },
    {
     "name": "stdout",
     "output_type": "stream",
     "text": [
      "\n",
      "\n"
     ]
    }
   ],
   "source": [
    "from gensim.matutils import hellinger\n",
    "from math import perm\n",
    "from tqdm.notebook import tqdm\n",
    "\n",
    "bar1 = tqdm(title2probs.items(), desc='Anime Shows', bar_format='{l_bar}{bar}{n_fmt}/{total_fmt}{postfix}')\n",
    "computed = set()  # Set of already computed Titles\n",
    "N = len(title2probs)\n",
    "bar2 = tqdm(total=perm(N,2), desc='Distance Records', bar_format='{l_bar}{bar}{n_fmt}/{total_fmt} [Elapsed: {elapsed}, Remaining: {remaining}]')\n",
    "\n",
    "f = new_file()\n",
    "for title1, probs1 in bar1:\n",
    "    bar1.set_postfix_str(f'(Working on \"{title1}\")')\n",
    "    for title2, probs2 in title2probs.items():\n",
    "        if title1 == title2 or title2 in computed:\n",
    "            continue  # No need to compute this\n",
    "        else:\n",
    "            dist = hellinger(probs1, probs2)\n",
    "            # Write 1 --> 2 to file\n",
    "            record = {'Title 1': title1, 'Title 2': title2, 'Distance': dist}\n",
    "            f = update_file(f, record)\n",
    "            bar2.update()\n",
    "            # Write 2 --> 1 to file\n",
    "            record = {'Title 1': title2, 'Title 2': title1, 'Distance': dist}\n",
    "            f = update_file(f, record)\n",
    "            bar2.update()\n",
    "    computed.add(title1)\n",
    "    bar1.set_postfix_str('')\n",
    "bar2.close()\n",
    "f.close()"
   ]
  }
 ],
 "metadata": {
  "kernelspec": {
   "display_name": "Python 3",
   "language": "python",
   "name": "python3"
  },
  "language_info": {
   "codemirror_mode": {
    "name": "ipython",
    "version": 3
   },
   "file_extension": ".py",
   "mimetype": "text/x-python",
   "name": "python",
   "nbconvert_exporter": "python",
   "pygments_lexer": "ipython3",
   "version": "3.8.5"
  },
  "widgets": {
   "application/vnd.jupyter.widget-state+json": {
    "state": {
     "0365248877d548789a1ade86c89dc663": {
      "model_module": "@jupyter-widgets/base",
      "model_module_version": "1.2.0",
      "model_name": "LayoutModel",
      "state": {}
     },
     "083a7b48674548f7aebdbe6200ccdb30": {
      "model_module": "@jupyter-widgets/base",
      "model_module_version": "1.2.0",
      "model_name": "LayoutModel",
      "state": {}
     },
     "09dbadb699924d8aaa0c501bb3649d46": {
      "model_module": "@jupyter-widgets/controls",
      "model_module_version": "1.5.0",
      "model_name": "ProgressStyleModel",
      "state": {
       "description_width": ""
      }
     },
     "0a8fb1a6e13b42f391599692fd2fb84d": {
      "model_module": "@jupyter-widgets/base",
      "model_module_version": "1.2.0",
      "model_name": "LayoutModel",
      "state": {}
     },
     "0f9ae97852d9483daf84073e6b120e66": {
      "model_module": "@jupyter-widgets/controls",
      "model_module_version": "1.5.0",
      "model_name": "DescriptionStyleModel",
      "state": {
       "description_width": ""
      }
     },
     "11f83e6beee548f69d032b953b577159": {
      "model_module": "@jupyter-widgets/controls",
      "model_module_version": "1.5.0",
      "model_name": "HTMLModel",
      "state": {
       "layout": "IPY_MODEL_2ee448aa7d4c4645a7fda65d25051990",
       "style": "IPY_MODEL_0f9ae97852d9483daf84073e6b120e66",
       "value": "0/11312146 [Elapsed: 08:06, Remaining: ?]"
      }
     },
     "12b114ff23fc42cb9d1192fdb4a9c4df": {
      "model_module": "@jupyter-widgets/controls",
      "model_module_version": "1.5.0",
      "model_name": "HTMLModel",
      "state": {
       "layout": "IPY_MODEL_afdd1f4a5712443e8fab5b49037eddbd",
       "style": "IPY_MODEL_a10b212811804dc095034d10675c8e06",
       "value": "Anime Pairs:   0%"
      }
     },
     "16752a563478407586cb811479ab615c": {
      "model_module": "@jupyter-widgets/controls",
      "model_module_version": "1.5.0",
      "model_name": "FloatProgressModel",
      "state": {
       "bar_style": "danger",
       "layout": "IPY_MODEL_d978d55a7a14498cb0e17ae64c1b62d8",
       "max": 11312146,
       "style": "IPY_MODEL_afe07293be8d4741ae2a9588d6143f72"
      }
     },
     "1752c8d2a0114b2a824bdb5c9539d167": {
      "model_module": "@jupyter-widgets/base",
      "model_module_version": "1.2.0",
      "model_name": "LayoutModel",
      "state": {}
     },
     "177b92999f624ae7a2e4b183d020bf0a": {
      "model_module": "@jupyter-widgets/controls",
      "model_module_version": "1.5.0",
      "model_name": "HBoxModel",
      "state": {
       "children": [
        "IPY_MODEL_cdc04117b5d544e9aee1aa549f9b523e",
        "IPY_MODEL_c21ac0390d264f5e87e6f57dfc830e72",
        "IPY_MODEL_74feab3645954027a6afcee619e919d1"
       ],
       "layout": "IPY_MODEL_a2058554d6f94bd0a9d48e9c4402d04a"
      }
     },
     "1982ea4d64a94c06a3ce60daca1b0d4b": {
      "model_module": "@jupyter-widgets/base",
      "model_module_version": "1.2.0",
      "model_name": "LayoutModel",
      "state": {}
     },
     "1aae6028b81948a4b17a2d12f15a9f97": {
      "model_module": "@jupyter-widgets/base",
      "model_module_version": "1.2.0",
      "model_name": "LayoutModel",
      "state": {}
     },
     "1b44e2a24d4740f48bbc4fc72cd92ada": {
      "model_module": "@jupyter-widgets/base",
      "model_module_version": "1.2.0",
      "model_name": "LayoutModel",
      "state": {}
     },
     "1b6c43bf955c47f4b367cd165b90c888": {
      "model_module": "@jupyter-widgets/base",
      "model_module_version": "1.2.0",
      "model_name": "LayoutModel",
      "state": {}
     },
     "1b7fa60d4c264c158897ac4944fd87d0": {
      "model_module": "@jupyter-widgets/controls",
      "model_module_version": "1.5.0",
      "model_name": "FloatProgressModel",
      "state": {
       "bar_style": "danger",
       "layout": "IPY_MODEL_a6faa740e9ef41a0bdb52c3b8b46ab81",
       "max": 11312146,
       "style": "IPY_MODEL_09dbadb699924d8aaa0c501bb3649d46"
      }
     },
     "21f9600bff354b5d98880b19ddf84be0": {
      "model_module": "@jupyter-widgets/controls",
      "model_module_version": "1.5.0",
      "model_name": "HBoxModel",
      "state": {
       "children": [
        "IPY_MODEL_d03b3e27d0584dec927661981e7c50fa",
        "IPY_MODEL_1b7fa60d4c264c158897ac4944fd87d0",
        "IPY_MODEL_a54cd8f037c046ba9e28800443b1f92b"
       ],
       "layout": "IPY_MODEL_b15e74c8b7a54105b72c2f8983985931"
      }
     },
     "22fdc650ece64d4f9d0dae918aa2e906": {
      "model_module": "@jupyter-widgets/base",
      "model_module_version": "1.2.0",
      "model_name": "LayoutModel",
      "state": {}
     },
     "243d17e4a7154e488ea23f31137d9de7": {
      "model_module": "@jupyter-widgets/controls",
      "model_module_version": "1.5.0",
      "model_name": "DescriptionStyleModel",
      "state": {
       "description_width": ""
      }
     },
     "285305aa687c44e3bfb5965b6a83a52a": {
      "model_module": "@jupyter-widgets/controls",
      "model_module_version": "1.5.0",
      "model_name": "HTMLModel",
      "state": {
       "layout": "IPY_MODEL_cd9b552c4d074a8cbde09af546e36bd1",
       "style": "IPY_MODEL_6a96f2712b7043c3a0212a29e8a486d0",
       "value": "Distance Records: 100%"
      }
     },
     "28ec018eb59a4a1d8b8e64b938a65c83": {
      "model_module": "@jupyter-widgets/controls",
      "model_module_version": "1.5.0",
      "model_name": "DescriptionStyleModel",
      "state": {
       "description_width": ""
      }
     },
     "2e4c82b31fc14484a014bfe54378b3d7": {
      "model_module": "@jupyter-widgets/controls",
      "model_module_version": "1.5.0",
      "model_name": "DescriptionStyleModel",
      "state": {
       "description_width": ""
      }
     },
     "2ee448aa7d4c4645a7fda65d25051990": {
      "model_module": "@jupyter-widgets/base",
      "model_module_version": "1.2.0",
      "model_name": "LayoutModel",
      "state": {}
     },
     "305486e4f8724d17b5784440d289c542": {
      "model_module": "@jupyter-widgets/base",
      "model_module_version": "1.2.0",
      "model_name": "LayoutModel",
      "state": {}
     },
     "320793c1cbca4c9bb3d74b421c6a1e29": {
      "model_module": "@jupyter-widgets/controls",
      "model_module_version": "1.5.0",
      "model_name": "HTMLModel",
      "state": {
       "layout": "IPY_MODEL_b042cb0e0ef74cd7bda0656d5dd521ae",
       "style": "IPY_MODEL_af09a8d7f99843c8a16831f81350ce76",
       "value": "Anime Pairs:  33%"
      }
     },
     "32a55c766fac45568e2e454a6bb5ce30": {
      "model_module": "@jupyter-widgets/controls",
      "model_module_version": "1.5.0",
      "model_name": "DescriptionStyleModel",
      "state": {
       "description_width": ""
      }
     },
     "33086cc879cb4e139e703905da4bcadf": {
      "model_module": "@jupyter-widgets/base",
      "model_module_version": "1.2.0",
      "model_name": "LayoutModel",
      "state": {}
     },
     "330feaf1555444908d86c0495fe2be28": {
      "model_module": "@jupyter-widgets/controls",
      "model_module_version": "1.5.0",
      "model_name": "ProgressStyleModel",
      "state": {
       "description_width": ""
      }
     },
     "39d35589b5524b89998ba6069e89407b": {
      "model_module": "@jupyter-widgets/controls",
      "model_module_version": "1.5.0",
      "model_name": "ProgressStyleModel",
      "state": {
       "description_width": ""
      }
     },
     "3d81177410d449d8841aa5254c63aa7b": {
      "model_module": "@jupyter-widgets/controls",
      "model_module_version": "1.5.0",
      "model_name": "DescriptionStyleModel",
      "state": {
       "description_width": ""
      }
     },
     "40a7b296748a40f0a6473f93e322db81": {
      "model_module": "@jupyter-widgets/controls",
      "model_module_version": "1.5.0",
      "model_name": "HTMLModel",
      "state": {
       "layout": "IPY_MODEL_a0330d1a28af4fe2b71560c3cf964888",
       "style": "IPY_MODEL_c5c6fb10088a4fad9e4a229fc0eb21e7",
       "value": "Anime Pairs:  12%"
      }
     },
     "43b86cd3647b47d194bff39f87a069fb": {
      "model_module": "@jupyter-widgets/controls",
      "model_module_version": "1.5.0",
      "model_name": "HBoxModel",
      "state": {
       "children": [
        "IPY_MODEL_ce9359dda41543ac92dcba86a04534f3",
        "IPY_MODEL_6d619650283e4b63a15747f1f4612450",
        "IPY_MODEL_9f24e3a2802e414883c67f9d4d35d975"
       ],
       "layout": "IPY_MODEL_1982ea4d64a94c06a3ce60daca1b0d4b"
      }
     },
     "45509b7fe581496fa96e8368d8eb2ae4": {
      "model_module": "@jupyter-widgets/base",
      "model_module_version": "1.2.0",
      "model_name": "LayoutModel",
      "state": {}
     },
     "464ba49f696542d1921b7f16c80ce380": {
      "model_module": "@jupyter-widgets/controls",
      "model_module_version": "1.5.0",
      "model_name": "HBoxModel",
      "state": {
       "children": [
        "IPY_MODEL_c334b34bd29145e9828f9e5853d4a215",
        "IPY_MODEL_f77541afc79346c7a9df782deebcb4cf",
        "IPY_MODEL_89ab5247afad4b5390981a17c2accae7"
       ],
       "layout": "IPY_MODEL_c9bdef4ea20340a2ac1dbeb608a9b96a"
      }
     },
     "46a70ec3ad754bff9dd99ed770eb2b26": {
      "model_module": "@jupyter-widgets/controls",
      "model_module_version": "1.5.0",
      "model_name": "HBoxModel",
      "state": {
       "children": [
        "IPY_MODEL_7b20c25eedda438eaea6e621e6524d02",
        "IPY_MODEL_bec52d3635d840bda3294f9605876a6b",
        "IPY_MODEL_518eb779f7b746e783b94a772339acb4"
       ],
       "layout": "IPY_MODEL_4a072de9befa415a827b0cf162a47b55"
      }
     },
     "473ceb37aeb7426dadae737157302041": {
      "model_module": "@jupyter-widgets/base",
      "model_module_version": "1.2.0",
      "model_name": "LayoutModel",
      "state": {}
     },
     "485a4b9f7b5c4510ac2114935f3bcf99": {
      "model_module": "@jupyter-widgets/controls",
      "model_module_version": "1.5.0",
      "model_name": "HBoxModel",
      "state": {
       "children": [
        "IPY_MODEL_285305aa687c44e3bfb5965b6a83a52a",
        "IPY_MODEL_5a62b545d20a47fe904c0b344927dde9",
        "IPY_MODEL_bf39d63449af4f089a9b3a4597951fb8"
       ],
       "layout": "IPY_MODEL_eef0fbe7e02f4f97be2f16e90047e24a"
      }
     },
     "4a072de9befa415a827b0cf162a47b55": {
      "model_module": "@jupyter-widgets/base",
      "model_module_version": "1.2.0",
      "model_name": "LayoutModel",
      "state": {}
     },
     "4a176996347c49f7a975ddb69ece12e8": {
      "model_module": "@jupyter-widgets/controls",
      "model_module_version": "1.5.0",
      "model_name": "DescriptionStyleModel",
      "state": {
       "description_width": ""
      }
     },
     "512e1d8e93ee4b0c8c3f731cdb17227a": {
      "model_module": "@jupyter-widgets/controls",
      "model_module_version": "1.5.0",
      "model_name": "HTMLModel",
      "state": {
       "layout": "IPY_MODEL_22fdc650ece64d4f9d0dae918aa2e906",
       "style": "IPY_MODEL_c8d67dc0c28647cb95f833b958c8b25f",
       "value": "0/11312146 [Elapsed: 05:01, Remaining: ?]"
      }
     },
     "518eb779f7b746e783b94a772339acb4": {
      "model_module": "@jupyter-widgets/controls",
      "model_module_version": "1.5.0",
      "model_name": "HTMLModel",
      "state": {
       "layout": "IPY_MODEL_0a8fb1a6e13b42f391599692fd2fb84d",
       "style": "IPY_MODEL_dee663ab78ef455bae188e21864e0643",
       "value": "290/4757, (Working on &quot;Kyougoku Natsuhiko: Kousetsu Hyaku Monogatari&quot;)"
      }
     },
     "5252428f010e4788a5fffbb6ff131818": {
      "model_module": "@jupyter-widgets/base",
      "model_module_version": "1.2.0",
      "model_name": "LayoutModel",
      "state": {}
     },
     "53000220d3ec40a2895e9e44167ab13c": {
      "model_module": "@jupyter-widgets/controls",
      "model_module_version": "1.5.0",
      "model_name": "ProgressStyleModel",
      "state": {
       "description_width": ""
      }
     },
     "5354fea67151425ca17591b7817e25ed": {
      "model_module": "@jupyter-widgets/controls",
      "model_module_version": "1.5.0",
      "model_name": "ProgressStyleModel",
      "state": {
       "description_width": ""
      }
     },
     "562222d9f84644f3840162892e25a749": {
      "model_module": "@jupyter-widgets/controls",
      "model_module_version": "1.5.0",
      "model_name": "HBoxModel",
      "state": {
       "children": [
        "IPY_MODEL_a9e6f723abd94b03ac6aa293bb83401b",
        "IPY_MODEL_84c62dff48f84d7aaa11e921d6e2ec2c",
        "IPY_MODEL_760c35b6993b4293a52698e365df2350"
       ],
       "layout": "IPY_MODEL_45509b7fe581496fa96e8368d8eb2ae4"
      }
     },
     "5634b0a339b44a449ca626785ca58f15": {
      "model_module": "@jupyter-widgets/base",
      "model_module_version": "1.2.0",
      "model_name": "LayoutModel",
      "state": {}
     },
     "56da6f2e135547528e21bfbb29bbe9ff": {
      "model_module": "@jupyter-widgets/controls",
      "model_module_version": "1.5.0",
      "model_name": "HBoxModel",
      "state": {
       "children": [
        "IPY_MODEL_dfc89f5993b548688be493634d1a986f",
        "IPY_MODEL_82bc50ed5fff4608a97aeb29e1975061",
        "IPY_MODEL_11f83e6beee548f69d032b953b577159"
       ],
       "layout": "IPY_MODEL_b0ec95e47d0840b18f81ddadae44794e"
      }
     },
     "5901bb76a2754b2aaac796b7a5e98836": {
      "model_module": "@jupyter-widgets/controls",
      "model_module_version": "1.5.0",
      "model_name": "FloatProgressModel",
      "state": {
       "layout": "IPY_MODEL_a6ecbaf661fb485eac4f85e6915aa0cd",
       "max": 11312146,
       "style": "IPY_MODEL_5354fea67151425ca17591b7817e25ed",
       "value": 3772363
      }
     },
     "5a62b545d20a47fe904c0b344927dde9": {
      "model_module": "@jupyter-widgets/controls",
      "model_module_version": "1.5.0",
      "model_name": "FloatProgressModel",
      "state": {
       "bar_style": "success",
       "layout": "IPY_MODEL_c8e8713bc97b49fba88892e3e7013cb9",
       "max": 22624292,
       "style": "IPY_MODEL_6734322a0ca64768ac1e5248d4ea484e",
       "value": 22624292
      }
     },
     "6008f34e7b7a465a8c130fad44fd87bc": {
      "model_module": "@jupyter-widgets/controls",
      "model_module_version": "1.5.0",
      "model_name": "DescriptionStyleModel",
      "state": {
       "description_width": ""
      }
     },
     "60bebc3604f641cfbce23751cc5cf969": {
      "model_module": "@jupyter-widgets/base",
      "model_module_version": "1.2.0",
      "model_name": "LayoutModel",
      "state": {}
     },
     "64f81968125440c5882d8511327dfc3a": {
      "model_module": "@jupyter-widgets/controls",
      "model_module_version": "1.5.0",
      "model_name": "DescriptionStyleModel",
      "state": {
       "description_width": ""
      }
     },
     "6734322a0ca64768ac1e5248d4ea484e": {
      "model_module": "@jupyter-widgets/controls",
      "model_module_version": "1.5.0",
      "model_name": "ProgressStyleModel",
      "state": {
       "description_width": ""
      }
     },
     "6a27287704824de1bba39ec707e10853": {
      "model_module": "@jupyter-widgets/controls",
      "model_module_version": "1.5.0",
      "model_name": "HTMLModel",
      "state": {
       "layout": "IPY_MODEL_bbdea7e33a5646129b54bd9b2108d6f1",
       "style": "IPY_MODEL_a597552650124e1a98d2dfbc272e93bf",
       "value": "0/4757, (Working on &quot;Fullmetal Alchemist: Brotherhood&quot;)"
      }
     },
     "6a96f2712b7043c3a0212a29e8a486d0": {
      "model_module": "@jupyter-widgets/controls",
      "model_module_version": "1.5.0",
      "model_name": "DescriptionStyleModel",
      "state": {
       "description_width": ""
      }
     },
     "6d619650283e4b63a15747f1f4612450": {
      "model_module": "@jupyter-widgets/controls",
      "model_module_version": "1.5.0",
      "model_name": "FloatProgressModel",
      "state": {
       "bar_style": "danger",
       "layout": "IPY_MODEL_b0a4fa81a09345a88f9a78e234352630",
       "max": 4757,
       "style": "IPY_MODEL_330feaf1555444908d86c0495fe2be28"
      }
     },
     "6fb62d573b0f46ef851b597c20c385bf": {
      "model_module": "@jupyter-widgets/controls",
      "model_module_version": "1.5.0",
      "model_name": "HBoxModel",
      "state": {
       "children": [
        "IPY_MODEL_ed9073df4fbd4cb287b1189105e5724c",
        "IPY_MODEL_bc1bceb717094746aacc69e9795828ab",
        "IPY_MODEL_6a27287704824de1bba39ec707e10853"
       ],
       "layout": "IPY_MODEL_84f2973d27d140d78eb010984fca79c3"
      }
     },
     "73e8547402b94b628cf2c76ac9b03d8c": {
      "model_module": "@jupyter-widgets/controls",
      "model_module_version": "1.5.0",
      "model_name": "DescriptionStyleModel",
      "state": {
       "description_width": ""
      }
     },
     "74feab3645954027a6afcee619e919d1": {
      "model_module": "@jupyter-widgets/controls",
      "model_module_version": "1.5.0",
      "model_name": "HTMLModel",
      "state": {
       "layout": "IPY_MODEL_33086cc879cb4e139e703905da4bcadf",
       "style": "IPY_MODEL_243d17e4a7154e488ea23f31137d9de7",
       "value": "0/4757, (Working on &quot;Fullmetal Alchemist: Brotherhood&quot;)"
      }
     },
     "75cb32c4364a41c29319e2be8e335698": {
      "model_module": "@jupyter-widgets/base",
      "model_module_version": "1.2.0",
      "model_name": "LayoutModel",
      "state": {}
     },
     "760c35b6993b4293a52698e365df2350": {
      "model_module": "@jupyter-widgets/controls",
      "model_module_version": "1.5.0",
      "model_name": "HTMLModel",
      "state": {
       "layout": "IPY_MODEL_bada93b9f7174caaac12c0c19bf2b1cc",
       "style": "IPY_MODEL_32a55c766fac45568e2e454a6bb5ce30",
       "value": "4757/4757"
      }
     },
     "76aae4f7bf8b4a70aedabd4f950cbe58": {
      "model_module": "@jupyter-widgets/controls",
      "model_module_version": "1.5.0",
      "model_name": "DescriptionStyleModel",
      "state": {
       "description_width": ""
      }
     },
     "7ac8ccc3c7414ac7abc83be4108c0fe5": {
      "model_module": "@jupyter-widgets/controls",
      "model_module_version": "1.5.0",
      "model_name": "ProgressStyleModel",
      "state": {
       "description_width": ""
      }
     },
     "7b20c25eedda438eaea6e621e6524d02": {
      "model_module": "@jupyter-widgets/controls",
      "model_module_version": "1.5.0",
      "model_name": "HTMLModel",
      "state": {
       "layout": "IPY_MODEL_81a5ce75601d4de894a92ae501c8bcd1",
       "style": "IPY_MODEL_ea7b16bc45c244798909c35ede684143",
       "value": "Anime Shows:   6%"
      }
     },
     "80b2aad23333415d9047fcbc1e482269": {
      "model_module": "@jupyter-widgets/controls",
      "model_module_version": "1.5.0",
      "model_name": "DescriptionStyleModel",
      "state": {
       "description_width": ""
      }
     },
     "80d3d4b7f172481e86e6beaa55fd272b": {
      "model_module": "@jupyter-widgets/base",
      "model_module_version": "1.2.0",
      "model_name": "LayoutModel",
      "state": {}
     },
     "81a5ce75601d4de894a92ae501c8bcd1": {
      "model_module": "@jupyter-widgets/base",
      "model_module_version": "1.2.0",
      "model_name": "LayoutModel",
      "state": {}
     },
     "82bc50ed5fff4608a97aeb29e1975061": {
      "model_module": "@jupyter-widgets/controls",
      "model_module_version": "1.5.0",
      "model_name": "FloatProgressModel",
      "state": {
       "bar_style": "danger",
       "layout": "IPY_MODEL_87075b3a576343c593714fa5c1dd6f51",
       "max": 11312146,
       "style": "IPY_MODEL_53000220d3ec40a2895e9e44167ab13c"
      }
     },
     "84c62dff48f84d7aaa11e921d6e2ec2c": {
      "model_module": "@jupyter-widgets/controls",
      "model_module_version": "1.5.0",
      "model_name": "FloatProgressModel",
      "state": {
       "bar_style": "success",
       "layout": "IPY_MODEL_aa914f196f9f48cc8eb965416bdc9940",
       "max": 4757,
       "style": "IPY_MODEL_39d35589b5524b89998ba6069e89407b",
       "value": 4757
      }
     },
     "84f2973d27d140d78eb010984fca79c3": {
      "model_module": "@jupyter-widgets/base",
      "model_module_version": "1.2.0",
      "model_name": "LayoutModel",
      "state": {}
     },
     "85e1149216d9417f83d33b152dc3bd0b": {
      "model_module": "@jupyter-widgets/controls",
      "model_module_version": "1.5.0",
      "model_name": "DescriptionStyleModel",
      "state": {
       "description_width": ""
      }
     },
     "87075b3a576343c593714fa5c1dd6f51": {
      "model_module": "@jupyter-widgets/base",
      "model_module_version": "1.2.0",
      "model_name": "LayoutModel",
      "state": {}
     },
     "89ab5247afad4b5390981a17c2accae7": {
      "model_module": "@jupyter-widgets/controls",
      "model_module_version": "1.5.0",
      "model_name": "HTMLModel",
      "state": {
       "layout": "IPY_MODEL_1b44e2a24d4740f48bbc4fc72cd92ada",
       "style": "IPY_MODEL_73e8547402b94b628cf2c76ac9b03d8c",
       "value": "873/4757, (Working on &quot;Fuwa Aoyun Manyouji&quot;)"
      }
     },
     "8a9e94bcc6b24017aa533b33a0fffb9f": {
      "model_module": "@jupyter-widgets/base",
      "model_module_version": "1.2.0",
      "model_name": "LayoutModel",
      "state": {}
     },
     "9140854a6567462cb421077943a6620c": {
      "model_module": "@jupyter-widgets/controls",
      "model_module_version": "1.5.0",
      "model_name": "DescriptionStyleModel",
      "state": {
       "description_width": ""
      }
     },
     "9bbeca1fd24441a3812797cab1ab7849": {
      "model_module": "@jupyter-widgets/controls",
      "model_module_version": "1.5.0",
      "model_name": "HBoxModel",
      "state": {
       "children": [
        "IPY_MODEL_40a7b296748a40f0a6473f93e322db81",
        "IPY_MODEL_fec30e3d25364679978329838503a724",
        "IPY_MODEL_d0260e3fbf7c410d8d59107c7ca86cbf"
       ],
       "layout": "IPY_MODEL_1aae6028b81948a4b17a2d12f15a9f97"
      }
     },
     "9f24e3a2802e414883c67f9d4d35d975": {
      "model_module": "@jupyter-widgets/controls",
      "model_module_version": "1.5.0",
      "model_name": "HTMLModel",
      "state": {
       "layout": "IPY_MODEL_c243d1b2601c440eb5111231a3092eea",
       "style": "IPY_MODEL_28ec018eb59a4a1d8b8e64b938a65c83",
       "value": "0/4757"
      }
     },
     "a0330d1a28af4fe2b71560c3cf964888": {
      "model_module": "@jupyter-widgets/base",
      "model_module_version": "1.2.0",
      "model_name": "LayoutModel",
      "state": {}
     },
     "a10b212811804dc095034d10675c8e06": {
      "model_module": "@jupyter-widgets/controls",
      "model_module_version": "1.5.0",
      "model_name": "DescriptionStyleModel",
      "state": {
       "description_width": ""
      }
     },
     "a2058554d6f94bd0a9d48e9c4402d04a": {
      "model_module": "@jupyter-widgets/base",
      "model_module_version": "1.2.0",
      "model_name": "LayoutModel",
      "state": {}
     },
     "a404d36294534a258aa61ce82aa4b3a3": {
      "model_module": "@jupyter-widgets/controls",
      "model_module_version": "1.5.0",
      "model_name": "HBoxModel",
      "state": {
       "children": [
        "IPY_MODEL_12b114ff23fc42cb9d1192fdb4a9c4df",
        "IPY_MODEL_16752a563478407586cb811479ab615c",
        "IPY_MODEL_512e1d8e93ee4b0c8c3f731cdb17227a"
       ],
       "layout": "IPY_MODEL_1752c8d2a0114b2a824bdb5c9539d167"
      }
     },
     "a54cd8f037c046ba9e28800443b1f92b": {
      "model_module": "@jupyter-widgets/controls",
      "model_module_version": "1.5.0",
      "model_name": "HTMLModel",
      "state": {
       "layout": "IPY_MODEL_80d3d4b7f172481e86e6beaa55fd272b",
       "style": "IPY_MODEL_85e1149216d9417f83d33b152dc3bd0b",
       "value": "0/11312146 [Elapsed: 07:22, Remaining: ?]"
      }
     },
     "a597552650124e1a98d2dfbc272e93bf": {
      "model_module": "@jupyter-widgets/controls",
      "model_module_version": "1.5.0",
      "model_name": "DescriptionStyleModel",
      "state": {
       "description_width": ""
      }
     },
     "a6ecbaf661fb485eac4f85e6915aa0cd": {
      "model_module": "@jupyter-widgets/base",
      "model_module_version": "1.2.0",
      "model_name": "LayoutModel",
      "state": {}
     },
     "a6faa740e9ef41a0bdb52c3b8b46ab81": {
      "model_module": "@jupyter-widgets/base",
      "model_module_version": "1.2.0",
      "model_name": "LayoutModel",
      "state": {}
     },
     "a72f2e807d754a43a94d8401cb3daf13": {
      "model_module": "@jupyter-widgets/controls",
      "model_module_version": "1.5.0",
      "model_name": "ProgressStyleModel",
      "state": {
       "description_width": ""
      }
     },
     "a9e6f723abd94b03ac6aa293bb83401b": {
      "model_module": "@jupyter-widgets/controls",
      "model_module_version": "1.5.0",
      "model_name": "HTMLModel",
      "state": {
       "layout": "IPY_MODEL_473ceb37aeb7426dadae737157302041",
       "style": "IPY_MODEL_3d81177410d449d8841aa5254c63aa7b",
       "value": "Anime Shows: 100%"
      }
     },
     "aa914f196f9f48cc8eb965416bdc9940": {
      "model_module": "@jupyter-widgets/base",
      "model_module_version": "1.2.0",
      "model_name": "LayoutModel",
      "state": {}
     },
     "ab726805c7814185b278e413b042b96e": {
      "model_module": "@jupyter-widgets/base",
      "model_module_version": "1.2.0",
      "model_name": "LayoutModel",
      "state": {}
     },
     "abbf21dddd854a37ac70524605b83145": {
      "model_module": "@jupyter-widgets/base",
      "model_module_version": "1.2.0",
      "model_name": "LayoutModel",
      "state": {}
     },
     "af09a8d7f99843c8a16831f81350ce76": {
      "model_module": "@jupyter-widgets/controls",
      "model_module_version": "1.5.0",
      "model_name": "DescriptionStyleModel",
      "state": {
       "description_width": ""
      }
     },
     "afdd1f4a5712443e8fab5b49037eddbd": {
      "model_module": "@jupyter-widgets/base",
      "model_module_version": "1.2.0",
      "model_name": "LayoutModel",
      "state": {}
     },
     "afe07293be8d4741ae2a9588d6143f72": {
      "model_module": "@jupyter-widgets/controls",
      "model_module_version": "1.5.0",
      "model_name": "ProgressStyleModel",
      "state": {
       "description_width": ""
      }
     },
     "b042cb0e0ef74cd7bda0656d5dd521ae": {
      "model_module": "@jupyter-widgets/base",
      "model_module_version": "1.2.0",
      "model_name": "LayoutModel",
      "state": {}
     },
     "b0a4fa81a09345a88f9a78e234352630": {
      "model_module": "@jupyter-widgets/base",
      "model_module_version": "1.2.0",
      "model_name": "LayoutModel",
      "state": {}
     },
     "b0ec95e47d0840b18f81ddadae44794e": {
      "model_module": "@jupyter-widgets/base",
      "model_module_version": "1.2.0",
      "model_name": "LayoutModel",
      "state": {}
     },
     "b15e74c8b7a54105b72c2f8983985931": {
      "model_module": "@jupyter-widgets/base",
      "model_module_version": "1.2.0",
      "model_name": "LayoutModel",
      "state": {}
     },
     "b584603fe12e4f2a980052889bf4d9e9": {
      "model_module": "@jupyter-widgets/controls",
      "model_module_version": "1.5.0",
      "model_name": "ProgressStyleModel",
      "state": {
       "description_width": ""
      }
     },
     "ba1f2e281e6a4665a58757cbdb64532a": {
      "model_module": "@jupyter-widgets/controls",
      "model_module_version": "1.5.0",
      "model_name": "ProgressStyleModel",
      "state": {
       "description_width": ""
      }
     },
     "bada93b9f7174caaac12c0c19bf2b1cc": {
      "model_module": "@jupyter-widgets/base",
      "model_module_version": "1.2.0",
      "model_name": "LayoutModel",
      "state": {}
     },
     "bbdea7e33a5646129b54bd9b2108d6f1": {
      "model_module": "@jupyter-widgets/base",
      "model_module_version": "1.2.0",
      "model_name": "LayoutModel",
      "state": {}
     },
     "bc1bceb717094746aacc69e9795828ab": {
      "model_module": "@jupyter-widgets/controls",
      "model_module_version": "1.5.0",
      "model_name": "FloatProgressModel",
      "state": {
       "bar_style": "danger",
       "layout": "IPY_MODEL_75cb32c4364a41c29319e2be8e335698",
       "max": 4757,
       "style": "IPY_MODEL_b584603fe12e4f2a980052889bf4d9e9"
      }
     },
     "bcfcac9ed63e43b7a3e8e7344f67ed5b": {
      "model_module": "@jupyter-widgets/controls",
      "model_module_version": "1.5.0",
      "model_name": "DescriptionStyleModel",
      "state": {
       "description_width": ""
      }
     },
     "bec52d3635d840bda3294f9605876a6b": {
      "model_module": "@jupyter-widgets/controls",
      "model_module_version": "1.5.0",
      "model_name": "FloatProgressModel",
      "state": {
       "bar_style": "danger",
       "layout": "IPY_MODEL_fa96bbe7b505420f906bef9e0843af82",
       "max": 4757,
       "style": "IPY_MODEL_c73f6190fbf44a07a96db1eb9f07c5f0",
       "value": 290
      }
     },
     "bf39d63449af4f089a9b3a4597951fb8": {
      "model_module": "@jupyter-widgets/controls",
      "model_module_version": "1.5.0",
      "model_name": "HTMLModel",
      "state": {
       "layout": "IPY_MODEL_8a9e94bcc6b24017aa533b33a0fffb9f",
       "style": "IPY_MODEL_80b2aad23333415d9047fcbc1e482269",
       "value": "22624292/22624292 [Elapsed: 20:46, Remaining: 00:00]"
      }
     },
     "c21ac0390d264f5e87e6f57dfc830e72": {
      "model_module": "@jupyter-widgets/controls",
      "model_module_version": "1.5.0",
      "model_name": "FloatProgressModel",
      "state": {
       "bar_style": "danger",
       "layout": "IPY_MODEL_1b6c43bf955c47f4b367cd165b90c888",
       "max": 4757,
       "style": "IPY_MODEL_a72f2e807d754a43a94d8401cb3daf13"
      }
     },
     "c243d1b2601c440eb5111231a3092eea": {
      "model_module": "@jupyter-widgets/base",
      "model_module_version": "1.2.0",
      "model_name": "LayoutModel",
      "state": {}
     },
     "c334b34bd29145e9828f9e5853d4a215": {
      "model_module": "@jupyter-widgets/controls",
      "model_module_version": "1.5.0",
      "model_name": "HTMLModel",
      "state": {
       "layout": "IPY_MODEL_60bebc3604f641cfbce23751cc5cf969",
       "style": "IPY_MODEL_2e4c82b31fc14484a014bfe54378b3d7",
       "value": "Anime Shows:  18%"
      }
     },
     "c5c6fb10088a4fad9e4a229fc0eb21e7": {
      "model_module": "@jupyter-widgets/controls",
      "model_module_version": "1.5.0",
      "model_name": "DescriptionStyleModel",
      "state": {
       "description_width": ""
      }
     },
     "c73f6190fbf44a07a96db1eb9f07c5f0": {
      "model_module": "@jupyter-widgets/controls",
      "model_module_version": "1.5.0",
      "model_name": "ProgressStyleModel",
      "state": {
       "description_width": ""
      }
     },
     "c8d67dc0c28647cb95f833b958c8b25f": {
      "model_module": "@jupyter-widgets/controls",
      "model_module_version": "1.5.0",
      "model_name": "DescriptionStyleModel",
      "state": {
       "description_width": ""
      }
     },
     "c8e8713bc97b49fba88892e3e7013cb9": {
      "model_module": "@jupyter-widgets/base",
      "model_module_version": "1.2.0",
      "model_name": "LayoutModel",
      "state": {}
     },
     "c9bdef4ea20340a2ac1dbeb608a9b96a": {
      "model_module": "@jupyter-widgets/base",
      "model_module_version": "1.2.0",
      "model_name": "LayoutModel",
      "state": {}
     },
     "cd9b552c4d074a8cbde09af546e36bd1": {
      "model_module": "@jupyter-widgets/base",
      "model_module_version": "1.2.0",
      "model_name": "LayoutModel",
      "state": {}
     },
     "cdc04117b5d544e9aee1aa549f9b523e": {
      "model_module": "@jupyter-widgets/controls",
      "model_module_version": "1.5.0",
      "model_name": "HTMLModel",
      "state": {
       "layout": "IPY_MODEL_0365248877d548789a1ade86c89dc663",
       "style": "IPY_MODEL_d6e04adfc38340eda6a8700b2f259cec",
       "value": "Anime Shows:   0%"
      }
     },
     "ce9359dda41543ac92dcba86a04534f3": {
      "model_module": "@jupyter-widgets/controls",
      "model_module_version": "1.5.0",
      "model_name": "HTMLModel",
      "state": {
       "layout": "IPY_MODEL_083a7b48674548f7aebdbe6200ccdb30",
       "style": "IPY_MODEL_9140854a6567462cb421077943a6620c",
       "value": "Anime Shows:   0%"
      }
     },
     "d0260e3fbf7c410d8d59107c7ca86cbf": {
      "model_module": "@jupyter-widgets/controls",
      "model_module_version": "1.5.0",
      "model_name": "HTMLModel",
      "state": {
       "layout": "IPY_MODEL_d4b4304198044a47b5dad7ae1b0ef1a8",
       "style": "IPY_MODEL_64f81968125440c5882d8511327dfc3a",
       "value": "1340628/11312146 [Elapsed: 02:41, Remaining: 17:06]"
      }
     },
     "d03b3e27d0584dec927661981e7c50fa": {
      "model_module": "@jupyter-widgets/controls",
      "model_module_version": "1.5.0",
      "model_name": "HTMLModel",
      "state": {
       "layout": "IPY_MODEL_5252428f010e4788a5fffbb6ff131818",
       "style": "IPY_MODEL_4a176996347c49f7a975ddb69ece12e8",
       "value": "Anime Pairs:   0%"
      }
     },
     "d4b4304198044a47b5dad7ae1b0ef1a8": {
      "model_module": "@jupyter-widgets/base",
      "model_module_version": "1.2.0",
      "model_name": "LayoutModel",
      "state": {}
     },
     "d6e04adfc38340eda6a8700b2f259cec": {
      "model_module": "@jupyter-widgets/controls",
      "model_module_version": "1.5.0",
      "model_name": "DescriptionStyleModel",
      "state": {
       "description_width": ""
      }
     },
     "d82a788462b0454cab53aa308cec28f8": {
      "model_module": "@jupyter-widgets/controls",
      "model_module_version": "1.5.0",
      "model_name": "HTMLModel",
      "state": {
       "layout": "IPY_MODEL_ab726805c7814185b278e413b042b96e",
       "style": "IPY_MODEL_bcfcac9ed63e43b7a3e8e7344f67ed5b",
       "value": "3772363/11312146 [Elapsed: 07:00, Remaining: 12:42]"
      }
     },
     "d978d55a7a14498cb0e17ae64c1b62d8": {
      "model_module": "@jupyter-widgets/base",
      "model_module_version": "1.2.0",
      "model_name": "LayoutModel",
      "state": {}
     },
     "dee663ab78ef455bae188e21864e0643": {
      "model_module": "@jupyter-widgets/controls",
      "model_module_version": "1.5.0",
      "model_name": "DescriptionStyleModel",
      "state": {
       "description_width": ""
      }
     },
     "dfc89f5993b548688be493634d1a986f": {
      "model_module": "@jupyter-widgets/controls",
      "model_module_version": "1.5.0",
      "model_name": "HTMLModel",
      "state": {
       "layout": "IPY_MODEL_e25fe11f74c04462b1da7bdd48b284a9",
       "style": "IPY_MODEL_76aae4f7bf8b4a70aedabd4f950cbe58",
       "value": "Anime Pairs:   0%"
      }
     },
     "e25fe11f74c04462b1da7bdd48b284a9": {
      "model_module": "@jupyter-widgets/base",
      "model_module_version": "1.2.0",
      "model_name": "LayoutModel",
      "state": {}
     },
     "ea7b16bc45c244798909c35ede684143": {
      "model_module": "@jupyter-widgets/controls",
      "model_module_version": "1.5.0",
      "model_name": "DescriptionStyleModel",
      "state": {
       "description_width": ""
      }
     },
     "eb880817a6e14e9db1af18ee52ae6a61": {
      "model_module": "@jupyter-widgets/base",
      "model_module_version": "1.2.0",
      "model_name": "LayoutModel",
      "state": {}
     },
     "ed9073df4fbd4cb287b1189105e5724c": {
      "model_module": "@jupyter-widgets/controls",
      "model_module_version": "1.5.0",
      "model_name": "HTMLModel",
      "state": {
       "layout": "IPY_MODEL_305486e4f8724d17b5784440d289c542",
       "style": "IPY_MODEL_6008f34e7b7a465a8c130fad44fd87bc",
       "value": "Anime Shows:   0%"
      }
     },
     "eef0fbe7e02f4f97be2f16e90047e24a": {
      "model_module": "@jupyter-widgets/base",
      "model_module_version": "1.2.0",
      "model_name": "LayoutModel",
      "state": {}
     },
     "f77541afc79346c7a9df782deebcb4cf": {
      "model_module": "@jupyter-widgets/controls",
      "model_module_version": "1.5.0",
      "model_name": "FloatProgressModel",
      "state": {
       "bar_style": "danger",
       "layout": "IPY_MODEL_5634b0a339b44a449ca626785ca58f15",
       "max": 4757,
       "style": "IPY_MODEL_7ac8ccc3c7414ac7abc83be4108c0fe5",
       "value": 873
      }
     },
     "fa96bbe7b505420f906bef9e0843af82": {
      "model_module": "@jupyter-widgets/base",
      "model_module_version": "1.2.0",
      "model_name": "LayoutModel",
      "state": {}
     },
     "fc380e519eeb4ac9b5cc56886cb1a2ba": {
      "model_module": "@jupyter-widgets/controls",
      "model_module_version": "1.5.0",
      "model_name": "HBoxModel",
      "state": {
       "children": [
        "IPY_MODEL_320793c1cbca4c9bb3d74b421c6a1e29",
        "IPY_MODEL_5901bb76a2754b2aaac796b7a5e98836",
        "IPY_MODEL_d82a788462b0454cab53aa308cec28f8"
       ],
       "layout": "IPY_MODEL_eb880817a6e14e9db1af18ee52ae6a61"
      }
     },
     "fec30e3d25364679978329838503a724": {
      "model_module": "@jupyter-widgets/controls",
      "model_module_version": "1.5.0",
      "model_name": "FloatProgressModel",
      "state": {
       "layout": "IPY_MODEL_abbf21dddd854a37ac70524605b83145",
       "max": 11312146,
       "style": "IPY_MODEL_ba1f2e281e6a4665a58757cbdb64532a",
       "value": 1340628
      }
     }
    },
    "version_major": 2,
    "version_minor": 0
   }
  }
 },
 "nbformat": 4,
 "nbformat_minor": 4
}
