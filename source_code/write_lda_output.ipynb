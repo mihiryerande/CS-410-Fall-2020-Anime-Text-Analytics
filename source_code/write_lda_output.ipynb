{
 "cells": [
  {
   "cell_type": "markdown",
   "metadata": {},
   "source": [
    "# Load LDA Model"
   ]
  },
  {
   "cell_type": "code",
   "execution_count": 1,
   "metadata": {},
   "outputs": [],
   "source": [
    "from gensim.models import LdaModel\n",
    "\n",
    "lda_model = LdaModel.load('lda_model/lda_model')"
   ]
  },
  {
   "cell_type": "markdown",
   "metadata": {},
   "source": [
    "# Read Input Text"
   ]
  },
  {
   "cell_type": "code",
   "execution_count": 2,
   "metadata": {},
   "outputs": [
    {
     "ename": "ModuleNotFoundError",
     "evalue": "No module named 'lda_helpers'",
     "output_type": "error",
     "traceback": [
      "\u001b[1;31m---------------------------------------------------------------------------\u001b[0m",
      "\u001b[1;31mModuleNotFoundError\u001b[0m                       Traceback (most recent call last)",
      "\u001b[1;32m<ipython-input-2-51fb94590ad9>\u001b[0m in \u001b[0;36m<module>\u001b[1;34m\u001b[0m\n\u001b[0;32m      1\u001b[0m \u001b[1;32mfrom\u001b[0m \u001b[0mgensim\u001b[0m\u001b[1;33m.\u001b[0m\u001b[0mcorpora\u001b[0m\u001b[1;33m.\u001b[0m\u001b[0mdictionary\u001b[0m \u001b[1;32mimport\u001b[0m \u001b[0mDictionary\u001b[0m\u001b[1;33m\u001b[0m\u001b[1;33m\u001b[0m\u001b[0m\n\u001b[1;32m----> 2\u001b[1;33m \u001b[1;32mfrom\u001b[0m \u001b[0mlda_helpers\u001b[0m \u001b[1;32mimport\u001b[0m \u001b[0mread_lda_input\u001b[0m  \u001b[1;31m# Package with helpers\u001b[0m\u001b[1;33m\u001b[0m\u001b[1;33m\u001b[0m\u001b[0m\n\u001b[0m\u001b[0;32m      3\u001b[0m \u001b[1;33m\u001b[0m\u001b[0m\n\u001b[0;32m      4\u001b[0m \u001b[0mtitle_texts\u001b[0m \u001b[1;33m=\u001b[0m \u001b[0mread_lda_input\u001b[0m\u001b[1;33m(\u001b[0m\u001b[1;34m'lda_input/lda_input.jl'\u001b[0m\u001b[1;33m,\u001b[0m \u001b[0mtitle\u001b[0m\u001b[1;33m=\u001b[0m\u001b[1;32mTrue\u001b[0m\u001b[1;33m)\u001b[0m  \u001b[1;31m# Read anime show titles with text, for later\u001b[0m\u001b[1;33m\u001b[0m\u001b[1;33m\u001b[0m\u001b[0m\n\u001b[0;32m      5\u001b[0m \u001b[0mtexts\u001b[0m \u001b[1;33m=\u001b[0m \u001b[1;33m[\u001b[0m\u001b[0mtitle_text\u001b[0m\u001b[1;33m[\u001b[0m\u001b[1;36m1\u001b[0m\u001b[1;33m]\u001b[0m \u001b[1;32mfor\u001b[0m \u001b[0mtitle_text\u001b[0m \u001b[1;32min\u001b[0m \u001b[0mtitle_texts\u001b[0m\u001b[1;33m]\u001b[0m\u001b[1;33m\u001b[0m\u001b[1;33m\u001b[0m\u001b[0m\n",
      "\u001b[1;31mModuleNotFoundError\u001b[0m: No module named 'lda_helpers'"
     ]
    }
   ],
   "source": [
    "from gensim.corpora.dictionary import Dictionary\n",
    "from lda_helpers import read_lda_input  # Package with helpers\n",
    "\n",
    "title_texts = read_lda_input('lda_input/lda_input.jl', title=True)  # Read anime show titles with text, for later\n",
    "texts = [title_text[1] for title_text in title_texts]\n",
    "id2word = Dictionary(texts)\n",
    "corpus = [id2word.doc2bow(text) for text in texts]"
   ]
  },
  {
   "cell_type": "markdown",
   "metadata": {},
   "source": [
    "# Visualize Topics"
   ]
  },
  {
   "cell_type": "code",
   "execution_count": null,
   "metadata": {},
   "outputs": [],
   "source": [
    "import pyLDAvis\n",
    "import pyLDAvis.gensim\n",
    "\n",
    "pyLDAvis.enable_notebook()\n",
    "LDAvis_display = pyLDAvis.gensim.prepare(lda_model, corpus, id2word, sort_topics=False)\n",
    "LDAvis_display"
   ]
  },
  {
   "cell_type": "markdown",
   "metadata": {},
   "source": [
    "# Assign Genre Names"
   ]
  },
  {
   "cell_type": "code",
   "execution_count": null,
   "metadata": {},
   "outputs": [],
   "source": [
    "# Genres must be explicitly renamed here\n",
    "# They are not in the originally intended order, as in 'lda_seed.py'\n",
    "genre_names = [\n",
    "    'Adventure',\n",
    "    'Sports',\n",
    "    'Sci-Fi',\n",
    "    'Mystery',\n",
    "    'Slice of Life',\n",
    "    'School'\n",
    "]"
   ]
  },
  {
   "cell_type": "markdown",
   "metadata": {},
   "source": [
    "# Output LDA Genre Results"
   ]
  },
  {
   "cell_type": "code",
   "execution_count": null,
   "metadata": {},
   "outputs": [],
   "source": [
    "import json\n",
    "from os import mkdir\n",
    "\n",
    "mkdir('lda_output')"
   ]
  },
  {
   "cell_type": "markdown",
   "metadata": {},
   "source": [
    "## Genre Names"
   ]
  },
  {
   "cell_type": "code",
   "execution_count": null,
   "metadata": {},
   "outputs": [],
   "source": [
    "with open('lda_output/genre_names.jl', 'w') as f:\n",
    "    for i, genre_name in enumerate(genre_names):\n",
    "        # Write output JSON as newline\n",
    "        record = {\n",
    "            'LDA Genre ID': i,\n",
    "            'LDA Genre Name': genre_name\n",
    "        }\n",
    "        line = json.dumps(record)\n",
    "        f.write('{}\\n'.format(line))"
   ]
  },
  {
   "cell_type": "markdown",
   "metadata": {},
   "source": [
    "## Word Distribution of each Genre (Top 50 Words by Weight)"
   ]
  },
  {
   "cell_type": "code",
   "execution_count": null,
   "metadata": {},
   "outputs": [],
   "source": [
    "with open('lda_output/genre_word_weights.jl', 'w') as f:\n",
    "    for i in range(len(genre_names)):\n",
    "        genre = lda_model.show_topic(i, topn=50)\n",
    "        for word, word_weight in genre:\n",
    "            # Write output JSON as newline\n",
    "            record = {\n",
    "                'LDA Genre ID': i,\n",
    "                'Word': word,\n",
    "                'Word Weight': float(word_weight)\n",
    "            }\n",
    "            line = json.dumps(record)\n",
    "            f.write('{}\\n'.format(line))"
   ]
  },
  {
   "cell_type": "markdown",
   "metadata": {},
   "source": [
    "## Genre Breakdown of each Anime"
   ]
  },
  {
   "cell_type": "code",
   "execution_count": null,
   "metadata": {},
   "outputs": [],
   "source": [
    "with open('lda_output/anime_genre_weights.jl', 'w') as f:\n",
    "    for i, bow in enumerate(corpus):\n",
    "        title = title_texts[i][0]\n",
    "        anime_genres = lda_model.get_document_topics(bow, minimum_probability=0)\n",
    "        for genre_id, genre_weight in anime_genres:\n",
    "            # Write output JSON as newline\n",
    "            record = {\n",
    "                'Anime Title': title,\n",
    "                'LDA Genre ID': genre_id,\n",
    "                'LDA Genre Weight': float(genre_weight)\n",
    "            }\n",
    "            line = json.dumps(record)\n",
    "            f.write('{}\\n'.format(line))"
   ]
  }
 ],
 "metadata": {
  "kernelspec": {
   "display_name": "Python 3",
   "language": "python",
   "name": "python3"
  },
  "language_info": {
   "codemirror_mode": {
    "name": "ipython",
    "version": 3
   },
   "file_extension": ".py",
   "mimetype": "text/x-python",
   "name": "python",
   "nbconvert_exporter": "python",
   "pygments_lexer": "ipython3",
   "version": "3.8.5"
  }
 },
 "nbformat": 4,
 "nbformat_minor": 4
}
