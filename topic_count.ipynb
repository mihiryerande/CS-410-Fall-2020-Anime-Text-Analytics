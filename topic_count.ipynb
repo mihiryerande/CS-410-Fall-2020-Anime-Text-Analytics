{
 "cells": [
  {
   "cell_type": "markdown",
   "metadata": {},
   "source": [
    "FIXME Rerun with more iterations and update based on output"
   ]
  },
  {
   "cell_type": "markdown",
   "metadata": {},
   "source": [
    "# Determining Optimal Topic Count"
   ]
  },
  {
   "cell_type": "markdown",
   "metadata": {},
   "source": [
    "## Table of Contents\n",
    "\n",
    "1. [Introduction](#introduction)\n",
    "2. [Analysis](#analysis)\n",
    "    1. [Read Input Text for LDA](#read-input)\n",
    "    2. [Compute Coherence Scores](#compute-coherence)\n",
    "    3. [Plot Coherence (C) vs. Topic Count (k)](#plot-c-k)\n",
    "    4. [Peek at Top 10 Coherence Scores](#peek-top-10)\n",
    "    5. [Visualize Topics](#visualize-topics)\n",
    "    6. [Display Topics in Interface](#display-topics)\n",
    "3. [Conclusion](#conclusion)"
   ]
  },
  {
   "cell_type": "markdown",
   "metadata": {},
   "source": [
    "## Introduction <a name='introduction'/>\n",
    "\n",
    "> After scraping the text data and cleaning it up, we want to run LDA.\n",
    ">\n",
    "> The desired Topic Count (*k*) is currently unknown, but must be decided before running LDA.\n",
    ">\n",
    "> To determine *k*, we will use Coherence (*C*) as a quantitative measure of LDA.\n",
    ">\n",
    "> While this will provide evidence in choosing *k*, the determination of *k* still somewhat relies on intuition.\n",
    ">\n",
    "> The following will walk through the quantitative analysis."
   ]
  },
  {
   "cell_type": "markdown",
   "metadata": {},
   "source": [
    "## Analysis <a name='analysis'/>"
   ]
  },
  {
   "cell_type": "markdown",
   "metadata": {},
   "source": [
    "### Read Input Text for LDA <a name='read-input'/>"
   ]
  },
  {
   "cell_type": "code",
   "execution_count": 1,
   "metadata": {},
   "outputs": [],
   "source": [
    "from gensim.corpora.dictionary import Dictionary\n",
    "from run_lda import read_lda_input  # Package with helpers\n",
    "\n",
    "texts = read_lda_input('lda_input.jl')\n",
    "id2word = Dictionary(texts)\n",
    "corpus = [id2word.doc2bow(text) for text in texts]"
   ]
  },
  {
   "cell_type": "markdown",
   "metadata": {},
   "source": [
    "### Compute Coherence Scores <a name='compute-coherence'/>\n",
    "\n",
    "> Compute *C* for a range of values of *k*.\n",
    ">\n",
    "> Initial testing of LDA shows that the *k* will be low (< 10).\n",
    ">\n",
    "> This is mainly due to having sparse text data (small description text).\n",
    ">\n",
    "> Try with $k \\in [2, 8]$.\n",
    ">\n",
    "> Attempt different RandomStates for each *k*, to get a better overall picture:\n",
    "> * Average C per k\n",
    "> * Max C per k"
   ]
  },
  {
   "cell_type": "code",
   "execution_count": 2,
   "metadata": {},
   "outputs": [
    {
     "data": {
      "application/vnd.jupyter.widget-view+json": {
       "model_id": "ab40bb7eba3d4713865e923e480e271f",
       "version_major": 2,
       "version_minor": 0
      },
      "text/plain": [
       "HBox(children=(HTML(value='Topic Counts'), FloatProgress(value=0.0, max=7.0), HTML(value='')))"
      ]
     },
     "metadata": {},
     "output_type": "display_data"
    },
    {
     "data": {
      "application/vnd.jupyter.widget-view+json": {
       "model_id": "4fcc072fd73a4623b72ff0515860714d",
       "version_major": 2,
       "version_minor": 0
      },
      "text/plain": [
       "HBox(children=(HTML(value='Iterations'), FloatProgress(value=0.0, max=7.0), HTML(value='')))"
      ]
     },
     "metadata": {},
     "output_type": "display_data"
    },
    {
     "name": "stdout",
     "output_type": "stream",
     "text": [
      "\n",
      "\n"
     ]
    }
   ],
   "source": [
    "from collections import defaultdict\n",
    "from numpy import mean\n",
    "from run_lda import get_lda_model, compute_coherence  # Package with helpers\n",
    "from tqdm.notebook import tqdm\n",
    "\n",
    "k_range = range(2, 9)\n",
    "attempts = 1\n",
    "\n",
    "x_scatter = []\n",
    "y_scatter = []\n",
    "avgs = []\n",
    "maxs = []\n",
    "results = defaultdict(list)  # To display DataFrame later\n",
    "\n",
    "# Run iterations\n",
    "k_bar = tqdm(k_range, desc='Topic Counts', bar_format='{l_bar}{bar}{n_fmt}/{total_fmt}{postfix}')\n",
    "i_bar = tqdm(total=len(k_range)*attempts, desc='Iterations', bar_format='{l_bar}{bar}{n_fmt}/{total_fmt} [Elapsed: {elapsed}, Remaining: {remaining}]')\n",
    "for k in k_bar:\n",
    "    k_bar.set_postfix_str(f'(Working on k={k})')\n",
    "    cs = []  # C values for this k\n",
    "    for i in range(attempts):\n",
    "        r = i+1\n",
    "        x_scatter.append(k)\n",
    "        lda_model = get_lda_model(corpus, id2word, k, r)\n",
    "        c = compute_coherence(lda_model, texts, corpus, id2word)\n",
    "        cs.append(c)\n",
    "        y_scatter.append(c)\n",
    "        results['k'].append(k)\n",
    "        results['r'].append(r)\n",
    "        results['C'].append(c)\n",
    "        i_bar.update()\n",
    "    i_bar.refresh()\n",
    "    avgs.append(mean(cs))\n",
    "    maxs.append(max(cs))\n",
    "    k_bar.set_postfix_str('')\n",
    "i_bar.close()"
   ]
  },
  {
   "cell_type": "markdown",
   "metadata": {},
   "source": [
    "### Plot Coherence (C) vs. Topic Count (k) <a name='plot-c-k'/>"
   ]
  },
  {
   "cell_type": "code",
   "execution_count": 3,
   "metadata": {},
   "outputs": [
    {
     "data": {
      "image/png": "[encoded data removed]",
      "text/plain": [
       "<Figure size 432x288 with 1 Axes>"
      ]
     },
     "metadata": {
      "needs_background": "light"
     },
     "output_type": "display_data"
    }
   ],
   "source": [
    "import matplotlib.pyplot as plt\n",
    "\n",
    "plt.ylabel('Coherence (C)')\n",
    "plt.xlabel('Topic Count (k)')\n",
    "\n",
    "plt.scatter(results['k'], results['C'], c='b', marker=\".\", label='C')\n",
    "plt.plot(k_range, avgs, 'go-', label='Avg C per k')\n",
    "plt.plot(k_range, maxs, 'r^-', label='Max C per k')\n",
    "\n",
    "plt.legend(bbox_to_anchor=(1,1))\n",
    "plt.xticks(k_range)\n",
    "plt.show()"
   ]
  },
  {
   "cell_type": "markdown",
   "metadata": {},
   "source": [
    "### Peek at Top 10 Coherence Scores <a name='peek-top-10'/>"
   ]
  },
  {
   "cell_type": "code",
   "execution_count": 4,
   "metadata": {},
   "outputs": [
    {
     "data": {
      "text/html": [
       "<div>\n",
       "<style scoped>\n",
       "    .dataframe tbody tr th:only-of-type {\n",
       "        vertical-align: middle;\n",
       "    }\n",
       "\n",
       "    .dataframe tbody tr th {\n",
       "        vertical-align: top;\n",
       "    }\n",
       "\n",
       "    .dataframe thead th {\n",
       "        text-align: right;\n",
       "    }\n",
       "</style>\n",
       "<table border=\"1\" class=\"dataframe\">\n",
       "  <thead>\n",
       "    <tr style=\"text-align: right;\">\n",
       "      <th></th>\n",
       "      <th>k</th>\n",
       "      <th>r</th>\n",
       "      <th>C</th>\n",
       "    </tr>\n",
       "  </thead>\n",
       "  <tbody>\n",
       "    <tr>\n",
       "      <th>0</th>\n",
       "      <td>3</td>\n",
       "      <td>1</td>\n",
       "      <td>0.473530</td>\n",
       "    </tr>\n",
       "    <tr>\n",
       "      <th>1</th>\n",
       "      <td>2</td>\n",
       "      <td>1</td>\n",
       "      <td>0.447129</td>\n",
       "    </tr>\n",
       "    <tr>\n",
       "      <th>2</th>\n",
       "      <td>7</td>\n",
       "      <td>1</td>\n",
       "      <td>0.433742</td>\n",
       "    </tr>\n",
       "    <tr>\n",
       "      <th>3</th>\n",
       "      <td>8</td>\n",
       "      <td>1</td>\n",
       "      <td>0.414935</td>\n",
       "    </tr>\n",
       "    <tr>\n",
       "      <th>4</th>\n",
       "      <td>6</td>\n",
       "      <td>1</td>\n",
       "      <td>0.407402</td>\n",
       "    </tr>\n",
       "    <tr>\n",
       "      <th>5</th>\n",
       "      <td>4</td>\n",
       "      <td>1</td>\n",
       "      <td>0.395923</td>\n",
       "    </tr>\n",
       "    <tr>\n",
       "      <th>6</th>\n",
       "      <td>5</td>\n",
       "      <td>1</td>\n",
       "      <td>0.393480</td>\n",
       "    </tr>\n",
       "  </tbody>\n",
       "</table>\n",
       "</div>"
      ],
      "text/plain": [
       "   k  r         C\n",
       "0  3  1  0.473530\n",
       "1  2  1  0.447129\n",
       "2  7  1  0.433742\n",
       "3  8  1  0.414935\n",
       "4  6  1  0.407402\n",
       "5  4  1  0.395923\n",
       "6  5  1  0.393480"
      ]
     },
     "execution_count": 4,
     "metadata": {},
     "output_type": "execute_result"
    }
   ],
   "source": [
    "import pandas as pd\n",
    "\n",
    "df = pd.DataFrame.from_dict(results)\n",
    "df.sort_values(by='C', ascending=False, inplace=True, ignore_index=True)\n",
    "df.head(10)"
   ]
  },
  {
   "cell_type": "markdown",
   "metadata": {},
   "source": [
    "### Visualize Topics <a name='visualize-topics'/>"
   ]
  },
  {
   "cell_type": "markdown",
   "metadata": {},
   "source": [
    "##### Run the best LDA <a name='run-best-lda'/>"
   ]
  },
  {
   "cell_type": "code",
   "execution_count": 5,
   "metadata": {},
   "outputs": [],
   "source": [
    "k_best = df['k'].iloc[0]\n",
    "r_best = df['r'].iloc[0]\n",
    "lda_best = get_lda_model(corpus, id2word, k_best, r_best)"
   ]
  },
  {
   "cell_type": "markdown",
   "metadata": {},
   "source": [
    "#### Display Topics in Interface <a name='display-topics'/>"
   ]
  },
  {
   "cell_type": "code",
   "execution_count": 6,
   "metadata": {},
   "outputs": [
    {
     "data": {
      "text/html": [
       "\n",
       "<link rel=\"stylesheet\" type=\"text/css\" href=\"https://cdn.rawgit.com/bmabey/pyLDAvis/files/ldavis.v1.0.0.css\">\n",
       "\n",
       "\n",
       "<div id=\"ldavis_el152529632972026889256019435\"></div>\n",
       "<script type=\"text/javascript\">\n",
       "\n",
       "var ldavis_el152529632972026889256019435_data = {\"mdsDat\": {\"x\": [0.1733613588976032, -0.1560884381944614, -0.017272920703141844], \"y\": [-0.059035525346022306, -0.08107303166516827, 0.14010855701119052], \"topics\": [1, 2, 3], \"cluster\": [1, 1, 1], \"Freq\": [40.66822250637812, 31.40468212308358, 27.927095370538296]}, \"tinfo\": {\"Term\": [\"school\", \"high\", \"student\", \"club\", \"power\", \"family\", \"life\", \"girl\", \"earth\", \"class\", \"friend\", \"love\", \"world\", \"team\", \"battle\", \"game\", \"fight\", \"member\", \"play\", \"force\", \"demon\", \"home\", \"help\", \"city\", \"town\", \"dream\", \"organization\", \"baseball\", \"space\", \"village\", \"earth\", \"threat\", \"humanity\", \"organization\", \"space\", \"empire\", \"king\", \"mankind\", \"holy\", \"race\", \"pilot\", \"weapon\", \"peace\", \"titan\", \"army\", \"planet\", \"colony\", \"arm\", \"destruction\", \"legend\", \"military\", \"ship\", \"ancient\", \"conquer\", \"combat\", \"technology\", \"federation\", \"youkai\", \"faction\", \"command\", \"power\", \"battle\", \"attack\", \"powerful\", \"enemy\", \"century\", \"defeat\", \"hell\", \"evil\", \"protect\", \"alien\", \"fight\", \"dark\", \"demon\", \"force\", \"control\", \"city\", \"mission\", \"death\", \"humans\", \"world\", \"know\", \"hero\", \"mysterious\", \"ability\", \"save\", \"order\", \"years\", \"begin\", \"human\", \"young\", \"people\", \"hope\", \"face\", \"group\", \"life\", \"come\", \"club\", \"baseball\", \"idol\", \"music\", \"national\", \"sport\", \"basketball\", \"tennis\", \"junior\", \"average\", \"professional\", \"solve\", \"private\", \"older\", \"girlfriend\", \"senior\", \"graduate\", \"sensei\", \"animation\", \"samurai\", \"career\", \"prestigious\", \"pitcher\", \"yuki\", \"date\", \"soccer\", \"performance\", \"college\", \"passion\", \"director\", \"school\", \"high\", \"popular\", \"class\", \"position\", \"play\", \"boy\", \"character\", \"japanese\", \"share\", \"student\", \"teacher\", \"player\", \"daily\", \"game\", \"natsume\", \"member\", \"transfer\", \"love\", \"team\", \"best\", \"academy\", \"girl\", \"year\", \"classmate\", \"story\", \"unique\", \"president\", \"work\", \"friend\", \"life\", \"time\", \"japan\", \"follow\", \"join\", \"despite\", \"dream\", \"money\", \"trip\", \"cousin\", \"care\", \"rabbit\", \"mountain\", \"makoto\", \"kazuma\", \"ninja\", \"dungeon\", \"guild\", \"misfortune\", \"reunite\", \"happily\", \"flower\", \"mermaid\", \"river\", \"warm\", \"residence\", \"aunt\", \"broken\", \"wait\", \"beauty\", \"blossom\", \"teenage\", \"item\", \"princess\", \"akane\", \"tower\", \"hearted\", \"stay\", \"quiet\", \"town\", \"village\", \"souma\", \"avoid\", \"grown\", \"fantasy\", \"neighbor\", \"heart\", \"summer\", \"gang\", \"talk\", \"family\", \"trouble\", \"accepts\", \"nanami\", \"happy\", \"charm\", \"parent\", \"kingdom\", \"things\", \"magical\", \"home\", \"little\", \"help\", \"life\", \"house\", \"want\", \"adventure\", \"magic\", \"friend\", \"mother\", \"night\", \"strange\", \"living\", \"dream\", \"soon\", \"meet\", \"father\", \"come\", \"girl\", \"end\", \"begin\", \"live\", \"young\", \"learn\", \"world\", \"turn\", \"past\", \"time\", \"love\"], \"Freq\": [1594.0, 960.0, 934.0, 484.0, 609.0, 558.0, 1704.0, 1211.0, 456.0, 334.0, 1133.0, 609.0, 1437.0, 542.0, 373.0, 414.0, 482.0, 455.0, 251.0, 479.0, 390.0, 418.0, 590.0, 440.0, 197.0, 437.0, 232.0, 177.0, 232.0, 182.0, 455.28136108773856, 201.52482715516322, 189.40951776451755, 232.0315903006926, 231.88029003003263, 139.1505914248511, 226.25830756465672, 113.01980255536863, 121.1468420803788, 215.22694525103515, 123.16079135014242, 137.12585091558486, 147.78661268009117, 94.17577536162685, 92.54240727094101, 203.07082167004532, 67.96231445167327, 81.64390386094212, 69.45767120184715, 88.35114051122551, 87.69985627623073, 86.47669714331342, 92.85094552714226, 80.86074865270166, 88.86062887241799, 61.510754182957214, 58.73756268638614, 178.05729592968515, 56.96039752959588, 62.7889233057897, 598.5948580710209, 368.2188566950321, 194.81883681704772, 220.37330256875632, 204.88050746832255, 96.02336728852308, 209.3312604744439, 110.3000352937999, 206.10912808301632, 220.31653963571068, 150.4149938486327, 450.2425716559889, 138.8987046428837, 364.01795381440866, 441.85649171982, 135.5102453064465, 391.79693479654156, 152.22354479355377, 286.3001967304725, 204.74207562411166, 1091.8437919809087, 596.1471415037295, 250.245196322478, 412.61261770729215, 257.69078680498234, 292.92036378352975, 320.58796701485267, 354.9664445067702, 372.56591247573596, 234.71511318319955, 309.7045004118226, 245.98288976919181, 236.9734105662076, 250.48773069687644, 246.9298033034617, 275.30658855618117, 222.82561934518773, 484.0392357620747, 176.95953350065903, 121.480347774273, 133.67701856478482, 86.8298292466971, 82.74981249603998, 84.11189159281147, 65.05685282958778, 71.66391882472071, 90.33081938706002, 92.36996705878819, 91.77324125263871, 64.1974168108651, 75.53492544289072, 60.15852604315018, 57.3209584133887, 54.619839690312475, 67.6339950236062, 49.274905542500456, 91.9615944987165, 70.99818806355461, 67.91592240020262, 43.761958139603465, 59.40850110119328, 57.17697443791095, 47.801193188758546, 45.45025955007865, 87.29563421064928, 66.93558882393806, 63.93111511690484, 1551.8628635314449, 931.0774184113811, 156.45256600936145, 326.8812370818347, 81.58882505863203, 244.91223924291097, 151.47528922903365, 156.55843255220927, 178.8302493023693, 94.13803221928485, 851.6706569450328, 179.9245009124344, 181.1678889827123, 124.46712228545096, 344.29777787473296, 161.757207491808, 360.11995131827115, 113.99962067727643, 442.0650059479477, 398.5626360142215, 265.1739844538796, 249.6666563873636, 694.2897203831357, 448.1199149342749, 178.16822739126306, 268.88464981587543, 113.8608596077374, 115.8800076576238, 278.8329750122955, 438.3838861931798, 552.5547477640426, 291.3305164831904, 207.74943644989506, 239.72916040715205, 198.55172303879579, 165.11079040373707, 168.31160625117533, 77.11873560952556, 79.95594635474318, 51.831875226915635, 115.98965351451304, 33.936019982437905, 49.33708778783442, 52.480609164254524, 49.73405584518604, 34.27151647395066, 30.904381796114123, 42.36371634184261, 29.620492704699068, 44.20781808918822, 21.95009444653622, 21.724515474470685, 19.84446804721976, 26.887128513826585, 29.948123034552328, 24.52340781875168, 18.082524374880364, 27.12716473258652, 40.91823520681911, 39.180443190490436, 19.77093630915947, 33.20587248959529, 25.353681007958514, 146.98007602004824, 38.04911449488725, 31.484599064845252, 21.017686402027362, 85.94202927542217, 73.67868672732823, 187.38427269634363, 171.66892720525536, 85.54820629110911, 70.34172944278426, 70.11349594557666, 48.339198557268844, 53.60231825039796, 158.33943968772024, 81.47766072032083, 88.0339272917628, 53.45027275592425, 471.5988592763641, 130.41119110530028, 74.05940756002269, 71.20244269454739, 67.66649691717872, 56.48862205495974, 116.48197573319307, 132.85232443331878, 187.44299928139995, 138.00478904562436, 307.4615609395713, 221.11882709303265, 370.08901070136596, 876.3068578783691, 93.50269440448187, 190.37822915027732, 181.87955990371924, 110.81448453644457, 573.2708321916243, 186.21352621586556, 140.98443959210832, 205.25299124867448, 203.9306271984835, 255.02648575311397, 259.482775923707, 231.02893832128538, 223.5270902329225, 313.119213345885, 430.269871964208, 124.79747230775973, 279.9379413114398, 166.15322057324838, 253.9016350729951, 158.73095953226394, 258.44946635176353, 163.8433731702112, 159.34509766617865, 177.49756860459914, 161.7884993433356], \"Total\": [1594.0, 960.0, 934.0, 484.0, 609.0, 558.0, 1704.0, 1211.0, 456.0, 334.0, 1133.0, 609.0, 1437.0, 542.0, 373.0, 414.0, 482.0, 455.0, 251.0, 479.0, 390.0, 418.0, 590.0, 440.0, 197.0, 437.0, 232.0, 177.0, 232.0, 182.0, 456.502404963896, 202.07548561605623, 189.93129672406954, 232.71076444661023, 232.7326605643677, 139.73469543148502, 227.24977322709572, 113.52385156444453, 121.71092440346992, 216.24149409586622, 123.84481892906005, 137.9270177388381, 148.7024985003748, 94.77945377435816, 93.13980904911466, 204.44331262850613, 68.42562327830733, 82.20265112757804, 69.93342616193705, 88.96772021014006, 88.3386176423976, 87.12828692584392, 93.55782553802521, 81.49375167030198, 89.57243417891827, 62.016236151847785, 59.220666891759265, 179.5956575225723, 57.457525356855484, 63.34166424350957, 609.5142219019451, 373.22237429955845, 196.63420698812007, 222.81792449061575, 207.78165351259688, 96.98058514146892, 214.0038587574142, 111.67023055198871, 211.76093770049698, 227.18082186015994, 153.85946143749214, 482.2726786047735, 142.1272007920459, 390.0422193204038, 479.28812679127884, 139.3254745785012, 440.7251188439576, 157.98179639248096, 314.40192759923036, 218.67633041352784, 1437.7853677015557, 778.1065497503442, 283.18032426078133, 542.5479432553635, 306.8012897319823, 377.91817935866777, 429.5275781350696, 538.3512542172471, 795.7056844295203, 301.13902119167153, 695.548695452412, 436.9140332756392, 381.114271167383, 482.6706749806382, 457.47700981704617, 1704.168194198593, 665.5819745912912, 484.6105977671695, 177.47327196374613, 121.9675968086105, 134.5151621971554, 87.41730340394786, 83.32011065385908, 84.72516664454619, 65.5543056944278, 72.23764730114229, 91.09268910937276, 93.1842930063309, 92.6131788303667, 64.78962054027505, 76.26955140922824, 60.78031776408024, 57.92062096932396, 55.20167085989017, 68.36270628267319, 49.81105125939205, 92.96723809921853, 71.79536968083163, 68.69623443989255, 44.2759936357283, 60.11739762648991, 57.869202442013204, 48.39214943413044, 46.01746993311383, 88.40445349221353, 67.7872975725718, 64.77231449317716, 1594.287928390465, 960.9456698592503, 158.6246511923462, 334.6842734108532, 82.81011090807485, 251.81240976228824, 155.19280357176302, 160.68814397360975, 186.35083010333182, 96.29210789659331, 934.6899725486305, 190.88656137895686, 192.9043693306895, 130.53246997594852, 414.59683500416605, 180.78443890585987, 455.6316237826801, 123.18125884460241, 609.8008423610853, 542.0087008679328, 346.231600305425, 321.8888736859735, 1211.0269674809458, 725.0604282690775, 224.6672529378385, 393.9977877497472, 124.75360736606686, 131.61648408705585, 538.8938048826523, 1133.8443893732854, 1704.168194198593, 671.0944983807149, 380.01130229850867, 543.1618055835844, 404.75692803366377, 306.99857530220703, 437.96928515823924, 77.88995594200485, 81.03978249116129, 52.584071452082625, 117.8418528052617, 34.49442893474226, 50.173552059615346, 53.4026987912499, 50.61057617604962, 34.889515749134375, 31.46449085582697, 43.14094325033297, 30.178707545891914, 45.06850683055985, 22.453393950427376, 22.248877267756235, 20.329487211468646, 27.573444651139205, 30.72471729445054, 25.171958650276487, 18.58722338239697, 27.892280880968393, 42.07309522665668, 40.33603622235204, 20.361692335408243, 34.21900944445764, 26.137597519726224, 151.56499075715035, 39.23832722797968, 32.497903248336826, 21.700142179239215, 89.1873694614953, 76.74871206423607, 197.79296446110797, 182.00703637031637, 89.50071030155232, 73.72188155283429, 73.8677265893138, 50.377783366238496, 56.25289636864468, 171.9222799069041, 86.97639527989358, 94.49668172041382, 56.23015922629758, 558.987876416661, 144.05906417809254, 79.60158240311506, 76.3628976755618, 72.8802849974317, 59.93440430908972, 132.96312298595493, 154.52493590356937, 228.01659838718052, 164.9474820066099, 418.31447919878985, 304.313616370072, 590.9241516078831, 1704.168194198593, 110.93095149087384, 269.88735618398084, 255.0624061613628, 137.4396423047337, 1133.8443893732854, 267.6754249383861, 190.10268727015242, 319.3392128970182, 321.0541243665059, 437.96928515823924, 455.28386820484315, 388.9224077848446, 393.8876801676608, 665.5819745912912, 1211.0269674809458, 168.80093871264836, 795.7056844295203, 297.0612468969084, 695.548695452412, 299.9393788650301, 1437.7853677015557, 365.3961577605339, 334.19208194435646, 671.0944983807149, 609.8008423610853], \"Category\": [\"Default\", \"Default\", \"Default\", \"Default\", \"Default\", \"Default\", \"Default\", \"Default\", \"Default\", \"Default\", \"Default\", \"Default\", \"Default\", \"Default\", \"Default\", \"Default\", \"Default\", \"Default\", \"Default\", \"Default\", \"Default\", \"Default\", \"Default\", \"Default\", \"Default\", \"Default\", \"Default\", \"Default\", \"Default\", \"Default\", \"Topic1\", \"Topic1\", \"Topic1\", \"Topic1\", \"Topic1\", \"Topic1\", \"Topic1\", \"Topic1\", \"Topic1\", \"Topic1\", \"Topic1\", \"Topic1\", \"Topic1\", \"Topic1\", \"Topic1\", \"Topic1\", \"Topic1\", \"Topic1\", \"Topic1\", \"Topic1\", \"Topic1\", \"Topic1\", \"Topic1\", \"Topic1\", \"Topic1\", \"Topic1\", \"Topic1\", \"Topic1\", \"Topic1\", \"Topic1\", \"Topic1\", \"Topic1\", \"Topic1\", \"Topic1\", \"Topic1\", \"Topic1\", \"Topic1\", \"Topic1\", \"Topic1\", \"Topic1\", \"Topic1\", \"Topic1\", \"Topic1\", \"Topic1\", \"Topic1\", \"Topic1\", \"Topic1\", \"Topic1\", \"Topic1\", \"Topic1\", \"Topic1\", \"Topic1\", \"Topic1\", \"Topic1\", \"Topic1\", \"Topic1\", \"Topic1\", \"Topic1\", \"Topic1\", \"Topic1\", \"Topic1\", \"Topic1\", \"Topic1\", \"Topic1\", \"Topic1\", \"Topic1\", \"Topic1\", \"Topic2\", \"Topic2\", \"Topic2\", \"Topic2\", \"Topic2\", \"Topic2\", \"Topic2\", \"Topic2\", \"Topic2\", \"Topic2\", \"Topic2\", \"Topic2\", \"Topic2\", \"Topic2\", \"Topic2\", \"Topic2\", \"Topic2\", \"Topic2\", \"Topic2\", \"Topic2\", \"Topic2\", \"Topic2\", \"Topic2\", \"Topic2\", \"Topic2\", \"Topic2\", \"Topic2\", \"Topic2\", \"Topic2\", \"Topic2\", \"Topic2\", \"Topic2\", \"Topic2\", \"Topic2\", \"Topic2\", \"Topic2\", \"Topic2\", \"Topic2\", \"Topic2\", \"Topic2\", \"Topic2\", \"Topic2\", \"Topic2\", \"Topic2\", \"Topic2\", \"Topic2\", \"Topic2\", \"Topic2\", \"Topic2\", \"Topic2\", \"Topic2\", \"Topic2\", \"Topic2\", \"Topic2\", \"Topic2\", \"Topic2\", \"Topic2\", \"Topic2\", \"Topic2\", \"Topic2\", \"Topic2\", \"Topic2\", \"Topic2\", \"Topic2\", \"Topic2\", \"Topic2\", \"Topic2\", \"Topic3\", \"Topic3\", \"Topic3\", \"Topic3\", \"Topic3\", \"Topic3\", \"Topic3\", \"Topic3\", \"Topic3\", \"Topic3\", \"Topic3\", \"Topic3\", \"Topic3\", \"Topic3\", \"Topic3\", \"Topic3\", \"Topic3\", \"Topic3\", \"Topic3\", \"Topic3\", \"Topic3\", \"Topic3\", \"Topic3\", \"Topic3\", \"Topic3\", \"Topic3\", \"Topic3\", \"Topic3\", \"Topic3\", \"Topic3\", \"Topic3\", \"Topic3\", \"Topic3\", \"Topic3\", \"Topic3\", \"Topic3\", \"Topic3\", \"Topic3\", \"Topic3\", \"Topic3\", \"Topic3\", \"Topic3\", \"Topic3\", \"Topic3\", \"Topic3\", \"Topic3\", \"Topic3\", \"Topic3\", \"Topic3\", \"Topic3\", \"Topic3\", \"Topic3\", \"Topic3\", \"Topic3\", \"Topic3\", \"Topic3\", \"Topic3\", \"Topic3\", \"Topic3\", \"Topic3\", \"Topic3\", \"Topic3\", \"Topic3\", \"Topic3\", \"Topic3\", \"Topic3\", \"Topic3\", \"Topic3\", \"Topic3\", \"Topic3\", \"Topic3\", \"Topic3\", \"Topic3\", \"Topic3\", \"Topic3\", \"Topic3\", \"Topic3\", \"Topic3\", \"Topic3\", \"Topic3\", \"Topic3\", \"Topic3\"], \"logprob\": [30.0, 29.0, 28.0, 27.0, 26.0, 25.0, 24.0, 23.0, 22.0, 21.0, 20.0, 19.0, 18.0, 17.0, 16.0, 15.0, 14.0, 13.0, 12.0, 11.0, 10.0, 9.0, 8.0, 7.0, 6.0, 5.0, 4.0, 3.0, 2.0, 1.0, -5.253200054168701, -6.06820011138916, -6.130199909210205, -5.927199840545654, -5.9278998374938965, -6.438499927520752, -5.952400207519531, -6.646500110626221, -6.577099800109863, -6.002399921417236, -6.5605998039245605, -6.453199863433838, -6.378300189971924, -6.82889986038208, -6.846399784088135, -6.0605998039245605, -7.155200004577637, -6.971700191497803, -7.133399963378906, -6.8927998542785645, -6.900199890136719, -6.9141998291015625, -6.843100070953369, -6.981400012969971, -6.88700008392334, -7.254899978637695, -7.301000118255615, -6.191999912261963, -7.3317999839782715, -7.234300136566162, -4.979499816894531, -5.465400218963623, -6.1020002365112305, -5.978799819946289, -6.051700115203857, -6.809500217437744, -6.030200004577637, -6.670899868011475, -6.0457000732421875, -5.979000091552734, -6.3607001304626465, -5.2642998695373535, -6.440400123596191, -5.476900100708008, -5.283100128173828, -6.465099811553955, -5.40339994430542, -6.348800182342529, -5.717100143432617, -6.0524001121521, -4.378499984741211, -4.98360013961792, -5.8516998291015625, -5.351600170135498, -5.822299957275391, -5.694200038909912, -5.603899955749512, -5.502099990844727, -5.453700065612793, -5.9156999588012695, -5.638500213623047, -5.868800163269043, -5.906199932098389, -5.8506999015808105, -5.864999771118164, -5.756199836730957, -5.967700004577637, -4.933499813079834, -5.939700126647949, -6.315899848937988, -6.220200061798096, -6.651700019836426, -6.69980001449585, -6.683499813079834, -6.940400123596191, -6.843599796295166, -6.612100124359131, -6.589799880981445, -6.59630012512207, -6.953700065612793, -6.790999889373779, -7.018599987030029, -7.066999912261963, -7.115200042724609, -6.901500225067139, -7.218200206756592, -6.594200134277344, -6.853000164031982, -6.897299766540527, -7.336900234222412, -7.031199932098389, -7.069499969482422, -7.248600006103516, -7.298999786376953, -6.646299839019775, -6.911900043487549, -6.957799911499023, -3.768399953842163, -4.279300212860107, -6.062900066375732, -5.326000213623047, -6.713900089263916, -5.614699840545654, -6.095200061798096, -6.06220006942749, -5.929200172424316, -6.570899963378906, -4.3684000968933105, -5.923099994659424, -5.916200160980225, -6.291600227355957, -5.274099826812744, -6.0295000076293945, -5.2291998863220215, -6.37939977645874, -5.024199962615967, -5.127799987792969, -5.535200119018555, -5.5954999923706055, -4.572700023651123, -5.0106000900268555, -5.9328999519348145, -5.521299839019775, -6.3805999755859375, -6.363100051879883, -5.485000133514404, -5.03249979019165, -4.80109977722168, -5.441199779510498, -5.779300212860107, -5.636099815368652, -5.8246002197265625, -6.008999824523926, -5.989799976348877, -6.652900218963623, -6.616799831390381, -7.050300121307373, -6.244800090789795, -7.473800182342529, -7.099599838256836, -7.037799835205078, -7.091599941253662, -7.463900089263916, -7.567399978637695, -7.251999855041504, -7.609799861907959, -7.209400177001953, -7.9095001220703125, -7.9197998046875, -8.010299682617188, -7.706600189208984, -7.598800182342529, -7.798600196838379, -8.103300094604492, -7.697700023651123, -7.2866997718811035, -7.330100059509277, -8.013999938964844, -7.495500087738037, -7.7652997970581055, -6.007999897003174, -7.359399795532227, -7.548799991607666, -7.952899932861328, -6.544600009918213, -6.698500156402588, -5.765100002288818, -5.852700233459473, -6.549200057983398, -6.744900226593018, -6.7480998039245605, -7.119999885559082, -7.01669979095459, -5.933499813079834, -6.597899913787842, -6.520500183105469, -7.019499778747559, -4.842100143432617, -6.127600193023682, -6.693399906158447, -6.732699871063232, -6.783699989318848, -6.964200019836426, -6.240499973297119, -6.109000205993652, -5.764800071716309, -6.071000099182129, -5.269899845123291, -5.599599838256836, -5.084499835968018, -4.222499847412109, -6.460299968719482, -5.749199867248535, -5.794899940490723, -6.29040002822876, -4.646900177001953, -5.771399974822998, -6.049600124359131, -5.673999786376953, -5.680500030517578, -5.456900119781494, -5.439599990844727, -5.555699825286865, -5.588699817657471, -5.251699924468994, -4.933800220489502, -6.171599864959717, -5.363699913024902, -5.885300159454346, -5.461299896240234, -5.931000232696533, -5.443600177764893, -5.8993000984191895, -5.927199840545654, -5.819300174713135, -5.9120001792907715], \"loglift\": [30.0, 29.0, 28.0, 27.0, 26.0, 25.0, 24.0, 23.0, 22.0, 21.0, 20.0, 19.0, 18.0, 17.0, 16.0, 15.0, 14.0, 13.0, 12.0, 11.0, 10.0, 9.0, 8.0, 7.0, 6.0, 5.0, 4.0, 3.0, 2.0, 1.0, 0.897, 0.897, 0.897, 0.8968, 0.8961, 0.8955, 0.8954, 0.8953, 0.8951, 0.895, 0.8942, 0.8939, 0.8935, 0.8933, 0.8933, 0.893, 0.8929, 0.8929, 0.8929, 0.8928, 0.8925, 0.8922, 0.8921, 0.8919, 0.8917, 0.8915, 0.8915, 0.8911, 0.891, 0.891, 0.8816, 0.8862, 0.8904, 0.8887, 0.8857, 0.8898, 0.8776, 0.8874, 0.8727, 0.869, 0.8771, 0.831, 0.8767, 0.8307, 0.8184, 0.872, 0.782, 0.8626, 0.8061, 0.8339, 0.6245, 0.6333, 0.7761, 0.626, 0.7253, 0.6449, 0.6072, 0.4832, 0.1409, 0.6505, 0.0906, 0.3252, 0.4246, 0.2438, 0.2831, -0.9232, -0.1945, 1.157, 1.1553, 1.1542, 1.152, 1.1515, 1.1513, 1.1509, 1.1506, 1.1502, 1.1498, 1.1494, 1.1491, 1.149, 1.1485, 1.1479, 1.1478, 1.1476, 1.1475, 1.1474, 1.1473, 1.147, 1.1468, 1.1465, 1.1464, 1.1462, 1.1459, 1.1458, 1.1456, 1.1456, 1.1451, 1.1312, 1.1266, 1.1444, 1.1346, 1.1434, 1.1304, 1.134, 1.1322, 1.117, 1.1356, 1.0652, 1.0991, 1.0954, 1.1106, 0.9724, 1.047, 0.923, 1.0808, 0.8365, 0.8508, 0.8915, 0.9041, 0.6019, 0.677, 0.9263, 0.7762, 1.0668, 1.0309, 0.4993, 0.2079, 0.0319, 0.3238, 0.5543, 0.3403, 0.446, 0.538, 0.2019, 1.2656, 1.2621, 1.2612, 1.2597, 1.2593, 1.2588, 1.2582, 1.2581, 1.2577, 1.2576, 1.2574, 1.2569, 1.2563, 1.2529, 1.2517, 1.2514, 1.2504, 1.25, 1.2495, 1.248, 1.2478, 1.2477, 1.2465, 1.2461, 1.2455, 1.2451, 1.2449, 1.2448, 1.2439, 1.2436, 1.2385, 1.2347, 1.2215, 1.2171, 1.2304, 1.2286, 1.2234, 1.2343, 1.2273, 1.1933, 1.2103, 1.2047, 1.2249, 1.1056, 1.176, 1.2034, 1.2056, 1.2013, 1.2164, 1.1432, 1.1245, 1.0796, 1.0972, 0.9677, 0.9562, 0.8076, 0.6105, 1.1047, 0.9266, 0.9374, 1.0602, 0.5936, 0.9127, 0.9767, 0.8336, 0.8217, 0.7348, 0.7133, 0.7547, 0.709, 0.5215, 0.2408, 0.9735, 0.2309, 0.6945, 0.2678, 0.6392, -0.4406, 0.4735, 0.5349, -0.0544, -0.0513]}, \"token.table\": {\"Topic\": [1, 2, 3, 1, 2, 3, 1, 2, 3, 1, 2, 3, 2, 3, 1, 2, 3, 1, 2, 1, 1, 1, 3, 3, 2, 1, 3, 2, 2, 1, 2, 3, 1, 3, 1, 2, 3, 1, 2, 3, 3, 1, 2, 3, 3, 2, 3, 2, 1, 3, 1, 2, 3, 2, 3, 1, 2, 3, 1, 2, 3, 1, 2, 3, 2, 2, 3, 1, 1, 1, 2, 3, 1, 1, 1, 2, 3, 3, 2, 3, 1, 3, 2, 1, 2, 3, 1, 2, 3, 1, 3, 1, 2, 3, 1, 1, 2, 1, 2, 3, 3, 1, 3, 1, 1, 2, 3, 1, 2, 3, 1, 3, 1, 2, 3, 1, 1, 2, 3, 1, 2, 3, 1, 2, 3, 1, 1, 2, 3, 3, 1, 2, 3, 1, 2, 3, 1, 2, 3, 1, 2, 3, 1, 2, 3, 1, 2, 3, 2, 2, 1, 2, 3, 1, 2, 3, 1, 3, 3, 1, 2, 3, 1, 2, 3, 3, 1, 3, 1, 2, 3, 1, 2, 3, 1, 2, 3, 1, 1, 2, 3, 1, 2, 3, 2, 3, 1, 2, 3, 1, 1, 3, 2, 1, 3, 1, 2, 3, 1, 2, 3, 1, 2, 3, 2, 1, 3, 1, 3, 1, 3, 1, 2, 3, 1, 2, 3, 1, 1, 2, 3, 1, 2, 3, 1, 2, 3, 1, 2, 3, 1, 2, 3, 1, 2, 3, 1, 2, 3, 2, 3, 1, 1, 2, 3, 1, 2, 3, 3, 1, 3, 1, 2, 3, 3, 1, 2, 3, 1, 3, 1, 2, 1, 2, 3, 2, 3, 2, 1, 2, 3, 2, 3, 1, 2, 3, 3, 2, 1, 2, 3, 1, 1, 2, 3, 2, 3, 1, 2, 3, 1, 3, 1, 2, 3, 2, 1, 2, 1, 3, 1, 2, 3, 1, 2, 1, 2, 3, 1, 2, 1, 2, 3, 1, 3, 1, 2, 3, 2, 1, 2, 3, 2, 1, 2, 1, 2, 3, 1, 2, 3, 3, 1, 2, 3, 1, 3, 3, 1, 2, 1, 2, 3, 1, 2, 3, 2, 2, 1, 2, 3, 1, 2, 1, 2, 1, 2, 3, 2, 3, 1, 2, 1, 2, 3, 1, 2, 3, 1, 2, 3, 1, 2, 3, 1, 2, 3, 2, 3, 2, 3, 1, 2, 3, 1, 1, 3, 2, 1, 2, 3, 1, 1, 2, 3, 1, 1, 3, 1, 2, 3, 1, 2, 3, 2, 3, 1, 2, 3, 1, 2, 3, 1, 2, 3, 1, 3, 1, 2, 3, 1, 2, 3, 3, 1, 1, 2, 3, 1, 2, 3, 1, 2, 3, 1, 2, 3, 1, 2, 1, 2, 3, 2], \"Freq\": [0.8409351871544788, 0.081485967747527, 0.081485967747527, 0.18950639486691306, 0.7766655527332502, 0.03417328432026301, 0.012562564333656599, 0.06281282166828299, 0.9296297606905883, 0.16858619287389792, 0.1215388832346706, 0.7135508628616145, 0.025485286214926354, 0.9684408761672014, 0.9749156704343456, 0.019498313408686914, 0.006499437802895637, 0.9940376389167094, 0.9837174434410452, 0.9975347373253993, 0.9984989334792287, 0.9916891012344622, 0.010171170269071408, 0.9684071488077611, 0.9880046453776242, 0.040693481186450574, 0.9495145610171801, 0.9973332775211199, 0.9914409534585097, 0.9860073386292569, 0.008038103304042855, 0.00535873553602857, 0.02479172704247658, 0.9668773546565866, 0.46876628796163705, 0.17971468948663297, 0.35188890249130933, 0.06065304259193859, 0.7653836327077965, 0.17329440740553884, 0.982236627022437, 0.006443597750572165, 0.9729832603363968, 0.019330793251716494, 0.9680097556461502, 0.008485949399086073, 0.9843701302939846, 0.9889217134145633, 0.9898888510515944, 0.010311342198454108, 0.006223234491800669, 0.977047815212705, 0.018669703475402005, 0.05005472290220154, 0.9343548275077621, 0.8894432907029083, 0.004537975972974022, 0.10437344737840251, 0.011951562465827792, 0.9770402315814221, 0.008963671849370844, 0.02670616176386015, 0.7922827989945178, 0.17804107842573436, 0.9987400239078905, 0.9841133174095439, 0.011311647326546482, 0.9937797676087481, 0.9936092595432334, 0.3350451311980555, 0.19531778948765566, 0.47026513930489405, 0.9946060109472956, 0.9939412327916926, 0.9761316113326605, 0.014354876637245008, 0.014354876637245008, 0.9888926164149373, 0.9499552105529592, 0.04596557470417545, 0.977997168911942, 0.02110785256644479, 0.9849798786688969, 0.9096636340110661, 0.0318064207696177, 0.05725155738531185, 0.9766179040580462, 0.004672812938076775, 0.0186912517523071, 0.9332323065800957, 0.06665945047000683, 0.1856686140770837, 0.5374617775915581, 0.27687424906231783, 0.9866526464787294, 0.015438694877968822, 0.9880764721900046, 0.034248977059157165, 0.3835885430625603, 0.5822326100056718, 0.9852376172887937, 0.9967088783157345, 0.0021905689633312845, 0.9947422118091976, 0.10663447808570302, 0.15402757945712658, 0.7405172089284932, 0.9866126124921407, 0.004812744451181175, 0.00962548890236235, 0.9727950878804431, 0.023611531259234056, 0.5179514997674729, 0.27762200387536545, 0.20303698790884936, 0.9920371552026667, 0.05009053180096026, 0.10554790629488053, 0.8443832503590443, 0.01985001985359615, 0.01985001985359615, 0.9528009529726151, 0.2995777881394324, 0.13201733036652955, 0.5686900385019734, 0.9962738195406919, 0.9330820922758073, 0.049764378254709724, 0.01658812608490324, 0.9888139403727614, 0.33139296274082497, 0.4418572836544333, 0.22645185787289707, 0.9222010212501736, 0.0354692700480836, 0.04381498064763268, 0.10759853922056586, 0.3862963949066217, 0.5053603522408544, 0.15919079555765736, 0.8297217223005172, 0.009647927003494386, 0.06349429303509437, 0.010582382172515727, 0.931249631181384, 0.07101410811593105, 0.5730673375866994, 0.35507054057965526, 0.9871616702119088, 0.996346652977189, 0.53991784220759, 0.3431866446420713, 0.11585281634413873, 0.040613135648254806, 0.013537711882751602, 0.9476398317926121, 0.023179836245056647, 0.9735531222923791, 0.9798073310685957, 0.013721131853905895, 0.06860565926952947, 0.9330369660656008, 0.005816581774866526, 0.07561556307326485, 0.9190199204289112, 0.9677355948428278, 0.9850431888272039, 0.008954938080247308, 0.29445403361252426, 0.07953643436660138, 0.626137887566862, 0.8828296974819991, 0.07768901337841592, 0.03884450668920796, 0.01665026494405612, 0.9688372914322654, 0.014568981826049104, 0.994158910492593, 0.19124367904555056, 0.07410692563015084, 0.7338976183373003, 0.6218607329346402, 0.27026014975640483, 0.10757928291274367, 0.15324848269600005, 0.8473739631425885, 0.7803704716514477, 0.0066414508225655115, 0.21252642632209637, 0.9950966652672175, 0.9374585699894213, 0.059448592243231596, 0.9920667715530311, 0.0382590633758628, 0.95647658439657, 0.43682911270255514, 0.5473521412176595, 0.01578900407358633, 0.03756355684661286, 0.9605538107919575, 0.00536622240665898, 0.33353351270808146, 0.49165310391783856, 0.17788454011097676, 0.996710201535889, 0.01975871597512515, 0.9879357987562576, 0.9945004423575518, 0.004400444435210406, 0.13590039612185933, 0.8607025087717758, 0.765961936949672, 0.132372616620497, 0.10152851177688606, 0.2133764504086654, 0.25671854189792553, 0.5301071189840281, 0.9891227941116809, 0.16136904851068545, 0.3244984866414875, 0.5140337690740381, 0.036146920177975335, 0.23659802298311128, 0.7262244872120499, 0.26257211539635456, 0.17841438610265115, 0.5588073225101904, 0.2522939088847611, 0.11213062617100493, 0.6354068816356946, 0.009839277979296693, 0.724826811141523, 0.26566050544101066, 0.18917394984448754, 0.0072759211478649055, 0.8076272474130045, 0.15762592846951193, 0.006062535710365843, 0.8366299280304864, 0.018725645381874434, 0.9737335598574706, 0.9953855374247309, 0.19798293556435323, 0.20826776338587807, 0.5939488066930597, 0.17777519331852631, 0.7901119703045614, 0.03072657662295516, 0.9837926452329417, 0.9961668220373524, 0.9940783565492274, 0.9621361667668336, 0.0063298432024133785, 0.03164921601206689, 0.9885741886583235, 0.08966082712122099, 0.2166803322096174, 0.6948714101894627, 0.01993081930519524, 0.9766101459545669, 0.00743410619045551, 0.9961702295210383, 0.7612230497491931, 0.03870625676690813, 0.20090390417109455, 0.0654768238529028, 0.9297708987112197, 0.9952263066040881, 0.09956609157812064, 0.8960948242030857, 0.005531449532117813, 0.03555372485877542, 0.9599505711869364, 0.13150787271340794, 0.12624755780487162, 0.7417044021036208, 0.9745047837427654, 0.9964658057606508, 0.747332689076039, 0.09079742951391129, 0.16296974528137922, 0.9969457173659309, 0.01504176462680756, 0.1128132347010567, 0.8724223483548385, 0.9883857654639656, 0.014752026350208442, 0.5027049085740226, 0.020946037857250945, 0.4757742884718429, 0.9952758123941474, 0.006724836570230726, 0.563039823087587, 0.13046044681297747, 0.3066964889989295, 0.9778894855672701, 0.993178407168216, 0.9937665174044658, 0.9929402795819066, 0.004891331426511855, 0.003971210159753458, 0.9729464891395972, 0.023827260958520752, 0.057023073340257364, 0.9382887522351439, 0.006304190379510515, 0.9834536992036403, 0.006304190379510515, 0.012075820078420998, 0.9902172464305219, 0.9827498333523109, 0.004921952420796215, 0.013125206455456572, 0.987353241454619, 0.008975938558678355, 0.007597832497474741, 0.8813485697070699, 0.11396748746212111, 0.9898650276020334, 0.026391318866037624, 0.006597829716509406, 0.9698809683268826, 0.9878125456872494, 0.010731422300237449, 0.9872908516218453, 0.9683916018906734, 0.00440178000859397, 0.02641068005156382, 0.013029534608516087, 0.026059069217032174, 0.9641855610301904, 0.9856664119392254, 0.9942587610159787, 0.004624459353562691, 0.993168642430032, 0.022188443113050387, 0.976291496974217, 0.9792030100557091, 0.010756477447816166, 0.9895959251990872, 0.7753000940500532, 0.007938226218942523, 0.21697818331776234, 0.0043906749059230135, 0.9734753505703595, 0.021953374529615065, 0.9841054713517049, 0.9946943837891169, 0.010385067082277245, 0.9761963057340611, 0.010385067082277245, 0.98705027993028, 0.9918964245499321, 0.010797599354964722, 0.9933791406567545, 0.36241125926685047, 0.068089388104681, 0.568875855455238, 0.0335192870524958, 0.960886228838213, 0.996851922018203, 0.9961580625452008, 0.011212349977781644, 0.022424699955563288, 0.9642620980892214, 0.2258895932089078, 0.6827449502606315, 0.09137107141034474, 0.3194095678844595, 0.03757759622170112, 0.6419506021207275, 0.0406551916849872, 0.9115321925160289, 0.048144305942748, 0.011497372324777997, 0.05748686162388998, 0.9312871583070177, 0.05335215196397608, 0.9425546846969107, 0.9429684242813492, 0.0576258481505269, 0.2638334029896759, 0.7361505440061585, 0.0018449888320956355, 0.9997381951428328, 0.029223522721285766, 0.9643762498024302, 0.9915443281939158, 0.004385645637524876, 0.17542582550099506, 0.8201157342171519, 0.9996264484243297, 0.30100082847856174, 0.4336200053824825, 0.26374825069656155, 0.991776131394323, 0.03077121598764, 0.95390769561684, 0.010111583116462467, 0.04044633246584987, 0.9454330213892406, 0.0649449443449209, 0.9254654569151229, 0.008118118043115113, 0.012339618509083071, 0.9871694807266457, 0.006941597224064661, 0.08329916668877593, 0.9024076391284059, 0.432407393028875, 0.12041724869158543, 0.4488279269413639, 0.07214220245825141, 0.9138012311378512, 0.016031600546278092, 0.05494293077578459, 0.9450184093434949, 0.023768158596670582, 0.023768158596670582, 0.9744945024634938, 0.12968373359491756, 0.1630309793764678, 0.7039974109438383, 0.9764125642717814, 0.993278925666374, 0.2171114214710216, 0.517727235815513, 0.26535840402013755, 0.759501400230322, 0.060509726941426756, 0.1794426385159552, 0.2799766641307648, 0.6178795346334119, 0.1020604588456975, 0.6594207726257897, 0.1764647138012677, 0.16531957398224023, 0.9911152778158249, 0.0055680633585158705, 0.4456912967083691, 0.18977822956614426, 0.36517932052879276, 0.981413073908616], \"Term\": [\"ability\", \"ability\", \"ability\", \"academy\", \"academy\", \"academy\", \"accepts\", \"accepts\", \"accepts\", \"adventure\", \"adventure\", \"adventure\", \"akane\", \"akane\", \"alien\", \"alien\", \"alien\", \"ancient\", \"animation\", \"arm\", \"army\", \"attack\", \"attack\", \"aunt\", \"average\", \"avoid\", \"avoid\", \"baseball\", \"basketball\", \"battle\", \"battle\", \"battle\", \"beauty\", \"beauty\", \"begin\", \"begin\", \"begin\", \"best\", \"best\", \"best\", \"blossom\", \"boy\", \"boy\", \"boy\", \"broken\", \"care\", \"care\", \"career\", \"century\", \"century\", \"character\", \"character\", \"character\", \"charm\", \"charm\", \"city\", \"city\", \"city\", \"class\", \"class\", \"class\", \"classmate\", \"classmate\", \"classmate\", \"club\", \"college\", \"college\", \"colony\", \"combat\", \"come\", \"come\", \"come\", \"command\", \"conquer\", \"control\", \"control\", \"control\", \"cousin\", \"daily\", \"daily\", \"dark\", \"dark\", \"date\", \"death\", \"death\", \"death\", \"defeat\", \"defeat\", \"defeat\", \"demon\", \"demon\", \"despite\", \"despite\", \"despite\", \"destruction\", \"director\", \"director\", \"dream\", \"dream\", \"dream\", \"dungeon\", \"earth\", \"earth\", \"empire\", \"end\", \"end\", \"end\", \"enemy\", \"enemy\", \"enemy\", \"evil\", \"evil\", \"face\", \"face\", \"face\", \"faction\", \"family\", \"family\", \"family\", \"fantasy\", \"fantasy\", \"fantasy\", \"father\", \"father\", \"father\", \"federation\", \"fight\", \"fight\", \"fight\", \"flower\", \"follow\", \"follow\", \"follow\", \"force\", \"force\", \"force\", \"friend\", \"friend\", \"friend\", \"game\", \"game\", \"game\", \"gang\", \"gang\", \"gang\", \"girl\", \"girl\", \"girl\", \"girlfriend\", \"graduate\", \"group\", \"group\", \"group\", \"grown\", \"grown\", \"grown\", \"guild\", \"guild\", \"happily\", \"happy\", \"happy\", \"happy\", \"heart\", \"heart\", \"heart\", \"hearted\", \"hell\", \"hell\", \"help\", \"help\", \"help\", \"hero\", \"hero\", \"hero\", \"high\", \"high\", \"high\", \"holy\", \"home\", \"home\", \"home\", \"hope\", \"hope\", \"hope\", \"house\", \"house\", \"human\", \"human\", \"human\", \"humanity\", \"humans\", \"humans\", \"idol\", \"item\", \"item\", \"japan\", \"japan\", \"japan\", \"japanese\", \"japanese\", \"japanese\", \"join\", \"join\", \"join\", \"junior\", \"kazuma\", \"kazuma\", \"king\", \"king\", \"kingdom\", \"kingdom\", \"know\", \"know\", \"know\", \"learn\", \"learn\", \"learn\", \"legend\", \"life\", \"life\", \"life\", \"little\", \"little\", \"little\", \"live\", \"live\", \"live\", \"living\", \"living\", \"living\", \"love\", \"love\", \"love\", \"magic\", \"magic\", \"magic\", \"magical\", \"magical\", \"magical\", \"makoto\", \"makoto\", \"mankind\", \"meet\", \"meet\", \"meet\", \"member\", \"member\", \"member\", \"mermaid\", \"military\", \"misfortune\", \"mission\", \"mission\", \"mission\", \"money\", \"mother\", \"mother\", \"mother\", \"mountain\", \"mountain\", \"music\", \"music\", \"mysterious\", \"mysterious\", \"mysterious\", \"nanami\", \"nanami\", \"national\", \"natsume\", \"natsume\", \"natsume\", \"neighbor\", \"neighbor\", \"night\", \"night\", \"night\", \"ninja\", \"older\", \"order\", \"order\", \"order\", \"organization\", \"parent\", \"parent\", \"parent\", \"passion\", \"passion\", \"past\", \"past\", \"past\", \"peace\", \"peace\", \"people\", \"people\", \"people\", \"performance\", \"pilot\", \"pitcher\", \"planet\", \"planet\", \"play\", \"play\", \"play\", \"player\", \"player\", \"popular\", \"popular\", \"popular\", \"position\", \"position\", \"power\", \"power\", \"power\", \"powerful\", \"powerful\", \"president\", \"president\", \"president\", \"prestigious\", \"princess\", \"princess\", \"princess\", \"private\", \"professional\", \"professional\", \"protect\", \"protect\", \"protect\", \"quiet\", \"quiet\", \"quiet\", \"rabbit\", \"race\", \"race\", \"residence\", \"reunite\", \"reunite\", \"river\", \"samurai\", \"samurai\", \"save\", \"save\", \"save\", \"school\", \"school\", \"school\", \"senior\", \"sensei\", \"share\", \"share\", \"share\", \"ship\", \"soccer\", \"solve\", \"solve\", \"soon\", \"soon\", \"soon\", \"souma\", \"souma\", \"space\", \"sport\", \"stay\", \"stay\", \"stay\", \"story\", \"story\", \"story\", \"strange\", \"strange\", \"strange\", \"student\", \"student\", \"student\", \"summer\", \"summer\", \"summer\", \"talk\", \"talk\", \"teacher\", \"teacher\", \"team\", \"team\", \"team\", \"technology\", \"teenage\", \"teenage\", \"tennis\", \"things\", \"things\", \"things\", \"threat\", \"time\", \"time\", \"time\", \"titan\", \"tower\", \"tower\", \"town\", \"town\", \"town\", \"transfer\", \"transfer\", \"transfer\", \"trip\", \"trip\", \"trouble\", \"trouble\", \"trouble\", \"turn\", \"turn\", \"turn\", \"unique\", \"unique\", \"unique\", \"village\", \"village\", \"wait\", \"wait\", \"wait\", \"want\", \"want\", \"want\", \"warm\", \"weapon\", \"work\", \"work\", \"work\", \"world\", \"world\", \"world\", \"year\", \"year\", \"year\", \"years\", \"years\", \"years\", \"youkai\", \"youkai\", \"young\", \"young\", \"young\", \"yuki\"]}, \"R\": 30, \"lambda.step\": 0.01, \"plot.opts\": {\"xlab\": \"PC1\", \"ylab\": \"PC2\"}, \"topic.order\": [3, 1, 2]};\n",
       "\n",
       "function LDAvis_load_lib(url, callback){\n",
       "  var s = document.createElement('script');\n",
       "  s.src = url;\n",
       "  s.async = true;\n",
       "  s.onreadystatechange = s.onload = callback;\n",
       "  s.onerror = function(){console.warn(\"failed to load library \" + url);};\n",
       "  document.getElementsByTagName(\"head\")[0].appendChild(s);\n",
       "}\n",
       "\n",
       "if(typeof(LDAvis) !== \"undefined\"){\n",
       "   // already loaded: just create the visualization\n",
       "   !function(LDAvis){\n",
       "       new LDAvis(\"#\" + \"ldavis_el152529632972026889256019435\", ldavis_el152529632972026889256019435_data);\n",
       "   }(LDAvis);\n",
       "}else if(typeof define === \"function\" && define.amd){\n",
       "   // require.js is available: use it to load d3/LDAvis\n",
       "   require.config({paths: {d3: \"https://cdnjs.cloudflare.com/ajax/libs/d3/3.5.5/d3.min\"}});\n",
       "   require([\"d3\"], function(d3){\n",
       "      window.d3 = d3;\n",
       "      LDAvis_load_lib(\"https://cdn.rawgit.com/bmabey/pyLDAvis/files/ldavis.v1.0.0.js\", function(){\n",
       "        new LDAvis(\"#\" + \"ldavis_el152529632972026889256019435\", ldavis_el152529632972026889256019435_data);\n",
       "      });\n",
       "    });\n",
       "}else{\n",
       "    // require.js not available: dynamically load d3 & LDAvis\n",
       "    LDAvis_load_lib(\"https://cdnjs.cloudflare.com/ajax/libs/d3/3.5.5/d3.min.js\", function(){\n",
       "         LDAvis_load_lib(\"https://cdn.rawgit.com/bmabey/pyLDAvis/files/ldavis.v1.0.0.js\", function(){\n",
       "                 new LDAvis(\"#\" + \"ldavis_el152529632972026889256019435\", ldavis_el152529632972026889256019435_data);\n",
       "            })\n",
       "         });\n",
       "}\n",
       "</script>"
      ],
      "text/plain": [
       "PreparedData(topic_coordinates=              x         y  topics  cluster       Freq\n",
       "topic                                                \n",
       "2      0.173361 -0.059036       1        1  40.668223\n",
       "0     -0.156088 -0.081073       2        1  31.404682\n",
       "1     -0.017273  0.140109       3        1  27.927095, topic_info=         Term         Freq        Total Category  logprob  loglift\n",
       "383    school  1594.000000  1594.000000  Default  30.0000  30.0000\n",
       "361      high   960.000000   960.000000  Default  29.0000  29.0000\n",
       "548   student   934.000000   934.000000  Default  28.0000  28.0000\n",
       "1350     club   484.000000   484.000000  Default  27.0000  27.0000\n",
       "325     power   609.000000   609.000000  Default  26.0000  26.0000\n",
       "...       ...          ...          ...      ...      ...      ...\n",
       "154     world   258.449466  1437.785368   Topic3  -5.4436  -0.4406\n",
       "513      turn   163.843373   365.396158   Topic3  -5.8993   0.4735\n",
       "202      past   159.345098   334.192082   Topic3  -5.9272   0.5349\n",
       "74       time   177.497569   671.094498   Topic3  -5.8193  -0.0544\n",
       "117      love   161.788499   609.800842   Topic3  -5.9120  -0.0513\n",
       "\n",
       "[246 rows x 6 columns], token_table=      Topic      Freq     Term\n",
       "term                          \n",
       "656       1  0.840935  ability\n",
       "656       2  0.081486  ability\n",
       "656       3  0.081486  ability\n",
       "519       1  0.189506  academy\n",
       "519       2  0.776666  academy\n",
       "...     ...       ...      ...\n",
       "674       2  0.005568   youkai\n",
       "80        1  0.445691    young\n",
       "80        2  0.189778    young\n",
       "80        3  0.365179    young\n",
       "2988      2  0.981413     yuki\n",
       "\n",
       "[443 rows x 3 columns], R=30, lambda_step=0.01, plot_opts={'xlab': 'PC1', 'ylab': 'PC2'}, topic_order=[3, 1, 2])"
      ]
     },
     "execution_count": 6,
     "metadata": {},
     "output_type": "execute_result"
    }
   ],
   "source": [
    "import pyLDAvis\n",
    "import pyLDAvis.gensim\n",
    "\n",
    "pyLDAvis.enable_notebook()\n",
    "LDAvis_display = pyLDAvis.gensim.prepare(lda_best, corpus, id2word)\n",
    "LDAvis_display"
   ]
  },
  {
   "cell_type": "markdown",
   "metadata": {},
   "source": [
    "## Conclusion <a name='conclusion'/>\n",
    "\n",
    "> The quantitative output provides some assistance, and shows that *k* should be kept around 3 - 5.\n",
    ">\n",
    "> However, we also consider which topic count produces the best genres based on eyeballing the results.\n",
    ">\n",
    "> With these considerations in mind, we conclude that $k = 4$."
   ]
  }
 ],
 "metadata": {
  "kernelspec": {
   "display_name": "Python 3",
   "language": "python",
   "name": "python3"
  },
  "language_info": {
   "codemirror_mode": {
    "name": "ipython",
    "version": 3
   },
   "file_extension": ".py",
   "mimetype": "text/x-python",
   "name": "python",
   "nbconvert_exporter": "python",
   "pygments_lexer": "ipython3",
   "version": "3.8.5"
  }
 },
 "nbformat": 4,
 "nbformat_minor": 4
}
