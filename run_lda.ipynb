{
 "cells": [
  {
   "cell_type": "code",
   "execution_count": 1,
   "metadata": {},
   "outputs": [],
   "source": [
    "# Optimal parameters\n",
    "\n",
    "k = 4\n",
    "r = 1\n",
    "alpha = None\n",
    "eta = None"
   ]
  },
  {
   "cell_type": "code",
   "execution_count": 2,
   "metadata": {},
   "outputs": [],
   "source": [
    "# Read input text\n",
    "\n",
    "from gensim.corpora.dictionary import Dictionary\n",
    "from lda_helpers import read_lda_input  # Package with helpers\n",
    "\n",
    "title_texts = read_lda_input('lda_input.jl', title=True)\n",
    "texts = [title_text[1] for title_text in title_texts]\n",
    "id2word = Dictionary(texts)\n",
    "corpus = [id2word.doc2bow(text) for text in texts]"
   ]
  },
  {
   "cell_type": "code",
   "execution_count": 3,
   "metadata": {},
   "outputs": [],
   "source": [
    "# Run model, and save\n",
    "\n",
    "from lda_helpers import get_lda_model\n",
    "\n",
    "lda_model = get_lda_model(corpus, id2word, k, r, alpha, eta)"
   ]
  },
  {
   "cell_type": "code",
   "execution_count": 4,
   "metadata": {},
   "outputs": [],
   "source": [
    "lda_model.save('lda_output/lda_model')"
   ]
  },
  {
   "cell_type": "code",
   "execution_count": 5,
   "metadata": {},
   "outputs": [],
   "source": [
    "# Write Genre Names to file\n",
    "\n",
    "import json\n",
    "\n",
    "k_names = ['Potato', 'Lettuce', 'Cabbage', 'Broccoli']\n",
    "\n",
    "with open('lda_output/genre_names.jl', 'w') as f:\n",
    "    for i in range(k):\n",
    "        # Write output JSON as newline\n",
    "        record = {\n",
    "            'LDA Genre ID': i,\n",
    "            'LDA Genre Name': k_names[i]\n",
    "        }\n",
    "        line = json.dumps(record)\n",
    "        f.write('{}\\n'.format(line))"
   ]
  },
  {
   "cell_type": "code",
   "execution_count": 6,
   "metadata": {},
   "outputs": [],
   "source": [
    "# Write each Genre's word-distribution to file\n",
    "\n",
    "with open('lda_output/genre_word_weights.jl', 'w') as f:\n",
    "    for i in range(k):\n",
    "        genre = lda_model.show_topic(i, topn=30)\n",
    "        for word, word_weight in genre:\n",
    "            # Write output JSON as newline\n",
    "            record = {\n",
    "                'LDA Genre ID': i,\n",
    "                'Word': word,\n",
    "                'Weight': float(word_weight)\n",
    "            }\n",
    "            line = json.dumps(record)\n",
    "            f.write('{}\\n'.format(line))"
   ]
  },
  {
   "cell_type": "code",
   "execution_count": 7,
   "metadata": {},
   "outputs": [],
   "source": [
    "# Write each Anime's genre-breakdown to file\n",
    "\n",
    "with open('lda_output/anime_genre_weights.jl', 'w') as f:\n",
    "    for i, bow in enumerate(corpus):\n",
    "        title = title_texts[i][0]\n",
    "        anime_genres = lda_model.get_document_topics(bow, minimum_probability=0)\n",
    "        for genre_id, genre_weight in anime_genres:\n",
    "            # Write output JSON as newline\n",
    "            record = {\n",
    "                'Title': title,\n",
    "                'LDA Genre ID': genre_id,\n",
    "                'LDA Genre Weight': float(genre_weight)\n",
    "            }\n",
    "            line = json.dumps(record)\n",
    "            f.write('{}\\n'.format(line))"
   ]
  },
  {
   "cell_type": "code",
   "execution_count": null,
   "metadata": {},
   "outputs": [],
   "source": []
  }
 ],
 "metadata": {
  "kernelspec": {
   "display_name": "Python 3",
   "language": "python",
   "name": "python3"
  },
  "language_info": {
   "codemirror_mode": {
    "name": "ipython",
    "version": 3
   },
   "file_extension": ".py",
   "mimetype": "text/x-python",
   "name": "python",
   "nbconvert_exporter": "python",
   "pygments_lexer": "ipython3",
   "version": "3.8.5"
  }
 },
 "nbformat": 4,
 "nbformat_minor": 4
}
